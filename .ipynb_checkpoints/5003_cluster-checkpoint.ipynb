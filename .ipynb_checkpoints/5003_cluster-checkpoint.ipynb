{
 "cells": [
  {
   "cell_type": "code",
   "execution_count": 2,
   "metadata": {},
   "outputs": [],
   "source": [
    "import numpy as np\n",
    "import pandas as pd\n",
    "import pylab as pl\n",
    "from sklearn.cluster import KMeans\n",
    "from sklearn.decomposition import PCA\n",
    "import matplotlib.pyplot as plt\n",
    "import seaborn as sns\n",
    "from pyspark.sql.functions import col"
   ]
  },
  {
   "cell_type": "code",
   "execution_count": 3,
   "metadata": {},
   "outputs": [],
   "source": [
    "# df5 = pd.read_csv(\"/Users/apple/Desktop/5003-project/moviedata/TMD/movies_metadata.csv\")\n",
    "df = spark.read.csv(\"/Users/apple/Desktop/5003-project/moviedata/TMD/movies_metadata.csv\", header=True, inferSchema=True,multiLine=True,escape='\"')"
   ]
  },
  {
   "cell_type": "code",
   "execution_count": 4,
   "metadata": {},
   "outputs": [
    {
     "data": {
      "text/plain": [
       "DataFrame[adult: string, belongs_to_collection: string, budget: string, genres: string, homepage: string, id: string, imdb_id: string, original_language: string, original_title: string, overview: string, popularity: string, poster_path: string, production_companies: string, production_countries: string, release_date: string, revenue: bigint, runtime: double, spoken_languages: string, status: string, tagline: string, title: string, video: boolean, vote_average: double, vote_count: int]"
      ]
     },
     "execution_count": 4,
     "metadata": {},
     "output_type": "execute_result"
    }
   ],
   "source": [
    "# df5.drop(df5.index[19730],inplace=True)\n",
    "# df5.drop(df5.index[29502],inplace=True)\n",
    "# df5.drop(df5.index[35585],inplace=True)\n",
    "df"
   ]
  },
  {
   "cell_type": "code",
   "execution_count": 5,
   "metadata": {
    "scrolled": true
   },
   "outputs": [
    {
     "name": "stdout",
     "output_type": "stream",
     "text": [
      "+-----+--------+----------+---------+-------+------------+----------+--------------------+\n",
      "|   id|  budget|popularity|  revenue|runtime|vote_average|vote_count|               title|\n",
      "+-----+--------+----------+---------+-------+------------+----------+--------------------+\n",
      "|  862|30000000| 21.946943|373554033|   81.0|         7.7|      5415|           Toy Story|\n",
      "| 8844|65000000| 17.015539|262797249|  104.0|         6.9|      2413|             Jumanji|\n",
      "|  949|60000000| 17.924927|187436818|  170.0|         7.7|      1886|                Heat|\n",
      "| 9091|35000000|   5.23158| 64350171|  106.0|         5.5|       174|        Sudden Death|\n",
      "|  710|58000000| 14.686036|352194034|  130.0|         6.6|      1194|           GoldenEye|\n",
      "| 9087|62000000|  6.318445|107879496|  106.0|         6.5|       199|The American Pres...|\n",
      "| 1408|98000000|  7.284477| 10017322|  119.0|         5.7|       137|    Cutthroat Island|\n",
      "|  524|52000000| 10.137389|116112375|  178.0|         7.8|      1343|              Casino|\n",
      "| 4584|16500000| 10.673167|135000000|  136.0|         7.2|       364|Sense and Sensibi...|\n",
      "|    5| 4000000|  9.026586|  4300000|   98.0|         6.5|       539|          Four Rooms|\n",
      "| 9273|30000000|  8.205448|212385533|   90.0|         6.1|      1128|Ace Ventura: When...|\n",
      "|11517|60000000|  7.337906| 35431113|  103.0|         5.4|       224|         Money Train|\n",
      "| 8012|30250000| 12.669608|115101622|  105.0|         6.4|       305|          Get Shorty|\n",
      "| 9691|50000000| 11.065939| 30303072|  132.0|         6.0|       394|           Assassins|\n",
      "|  451| 3600000| 10.332025| 49800000|  112.0|         7.1|       365|   Leaving Las Vegas|\n",
      "|  902|18000000|  9.822423|  1738611|  108.0|         7.6|       308|The City of Lost ...|\n",
      "|   63|29500000| 12.297305|168840000|  129.0|         7.4|      2470|      Twelve Monkeys|\n",
      "| 9598|30000000| 14.404764|254134910|   89.0|         6.0|       756|                Babe|\n",
      "|  687|11000000|  6.891317| 39363635|  122.0|         7.3|       350|    Dead Man Walking|\n",
      "| 9312|18000000| 10.870138|122195920|  101.0|         5.4|       452|       Mortal Kombat|\n",
      "+-----+--------+----------+---------+-------+------------+----------+--------------------+\n",
      "only showing top 20 rows\n",
      "\n"
     ]
    }
   ],
   "source": [
    "# 取出数据,转换类型\n",
    "df_numeric = df.select(df['id'].astype('int'),df['budget'].astype('int'),df['popularity'].astype('double'),'revenue','runtime','vote_average','vote_count','title')\n",
    "# 删除空白行,去掉几个值为零的\n",
    "dfn = df_numeric.dropna()\n",
    "dfn1 = dfn.where(col('budget')!=0).where((col('revenue')!=0)&(col('runtime')!=0)&(col('popularity')!=0)&(col('vote_average')!=0)&(col('vote_count')>100)).select('id','budget','popularity','revenue','runtime','vote_average','vote_count','title')\n",
    "dfn1.show()"
   ]
  },
  {
   "cell_type": "code",
   "execution_count": 6,
   "metadata": {
    "scrolled": true
   },
   "outputs": [
    {
     "name": "stdout",
     "output_type": "stream",
     "text": [
      "+-------+-----------------+-------------------+------------------+--------------------+\n",
      "|summary|               id|             budget|        popularity|             revenue|\n",
      "+-------+-----------------+-------------------+------------------+--------------------+\n",
      "|  count|             3793|               3793|              3793|                3793|\n",
      "|   mean|58722.31373582916|3.992022711890324E7|12.145752633799113|1.2303170756208806E8|\n",
      "| stddev|96257.46345259793|4.428563593487887E7|15.723544794986447|1.8778476537694427E8|\n",
      "|    min|                5|                  1|          0.338943|                   3|\n",
      "|    max|           419430|          380000000|        547.488298|          2787965087|\n",
      "+-------+-----------------+-------------------+------------------+--------------------+\n",
      "\n",
      "+-------+-----------------+------------------+------------------+------------------+\n",
      "|summary|               id|           runtime|      vote_average|        vote_count|\n",
      "+-------+-----------------+------------------+------------------+------------------+\n",
      "|  count|             3793|              3793|              3793|              3793|\n",
      "|   mean|58722.31373582916| 110.1571315581334| 6.406617453203265|1021.9398892697074|\n",
      "| stddev|96257.46345259793|20.003047958619927|0.8317702484990258| 1391.963366540518|\n",
      "|    min|                5|              26.0|               2.8|               101|\n",
      "|    max|           419430|             248.0|               9.1|             14075|\n",
      "+-------+-----------------+------------------+------------------+------------------+\n",
      "\n"
     ]
    }
   ],
   "source": [
    "dfn1.describe('id','budget','popularity','revenue').show()\n",
    "dfn1.describe('id','runtime','vote_average','vote_count').show()"
   ]
  },
  {
   "cell_type": "code",
   "execution_count": 7,
   "metadata": {
    "scrolled": true
   },
   "outputs": [
    {
     "name": "stdout",
     "output_type": "stream",
     "text": [
      "+-----+--------+----------+---------+-------+------------+----------+\n",
      "|   id|  budget|popularity|  revenue|runtime|vote_average|vote_count|\n",
      "+-----+--------+----------+---------+-------+------------+----------+\n",
      "|  862|30000000| 21.946943|373554033|   81.0|         7.7|      5415|\n",
      "| 8844|65000000| 17.015539|262797249|  104.0|         6.9|      2413|\n",
      "|  949|60000000| 17.924927|187436818|  170.0|         7.7|      1886|\n",
      "| 9091|35000000|   5.23158| 64350171|  106.0|         5.5|       174|\n",
      "|  710|58000000| 14.686036|352194034|  130.0|         6.6|      1194|\n",
      "| 9087|62000000|  6.318445|107879496|  106.0|         6.5|       199|\n",
      "| 1408|98000000|  7.284477| 10017322|  119.0|         5.7|       137|\n",
      "|  524|52000000| 10.137389|116112375|  178.0|         7.8|      1343|\n",
      "| 4584|16500000| 10.673167|135000000|  136.0|         7.2|       364|\n",
      "|    5| 4000000|  9.026586|  4300000|   98.0|         6.5|       539|\n",
      "| 9273|30000000|  8.205448|212385533|   90.0|         6.1|      1128|\n",
      "|11517|60000000|  7.337906| 35431113|  103.0|         5.4|       224|\n",
      "| 8012|30250000| 12.669608|115101622|  105.0|         6.4|       305|\n",
      "| 9691|50000000| 11.065939| 30303072|  132.0|         6.0|       394|\n",
      "|  451| 3600000| 10.332025| 49800000|  112.0|         7.1|       365|\n",
      "|  902|18000000|  9.822423|  1738611|  108.0|         7.6|       308|\n",
      "|   63|29500000| 12.297305|168840000|  129.0|         7.4|      2470|\n",
      "| 9598|30000000| 14.404764|254134910|   89.0|         6.0|       756|\n",
      "|  687|11000000|  6.891317| 39363635|  122.0|         7.3|       350|\n",
      "| 9312|18000000| 10.870138|122195920|  101.0|         5.4|       452|\n",
      "+-----+--------+----------+---------+-------+------------+----------+\n",
      "only showing top 20 rows\n",
      "\n"
     ]
    }
   ],
   "source": [
    "dfn2 = dfn1.drop('title')\n",
    "dfn2.show()"
   ]
  },
  {
   "cell_type": "code",
   "execution_count": 8,
   "metadata": {
    "scrolled": true
   },
   "outputs": [
    {
     "name": "stdout",
     "output_type": "stream",
     "text": [
      "380000000.0 1.0\n",
      "547.488298 0.338943\n",
      "2787965087.0 3.0\n",
      "248.0 26.0\n",
      "9.1 2.8\n",
      "14075.0 101.0\n",
      "+-----+--------------------+--------------------+--------------------+-------------------+------------------+--------------------+\n",
      "|   id|              budget|          popularity|             revenue|            runtime|      vote_average|          vote_count|\n",
      "+-----+--------------------+--------------------+--------------------+-------------------+------------------+--------------------+\n",
      "|  862| 0.07894736599722992| 0.03949195919275095| 0.13398805894084145|0.24774774774774774|0.7777777777777779|  0.3802776585086589|\n",
      "| 8844| 0.17105262939750693|0.030479056308126324| 0.09426131177473526|0.35135135135135137|0.6507936507936509|  0.1654501216545012|\n",
      "|  949| 0.15789473462603879| 0.03214110341042072| 0.06723068953613912| 0.6486486486486487|0.7777777777777779| 0.12773722627737227|\n",
      "| 9091| 0.09210526076869806| 0.00894205020126543|0.023081411015260764|0.36036036036036034|0.4285714285714286| 0.00522398740518105|\n",
      "|  710|  0.1526315767174515|0.026221529585829448|  0.1263265573235565|0.46846846846846846|0.6031746031746031| 0.07821668813510806|\n",
      "| 9087| 0.16315789253462604|0.010928463947471892|  0.0386947073401727|0.36036036036036034|0.5873015873015873|  0.0070130241877773|\n",
      "| 1408|  0.2578947348891967|0.012694036713248067|0.003593057552079...| 0.4189189189189189|0.4603174603174604|0.002576212966938...|\n",
      "|  524| 0.13684210299168975|0.017908174268066165| 0.04164771383485519| 0.6846846846846847|0.7936507936507937|  0.0888793473593817|\n",
      "| 4584| 0.04342105011426592| 0.01888739135953107| 0.04842241309791095| 0.4954954954954955|0.6984126984126985| 0.01882066695291255|\n",
      "|    5| 0.01052631318559556|0.015878010127600352|0.001542342486524...|0.32432432432432434|0.5873015873015873|  0.0313439244310863|\n",
      "| 9273| 0.07894736599722992|0.014377253538021625| 0.07617940813494062| 0.2882882882882883|0.5238095238095238| 0.07349363102905396|\n",
      "|11517| 0.15789473462603879|0.012791686467399746|0.012708591726394805|0.34684684684684686|0.4126984126984128|0.008802060970373551|\n",
      "| 8012| 0.07960526073580332| 0.02253619580708452| 0.04128517235045832|0.35585585585585583|0.5714285714285715|0.014598540145985401|\n",
      "| 9691|  0.1315789450831025|0.019605242886560653|0.010869242650816497| 0.4774774774774775| 0.507936507936508|0.020967511092028053|\n",
      "|  451| 0.00947368160387811|0.018263901636144667|0.017862489485897737|0.38738738738738737|0.6825396825396826|0.018892228424216402|\n",
      "|  902|0.047368418545706364| 0.01733252522978849|6.236118271271721E-4|0.36936936936936937|0.7619047619047619|0.014813224559896952|\n",
      "|   63|  0.0776315765200831|  0.0218557545407323| 0.06056029825085141|0.46396396396396394|0.7301587301587302| 0.16952912551882066|\n",
      "| 9598| 0.07894736599722992|0.025707461539454798| 0.09115426461345166|0.28378378378378377| 0.507936507936508|0.046872763704021755|\n",
      "|  687|0.028947365865650963|0.011975476056258899| 0.01411912660811501|0.43243243243243246|0.7142857142857143|0.017818806354658653|\n",
      "| 9312|0.047368418545706364| 0.01924738630094885| 0.04382978743215853|0.33783783783783783|0.4126984126984128| 0.02511807642765135|\n",
      "+-----+--------------------+--------------------+--------------------+-------------------+------------------+--------------------+\n",
      "only showing top 20 rows\n",
      "\n"
     ]
    }
   ],
   "source": [
    "for i in dfn2.columns[1:]:\n",
    "    max1=float(dfn2.describe(i).filter(col('summary')=='max').collect()[0][1])\n",
    "    min1=float(dfn2.describe(i).filter(col('summary')=='min').collect()[0][1])\n",
    "    print(max1,min1)\n",
    "    dfn2=dfn2.withColumn(i,((dfn2[i]-min1)/(max1-min1)))\n",
    "dfn2.show()\n",
    "dfn2 = dfn2.drop('id')\n",
    "# 转换为RDD\n",
    "dfn3 = dfn2.rdd"
   ]
  },
  {
   "cell_type": "code",
   "execution_count": 9,
   "metadata": {},
   "outputs": [
    {
     "data": {
      "text/plain": [
       "<class 'pyspark.rdd.PipelinedRDD'>"
      ]
     },
     "execution_count": 9,
     "metadata": {},
     "output_type": "execute_result"
    }
   ],
   "source": [
    "dfn4 = dfn3.map(lambda x:np.array([x[0],x[1],x[2],x[3],x[4]]))\n",
    "type(dfn4)"
   ]
  },
  {
   "cell_type": "code",
   "execution_count": 10,
   "metadata": {},
   "outputs": [
    {
     "data": {
      "text/plain": [
       "[array([0.07894737, 0.03949196, 0.13398806, 0.24774775, 0.77777778]), array([0.17105263, 0.03047906, 0.09426131, 0.35135135, 0.65079365]), array([0.15789473, 0.0321411 , 0.06723069, 0.64864865, 0.77777778]), array([0.09210526, 0.00894205, 0.02308141, 0.36036036, 0.42857143]), array([0.15263158, 0.02622153, 0.12632656, 0.46846847, 0.6031746 ]), array([0.16315789, 0.01092846, 0.03869471, 0.36036036, 0.58730159]), array([0.25789473, 0.01269404, 0.00359306, 0.41891892, 0.46031746]), array([0.1368421 , 0.01790817, 0.04164771, 0.68468468, 0.79365079]), array([0.04342105, 0.01888739, 0.04842241, 0.4954955 , 0.6984127 ]), array([0.01052631, 0.01587801, 0.00154234, 0.32432432, 0.58730159])]"
      ]
     },
     "execution_count": 10,
     "metadata": {},
     "output_type": "execute_result"
    }
   ],
   "source": [
    "dfn4.take(10)"
   ]
  },
  {
   "cell_type": "code",
   "execution_count": 11,
   "metadata": {},
   "outputs": [
    {
     "data": {
      "text/plain": [
       "3793"
      ]
     },
     "execution_count": 11,
     "metadata": {},
     "output_type": "execute_result"
    }
   ],
   "source": [
    "dfn4.count()"
   ]
  },
  {
   "cell_type": "code",
   "execution_count": 12,
   "metadata": {},
   "outputs": [],
   "source": [
    "from numpy import array\n",
    "from math import sqrt\n",
    "from pyspark import SparkContext\n",
    "from pyspark.mllib.clustering import KMeans, KMeansModel"
   ]
  },
  {
   "cell_type": "code",
   "execution_count": 13,
   "metadata": {},
   "outputs": [
    {
     "name": "stdout",
     "output_type": "stream",
     "text": [
      "Within Set Sum of Squared Error = 421.41291022270923\n",
      "Within Set Avg of Squared Error = 0.11110279731682289\n"
     ]
    }
   ],
   "source": [
    "# Build the model (cluster the data)\n",
    "clusters = KMeans.train(dfn4, 5, maxIterations=10, initializationMode=\"random\")\n",
    "# Evaluate clustering by computing Within Set Sum of Squared Errors\n",
    "def error(point):\n",
    "    center = clusters.centers[clusters.predict(point)]\n",
    "    return sqrt(sum([x**2 for x in (point - center)]))\n",
    "WSSSE = dfn4.map(lambda point: error(point)).reduce(lambda x, y: x + y)\n",
    "print(\"Within Set Sum of Squared Error = \" + str(WSSSE))\n",
    "print(\"Within Set Avg of Squared Error = \" + str(WSSSE/3793))"
   ]
  },
  {
   "cell_type": "code",
   "execution_count": 14,
   "metadata": {},
   "outputs": [
    {
     "data": {
      "text/plain": [
       "([4, 0, 1, 2, 3], [943, 1360, 471, 676, 343])"
      ]
     },
     "execution_count": 14,
     "metadata": {},
     "output_type": "execute_result"
    }
   ],
   "source": [
    "def getlabel(point):\n",
    "    label=clusters.predict(point)\n",
    "    return label\n",
    "\n",
    "la=dfn4.map(lambda point:getlabel(point) )\n",
    "lalist=list(la.countByValue().items())\n",
    "X=[]\n",
    "Y=[]\n",
    "for i in lalist:\n",
    "    X.append(i[0])\n",
    "    Y.append(i[1])\n",
    "X,Y"
   ]
  },
  {
   "cell_type": "code",
   "execution_count": 15,
   "metadata": {},
   "outputs": [
    {
     "name": "stdout",
     "output_type": "stream",
     "text": [
      "Within Set Sum of Squared Error = 689.1982151039994\n",
      "Within Set Sum of Squared Error = 593.96266802139\n",
      "Within Set Sum of Squared Error = 489.658201743694\n",
      "Within Set Sum of Squared Error = 451.56164526569677\n",
      "Within Set Sum of Squared Error = 421.4789486661987\n",
      "Within Set Sum of Squared Error = 395.31618925378973\n",
      "Within Set Sum of Squared Error = 381.98484943192506\n",
      "Within Set Sum of Squared Error = 365.7616532188139\n"
     ]
    }
   ],
   "source": [
    "# Build the model (cluster the data)\n",
    "# Evaluate clustering by computing Within Set Sum of Squared Errors\n",
    "def error(point):\n",
    "    center = clusters.centers[clusters.predict(point)]\n",
    "    return sqrt(sum([x**2 for x in (point - center)]))\n",
    "klist=[]\n",
    "score=[]\n",
    "for i in range(1,9):\n",
    "    clusters = KMeans.train(dfn4, i, maxIterations=10, initializationMode=\"random\")\n",
    "    klist.append(i)\n",
    "    \n",
    "    WSSSE = dfn4.map(lambda point: error(point)).reduce(lambda x, y: x + y)\n",
    "    score.append(WSSSE)\n",
    "    print(\"Within Set Sum of Squared Error = \" + str(WSSSE))\n",
    "    # print(\"Within Set Avg of Squared Error = \" + str(WSSSE/3793))"
   ]
  },
  {
   "cell_type": "code",
   "execution_count": 16,
   "metadata": {},
   "outputs": [
    {
     "data": {
      "text/plain": [
       "Text(0.5,1,'Elbow Curve')"
      ]
     },
     "execution_count": 16,
     "metadata": {},
     "output_type": "execute_result"
    }
   ],
   "source": [
    "pl.plot(klist,score)\n",
    "pl.xlabel('Number of Clusters')\n",
    "pl.ylabel('Score')\n",
    "pl.title('Elbow Curve')"
   ]
  },
  {
   "cell_type": "code",
   "execution_count": 17,
   "metadata": {},
   "outputs": [],
   "source": [
    "pl.show()"
   ]
  },
  {
   "cell_type": "code",
   "execution_count": 18,
   "metadata": {},
   "outputs": [],
   "source": [
    "plt.figure(figsize=(12,7))\n",
    "axis = sns.barplot(x=X,y=Y)\n",
    "x=axis.set_xlabel(\"Cluster Number\")\n",
    "x=axis.set_ylabel(\"Number of movies\")"
   ]
  },
  {
   "cell_type": "code",
   "execution_count": null,
   "metadata": {},
   "outputs": [],
   "source": [
    "pl.show()"
   ]
  },
  {
   "cell_type": "code",
   "execution_count": null,
   "metadata": {},
   "outputs": [],
   "source": []
  }
 ],
 "metadata": {
  "kernelspec": {
   "display_name": "Apache Toree - PySpark",
   "language": "python",
   "name": "apache_toree_pyspark"
  },
  "language_info": {
   "name": "scala",
   "version": "2.11.8"
  }
 },
 "nbformat": 4,
 "nbformat_minor": 2
}
