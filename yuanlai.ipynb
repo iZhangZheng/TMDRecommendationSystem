{
 "cells": [
  {
   "cell_type": "markdown",
   "metadata": {},
   "source": [
    "# 5003 TITLE"
   ]
  },
  {
   "cell_type": "markdown",
   "metadata": {},
   "source": [
    "* 可以用schema初始化数据类型，但是还需要对应位置，就神烦，不整了，GTMD\n",
    "* 如果用这个方法，需要在读取数据的时候增加参数schema，这里设置的结构就叫schema，所以直接写schema=schema\n",
    "* 还需要导入包：`from pyspark.sql.types import *`\n",
    "* schema写法：`schema = StructType([StructField(\"id\", IntegerType()),StructField(\"title\", StringType()),StructField(\"tagline\", StringType()),StructField(\"vote_average\", FloatType()),StructField(\"vote_count\", IntegerType())])`\n",
    "* 当你读取csv格式错误的时候，你就加一个`multiLine=True,escape='\"'`，专治各种不服"
   ]
  },
  {
   "cell_type": "markdown",
   "metadata": {},
   "source": [
    "## UDF是解决DataFrame问题的通法😂"
   ]
  },
  {
   "cell_type": "code",
   "execution_count": 1,
   "metadata": {},
   "outputs": [],
   "source": [
    "# 导入各种用到的包\n",
    "# 返回值类型支持\n",
    "from pyspark.sql.types import ArrayType\n",
    "from pyspark.sql.types import MapType\n",
    "from pyspark.sql.types import StringType\n",
    "from pyspark.sql.types import NullType\n",
    "# UDF模块\n",
    "from pyspark.sql.functions import udf"
   ]
  },
  {
   "cell_type": "markdown",
   "metadata": {},
   "source": [
    "* 形如`[{'id': 16,...},{????},]`\n",
    "* 这次处理的结构大致是list里面含有maps，但是整体的类型又是string。"
   ]
  },
  {
   "cell_type": "code",
   "execution_count": 28,
   "metadata": {},
   "outputs": [],
   "source": [
    "# 类型转换：\n",
    "typetransfer = udf(lambda x:eval(x), ArrayType(MapType(StringType(),StringType())))"
   ]
  },
  {
   "cell_type": "code",
   "execution_count": 29,
   "metadata": {},
   "outputs": [],
   "source": [
    "# 把genres提取出来，再建立一个UDF来实现这个功能。\n",
    "takegenres = udf(lambda x: [i['name'] for i in x], StringType())"
   ]
  },
  {
   "cell_type": "code",
   "execution_count": 31,
   "metadata": {},
   "outputs": [],
   "source": [
    "# 去掉外面的中括号，这是上面的代码处理list时候的衍生物\n",
    "rmbracket = udf(lambda x:','.join(x), StringType())"
   ]
  },
  {
   "cell_type": "code",
   "execution_count": null,
   "metadata": {},
   "outputs": [],
   "source": []
  },
  {
   "cell_type": "code",
   "execution_count": null,
   "metadata": {},
   "outputs": [],
   "source": []
  },
  {
   "cell_type": "code",
   "execution_count": null,
   "metadata": {},
   "outputs": [],
   "source": [
    "bmd4 = bmd3.select('id',takegenres('genres').alias('genres'),'tagline','title','vote_average','vote_count')"
   ]
  },
  {
   "cell_type": "code",
   "execution_count": null,
   "metadata": {},
   "outputs": [],
   "source": []
  },
  {
   "cell_type": "markdown",
   "metadata": {},
   "source": [
    "# 处理movies_metadata.csv"
   ]
  },
  {
   "cell_type": "code",
   "execution_count": 5,
   "metadata": {},
   "outputs": [],
   "source": [
    "df1 = spark.read.csv('/Users/apple/Desktop/5003-project/moviedata/TMD/movies_metadata.csv',multiLine=True,escape='\"', header=True, inferSchema=True)"
   ]
  },
  {
   "cell_type": "code",
   "execution_count": 6,
   "metadata": {
    "scrolled": true
   },
   "outputs": [
    {
     "name": "stdout",
     "output_type": "stream",
     "text": [
      "+-----+---------------------+--------+--------------------+--------------------+-----+---------+-----------------+--------------------+--------------------+----------+--------------------+--------------------+--------------------+------------+---------+-------+--------------------+--------+--------------------+--------------------+-----+------------+----------+\n",
      "|adult|belongs_to_collection|  budget|              genres|            homepage|   id|  imdb_id|original_language|      original_title|            overview|popularity|         poster_path|production_companies|production_countries|release_date|  revenue|runtime|    spoken_languages|  status|             tagline|               title|video|vote_average|vote_count|\n",
      "+-----+---------------------+--------+--------------------+--------------------+-----+---------+-----------------+--------------------+--------------------+----------+--------------------+--------------------+--------------------+------------+---------+-------+--------------------+--------+--------------------+--------------------+-----+------------+----------+\n",
      "|False| {'id': 10194, 'na...|30000000|[{'id': 16, 'name...|http://toystory.d...|  862|tt0114709|               en|           Toy Story|Led by Woody, And...| 21.946943|/rhIRbceoE9lR4veE...|[{'name': 'Pixar ...|[{'iso_3166_1': '...|  1995-10-30|373554033|   81.0|[{'iso_639_1': 'e...|Released|                null|           Toy Story|false|         7.7|      5415|\n",
      "|False|                 null|65000000|[{'id': 12, 'name...|                null| 8844|tt0113497|               en|             Jumanji|When siblings Jud...| 17.015539|/vzmL6fP7aPKNKPRT...|[{'name': 'TriSta...|[{'iso_3166_1': '...|  1995-12-15|262797249|  104.0|[{'iso_639_1': 'e...|Released|Roll the dice and...|             Jumanji|false|         6.9|      2413|\n",
      "|False| {'id': 119050, 'n...|       0|[{'id': 10749, 'n...|                null|15602|tt0113228|               en|    Grumpier Old Men|A family wedding ...|   11.7129|/6ksm1sjKMFLbO7UY...|[{'name': 'Warner...|[{'iso_3166_1': '...|  1995-12-22|        0|  101.0|[{'iso_639_1': 'e...|Released|Still Yelling. St...|    Grumpier Old Men|false|         6.5|        92|\n",
      "|False|                 null|16000000|[{'id': 35, 'name...|                null|31357|tt0114885|               en|   Waiting to Exhale|Cheated on, mistr...|  3.859495|/16XOMpEaLWkrcPqS...|[{'name': 'Twenti...|[{'iso_3166_1': '...|  1995-12-22| 81452156|  127.0|[{'iso_639_1': 'e...|Released|Friends are the p...|   Waiting to Exhale|false|         6.1|        34|\n",
      "|False| {'id': 96871, 'na...|       0|[{'id': 35, 'name...|                null|11862|tt0113041|               en|Father of the Bri...|Just when George ...|  8.387519|/e64sOI48hQXyru7n...|[{'name': 'Sandol...|[{'iso_3166_1': '...|  1995-02-10| 76578911|  106.0|[{'iso_639_1': 'e...|Released|Just When His Wor...|Father of the Bri...|false|         5.7|       173|\n",
      "|False|                 null|60000000|[{'id': 28, 'name...|                null|  949|tt0113277|               en|                Heat|Obsessive master ...| 17.924927|/zMyfPUelumio3tiD...|[{'name': 'Regenc...|[{'iso_3166_1': '...|  1995-12-15|187436818|  170.0|[{'iso_639_1': 'e...|Released|A Los Angeles Cri...|                Heat|false|         7.7|      1886|\n",
      "|False|                 null|58000000|[{'id': 35, 'name...|                null|11860|tt0114319|               en|             Sabrina|An ugly duckling ...|  6.677277|/jQh15y5YB7bWz1Nt...|[{'name': 'Paramo...|[{'iso_3166_1': '...|  1995-12-15|        0|  127.0|[{'iso_639_1': 'f...|Released|You are cordially...|             Sabrina|false|         6.2|       141|\n",
      "|False|                 null|       0|[{'id': 28, 'name...|                null|45325|tt0112302|               en|        Tom and Huck|A mischievous you...|  2.561161|/sGO5Qa55p7wTu7FJ...|[{'name': 'Walt D...|[{'iso_3166_1': '...|  1995-12-22|        0|   97.0|[{'iso_639_1': 'e...|Released|The Original Bad ...|        Tom and Huck|false|         5.4|        45|\n",
      "|False|                 null|35000000|[{'id': 28, 'name...|                null| 9091|tt0114576|               en|        Sudden Death|International act...|   5.23158|/eoWvKD60lT95Ss1M...|[{'name': 'Univer...|[{'iso_3166_1': '...|  1995-12-22| 64350171|  106.0|[{'iso_639_1': 'e...|Released|Terror goes into ...|        Sudden Death|false|         5.5|       174|\n",
      "|False| {'id': 645, 'name...|58000000|[{'id': 12, 'name...|http://www.mgm.co...|  710|tt0113189|               en|           GoldenEye|James Bond must u...| 14.686036|/5c0ovjT41KnYIHYu...|[{'name': 'United...|[{'iso_3166_1': '...|  1995-11-16|352194034|  130.0|[{'iso_639_1': 'e...|Released|No limits. No fea...|           GoldenEye|false|         6.6|      1194|\n",
      "|False|                 null|62000000|[{'id': 35, 'name...|                null| 9087|tt0112346|               en|The American Pres...|Widowed U.S. pres...|  6.318445|/lymPNGLZgPHuqM29...|[{'name': 'Columb...|[{'iso_3166_1': '...|  1995-11-17|107879496|  106.0|[{'iso_639_1': 'e...|Released|Why can't the mos...|The American Pres...|false|         6.5|       199|\n",
      "|False|                 null|       0|[{'id': 35, 'name...|                null|12110|tt0112896|               en|Dracula: Dead and...|When a lawyer sho...|  5.430331|/xve4cgfYItnOhtzL...|[{'name': 'Columb...|[{'iso_3166_1': '...|  1995-12-22|        0|   88.0|[{'iso_639_1': 'e...|Released|                null|Dracula: Dead and...|false|         5.7|       210|\n",
      "|False| {'id': 117693, 'n...|       0|[{'id': 10751, 'n...|                null|21032|tt0112453|               en|               Balto|An outcast half-w...| 12.140733|/gV5PCAVCPNxlOLFM...|[{'name': 'Univer...|[{'iso_3166_1': '...|  1995-12-22| 11348324|   78.0|[{'iso_639_1': 'e...|Released|Part Dog. Part Wo...|               Balto|false|         7.1|       423|\n",
      "|False|                 null|44000000|[{'id': 36, 'name...|                null|10858|tt0113987|               en|               Nixon|An all-star cast ...|     5.092|/cICkmCEiXRhvZmbu...|[{'name': 'Hollyw...|[{'iso_3166_1': '...|  1995-12-22| 13681765|  192.0|[{'iso_639_1': 'e...|Released|Triumphant in Vic...|               Nixon|false|         7.1|        72|\n",
      "|False|                 null|98000000|[{'id': 28, 'name...|                null| 1408|tt0112760|               en|    Cutthroat Island|Morgan Adams and ...|  7.284477|/odM9973kIv9hcjfH...|[{'name': 'Le Stu...|[{'iso_3166_1': '...|  1995-12-22| 10017322|  119.0|[{'iso_639_1': 'e...|Released|The Course Has Be...|    Cutthroat Island|false|         5.7|       137|\n",
      "|False|                 null|52000000|[{'id': 18, 'name...|                null|  524|tt0112641|               en|              Casino|The life of the g...| 10.137389|/xo517ibXBDdYQY81...|[{'name': 'Univer...|[{'iso_3166_1': '...|  1995-11-22|116112375|  178.0|[{'iso_639_1': 'e...|Released|No one stays at t...|              Casino|false|         7.8|      1343|\n",
      "|False|                 null|16500000|[{'id': 18, 'name...|                null| 4584|tt0114388|               en|Sense and Sensibi...|Rich Mr. Dashwood...| 10.673167|/lA9HTy84Bb6ZwNey...|[{'name': 'Columb...|[{'iso_3166_1': '...|  1995-12-13|135000000|  136.0|[{'iso_639_1': 'e...|Released|Lose your heart a...|Sense and Sensibi...|false|         7.2|       364|\n",
      "|False|                 null| 4000000|[{'id': 80, 'name...|                null|    5|tt0113101|               en|          Four Rooms|It's Ted the Bell...|  9.026586|/eQs5hh9rxrk1m4xH...|[{'name': 'Mirama...|[{'iso_3166_1': '...|  1995-12-09|  4300000|   98.0|[{'iso_639_1': 'e...|Released|Twelve outrageous...|          Four Rooms|false|         6.5|       539|\n",
      "|False| {'id': 3167, 'nam...|30000000|[{'id': 80, 'name...|                null| 9273|tt0112281|               en|Ace Ventura: When...|Summoned from an ...|  8.205448|/wRlGnJhEzcxBjvWt...|[{'name': 'O Ente...|[{'iso_3166_1': '...|  1995-11-10|212385533|   90.0|[{'iso_639_1': 'e...|Released|New animals. New ...|Ace Ventura: When...|false|         6.1|      1128|\n",
      "|False|                 null|60000000|[{'id': 28, 'name...|                null|11517|tt0113845|               en|         Money Train|A vengeful New Yo...|  7.337906|/jSozzzVOR2kfXgTU...|[{'name': 'Columb...|[{'iso_3166_1': '...|  1995-11-21| 35431113|  103.0|[{'iso_639_1': 'e...|Released|Get on, or GET OU...|         Money Train|false|         5.4|       224|\n",
      "+-----+---------------------+--------+--------------------+--------------------+-----+---------+-----------------+--------------------+--------------------+----------+--------------------+--------------------+--------------------+------------+---------+-------+--------------------+--------+--------------------+--------------------+-----+------------+----------+\n",
      "only showing top 20 rows\n",
      "\n"
     ]
    }
   ],
   "source": [
    "# 一眼就能看出来这个具体结构一眼看不出来，那就不看了吧\n",
    "df1.show()"
   ]
  },
  {
   "cell_type": "code",
   "execution_count": 13,
   "metadata": {
    "scrolled": true
   },
   "outputs": [
    {
     "name": "stdout",
     "output_type": "stream",
     "text": [
      "DataFrame[adult: string, belongs_to_collection: string, budget: string, genres: string, homepage: string, id: string, imdb_id: string, original_language: string, original_title: string, overview: string, popularity: string, poster_path: string, production_companies: string, production_countries: string, release_date: string, revenue: bigint, runtime: double, spoken_languages: string, status: string, tagline: string, title: string, video: boolean, vote_average: double, vote_count: int]\n",
      "------------------分界线------------------\n",
      "root\n",
      " |-- adult: string (nullable = true)\n",
      " |-- belongs_to_collection: string (nullable = true)\n",
      " |-- budget: string (nullable = true)\n",
      " |-- genres: string (nullable = true)\n",
      " |-- homepage: string (nullable = true)\n",
      " |-- id: string (nullable = true)\n",
      " |-- imdb_id: string (nullable = true)\n",
      " |-- original_language: string (nullable = true)\n",
      " |-- original_title: string (nullable = true)\n",
      " |-- overview: string (nullable = true)\n",
      " |-- popularity: string (nullable = true)\n",
      " |-- poster_path: string (nullable = true)\n",
      " |-- production_companies: string (nullable = true)\n",
      " |-- production_countries: string (nullable = true)\n",
      " |-- release_date: string (nullable = true)\n",
      " |-- revenue: long (nullable = true)\n",
      " |-- runtime: double (nullable = true)\n",
      " |-- spoken_languages: string (nullable = true)\n",
      " |-- status: string (nullable = true)\n",
      " |-- tagline: string (nullable = true)\n",
      " |-- title: string (nullable = true)\n",
      " |-- video: boolean (nullable = true)\n",
      " |-- vote_average: double (nullable = true)\n",
      " |-- vote_count: integer (nullable = true)\n",
      "\n"
     ]
    }
   ],
   "source": [
    "# 看一看这个数据的结构和类型，以及包含哪些特征\n",
    "print(df1)\n",
    "print('------------------分界线------------------')\n",
    "df1.printSchema()\n",
    "# 有的数据类型并不如你所愿，记得转换"
   ]
  },
  {
   "cell_type": "code",
   "execution_count": 17,
   "metadata": {
    "scrolled": true
   },
   "outputs": [
    {
     "data": {
      "text/plain": [
       "DataFrame[genres: string, id: string, tagline: string, title: string, vote_average: double, vote_count: int]"
      ]
     },
     "execution_count": 17,
     "metadata": {},
     "output_type": "execute_result"
    }
   ],
   "source": [
    "# 抽出我们需要的那些特征,让他们看上去更简洁\n",
    "bmd = df1.select('genres','id','tagline','title','vote_average','vote_count')\n",
    "bmd"
   ]
  },
  {
   "cell_type": "code",
   "execution_count": 19,
   "metadata": {},
   "outputs": [
    {
     "data": {
      "text/plain": [
       "DataFrame[id: int, genres: string, tagline: string, title: string, vote_average: double, vote_count: int]"
      ]
     },
     "execution_count": 19,
     "metadata": {},
     "output_type": "execute_result"
    }
   ],
   "source": [
    "# 把id的数据类型转换成int，并放在前面\n",
    "bmd2 = bmd.select(bmd['id'].astype('int'),'genres','tagline','title','vote_average','vote_count')\n",
    "bmd2"
   ]
  },
  {
   "cell_type": "code",
   "execution_count": 21,
   "metadata": {
    "scrolled": true
   },
   "outputs": [
    {
     "name": "stdout",
     "output_type": "stream",
     "text": [
      "+-----+--------------------+--------------------+--------------------+------------+----------+\n",
      "|   id|              genres|             tagline|               title|vote_average|vote_count|\n",
      "+-----+--------------------+--------------------+--------------------+------------+----------+\n",
      "|  862|[{'id': 16, 'name...|                null|           Toy Story|         7.7|      5415|\n",
      "| 8844|[{'id': 12, 'name...|Roll the dice and...|             Jumanji|         6.9|      2413|\n",
      "|15602|[{'id': 10749, 'n...|Still Yelling. St...|    Grumpier Old Men|         6.5|        92|\n",
      "|31357|[{'id': 35, 'name...|Friends are the p...|   Waiting to Exhale|         6.1|        34|\n",
      "|11862|[{'id': 35, 'name...|Just When His Wor...|Father of the Bri...|         5.7|       173|\n",
      "|  949|[{'id': 28, 'name...|A Los Angeles Cri...|                Heat|         7.7|      1886|\n",
      "|11860|[{'id': 35, 'name...|You are cordially...|             Sabrina|         6.2|       141|\n",
      "|45325|[{'id': 28, 'name...|The Original Bad ...|        Tom and Huck|         5.4|        45|\n",
      "| 9091|[{'id': 28, 'name...|Terror goes into ...|        Sudden Death|         5.5|       174|\n",
      "|  710|[{'id': 12, 'name...|No limits. No fea...|           GoldenEye|         6.6|      1194|\n",
      "| 9087|[{'id': 35, 'name...|Why can't the mos...|The American Pres...|         6.5|       199|\n",
      "|12110|[{'id': 35, 'name...|                null|Dracula: Dead and...|         5.7|       210|\n",
      "|21032|[{'id': 10751, 'n...|Part Dog. Part Wo...|               Balto|         7.1|       423|\n",
      "|10858|[{'id': 36, 'name...|Triumphant in Vic...|               Nixon|         7.1|        72|\n",
      "| 1408|[{'id': 28, 'name...|The Course Has Be...|    Cutthroat Island|         5.7|       137|\n",
      "|  524|[{'id': 18, 'name...|No one stays at t...|              Casino|         7.8|      1343|\n",
      "| 4584|[{'id': 18, 'name...|Lose your heart a...|Sense and Sensibi...|         7.2|       364|\n",
      "|    5|[{'id': 80, 'name...|Twelve outrageous...|          Four Rooms|         6.5|       539|\n",
      "| 9273|[{'id': 80, 'name...|New animals. New ...|Ace Ventura: When...|         6.1|      1128|\n",
      "|11517|[{'id': 28, 'name...|Get on, or GET OU...|         Money Train|         5.4|       224|\n",
      "+-----+--------------------+--------------------+--------------------+------------+----------+\n",
      "only showing top 20 rows\n",
      "\n"
     ]
    }
   ],
   "source": [
    "# 这里bmd2中genres一列的内容很乱，需要单独处理，取出关键词。\n",
    "# 使用前面提到的UDF函数来解决这个问题。\n",
    "bmd2.show()"
   ]
  },
  {
   "cell_type": "code",
   "execution_count": 32,
   "metadata": {},
   "outputs": [
    {
     "name": "stdout",
     "output_type": "stream",
     "text": [
      "+-----+--------------------+--------------------+--------------------+------------+----------+\n",
      "|   id|              genres|             tagline|               title|vote_average|vote_count|\n",
      "+-----+--------------------+--------------------+--------------------+------------+----------+\n",
      "|  862|Animation,Comedy,...|                null|           Toy Story|         7.7|      5415|\n",
      "| 8844|Adventure,Fantasy...|Roll the dice and...|             Jumanji|         6.9|      2413|\n",
      "|15602|      Romance,Comedy|Still Yelling. St...|    Grumpier Old Men|         6.5|        92|\n",
      "|31357|Comedy,Drama,Romance|Friends are the p...|   Waiting to Exhale|         6.1|        34|\n",
      "|11862|              Comedy|Just When His Wor...|Father of the Bri...|         5.7|       173|\n",
      "|  949|Action,Crime,Dram...|A Los Angeles Cri...|                Heat|         7.7|      1886|\n",
      "|11860|      Comedy,Romance|You are cordially...|             Sabrina|         6.2|       141|\n",
      "|45325|Action,Adventure,...|The Original Bad ...|        Tom and Huck|         5.4|        45|\n",
      "| 9091|Action,Adventure,...|Terror goes into ...|        Sudden Death|         5.5|       174|\n",
      "|  710|Adventure,Action,...|No limits. No fea...|           GoldenEye|         6.6|      1194|\n",
      "| 9087|Comedy,Drama,Romance|Why can't the mos...|The American Pres...|         6.5|       199|\n",
      "|12110|       Comedy,Horror|                null|Dracula: Dead and...|         5.7|       210|\n",
      "|21032|Family,Animation,...|Part Dog. Part Wo...|               Balto|         7.1|       423|\n",
      "|10858|       History,Drama|Triumphant in Vic...|               Nixon|         7.1|        72|\n",
      "| 1408|    Action,Adventure|The Course Has Be...|    Cutthroat Island|         5.7|       137|\n",
      "|  524|         Drama,Crime|No one stays at t...|              Casino|         7.8|      1343|\n",
      "| 4584|       Drama,Romance|Lose your heart a...|Sense and Sensibi...|         7.2|       364|\n",
      "|    5|        Crime,Comedy|Twelve outrageous...|          Four Rooms|         6.5|       539|\n",
      "| 9273|Crime,Comedy,Adve...|New animals. New ...|Ace Ventura: When...|         6.1|      1128|\n",
      "|11517| Action,Comedy,Crime|Get on, or GET OU...|         Money Train|         5.4|       224|\n",
      "+-----+--------------------+--------------------+--------------------+------------+----------+\n",
      "only showing top 20 rows\n",
      "\n"
     ]
    }
   ],
   "source": [
    "# 先转换成类型，方便之后的操作\n",
    "bmd3 = bmd2.select('id',typetransfer('genres').alias('genres'),'tagline','title','vote_average','vote_count')\n",
    "# 取出关键词\n",
    "bmd4 = bmd3.select('id',takegenres('genres').alias('genres'),'tagline','title','vote_average','vote_count')\n",
    "bmd5 = bmd4.select('id',rmbracket('genres').alias('genres'),'tagline','title','vote_average','vote_count')\n",
    "bmd5.show()"
   ]
  },
  {
   "cell_type": "code",
   "execution_count": 33,
   "metadata": {},
   "outputs": [
    {
     "name": "stdout",
     "output_type": "stream",
     "text": [
      "+-----+--------------------+------------+----------+\n",
      "|   id|              genres|vote_average|vote_count|\n",
      "+-----+--------------------+------------+----------+\n",
      "|  862|Animation,Comedy,...|         7.7|      5415|\n",
      "| 8844|Adventure,Fantasy...|         6.9|      2413|\n",
      "|15602|      Romance,Comedy|         6.5|        92|\n",
      "|31357|Comedy,Drama,Romance|         6.1|        34|\n",
      "|11862|              Comedy|         5.7|       173|\n",
      "|  949|Action,Crime,Dram...|         7.7|      1886|\n",
      "|11860|      Comedy,Romance|         6.2|       141|\n",
      "|45325|Action,Adventure,...|         5.4|        45|\n",
      "| 9091|Action,Adventure,...|         5.5|       174|\n",
      "|  710|Adventure,Action,...|         6.6|      1194|\n",
      "| 9087|Comedy,Drama,Romance|         6.5|       199|\n",
      "|12110|       Comedy,Horror|         5.7|       210|\n",
      "|21032|Family,Animation,...|         7.1|       423|\n",
      "|10858|       History,Drama|         7.1|        72|\n",
      "| 1408|    Action,Adventure|         5.7|       137|\n",
      "|  524|         Drama,Crime|         7.8|      1343|\n",
      "| 4584|       Drama,Romance|         7.2|       364|\n",
      "|    5|        Crime,Comedy|         6.5|       539|\n",
      "| 9273|Crime,Comedy,Adve...|         6.1|      1128|\n",
      "|11517| Action,Comedy,Crime|         5.4|       224|\n",
      "+-----+--------------------+------------+----------+\n",
      "only showing top 20 rows\n",
      "\n"
     ]
    }
   ],
   "source": [
    "# 再单独取出一些数据\n",
    "bmd6 = bmd5.select('id','genres','vote_average','vote_count')\n",
    "bmd6.show()"
   ]
  },
  {
   "cell_type": "code",
   "execution_count": 38,
   "metadata": {},
   "outputs": [],
   "source": [
    "# 把genres提取出来，再建立一个UDF来实现这个功能。\n",
    "takegenres = udf(lambda x: [i['name'] for i in x], StringType())\n",
    "bmd4 = bmd3.select('id',takegenres('genres').alias('genres'),'tagline','title','vote_average','vote_count')"
   ]
  },
  {
   "cell_type": "code",
   "execution_count": 42,
   "metadata": {
    "scrolled": true
   },
   "outputs": [
    {
     "name": "stdout",
     "output_type": "stream",
     "text": [
      "+-----+--------------------+--------------------+--------------------+------------+----------+\n",
      "|   id|              genres|             tagline|               title|vote_average|vote_count|\n",
      "+-----+--------------------+--------------------+--------------------+------------+----------+\n",
      "|  862|[Animation, Comed...|                null|           Toy Story|         7.7|      5415|\n",
      "| 8844|[Adventure, Fanta...|Roll the dice and...|             Jumanji|         6.9|      2413|\n",
      "|15602|   [Romance, Comedy]|Still Yelling. St...|    Grumpier Old Men|         6.5|        92|\n",
      "|31357|[Comedy, Drama, R...|Friends are the p...|   Waiting to Exhale|         6.1|        34|\n",
      "|11862|            [Comedy]|Just When His Wor...|Father of the Bri...|         5.7|       173|\n",
      "|  949|[Action, Crime, D...|A Los Angeles Cri...|                Heat|         7.7|      1886|\n",
      "|11860|   [Comedy, Romance]|You are cordially...|             Sabrina|         6.2|       141|\n",
      "|45325|[Action, Adventur...|The Original Bad ...|        Tom and Huck|         5.4|        45|\n",
      "| 9091|[Action, Adventur...|Terror goes into ...|        Sudden Death|         5.5|       174|\n",
      "|  710|[Adventure, Actio...|No limits. No fea...|           GoldenEye|         6.6|      1194|\n",
      "| 9087|[Comedy, Drama, R...|Why can't the mos...|The American Pres...|         6.5|       199|\n",
      "|12110|    [Comedy, Horror]|                null|Dracula: Dead and...|         5.7|       210|\n",
      "|21032|[Family, Animatio...|Part Dog. Part Wo...|               Balto|         7.1|       423|\n",
      "|10858|    [History, Drama]|Triumphant in Vic...|               Nixon|         7.1|        72|\n",
      "| 1408| [Action, Adventure]|The Course Has Be...|    Cutthroat Island|         5.7|       137|\n",
      "|  524|      [Drama, Crime]|No one stays at t...|              Casino|         7.8|      1343|\n",
      "| 4584|    [Drama, Romance]|Lose your heart a...|Sense and Sensibi...|         7.2|       364|\n",
      "|    5|     [Crime, Comedy]|Twelve outrageous...|          Four Rooms|         6.5|       539|\n",
      "| 9273|[Crime, Comedy, A...|New animals. New ...|Ace Ventura: When...|         6.1|      1128|\n",
      "|11517|[Action, Comedy, ...|Get on, or GET OU...|         Money Train|         5.4|       224|\n",
      "+-----+--------------------+--------------------+--------------------+------------+----------+\n",
      "only showing top 20 rows\n",
      "\n"
     ]
    }
   ],
   "source": [
    "bmd4.show()"
   ]
  },
  {
   "cell_type": "code",
   "execution_count": 15,
   "metadata": {
    "scrolled": true
   },
   "outputs": [
    {
     "data": {
      "text/plain": [
       "[('id', 'int'), ('genres', 'string'), ('tagline', 'string'), ('title', 'string'), ('vote_average', 'double'), ('vote_count', 'int')]"
      ]
     },
     "execution_count": 15,
     "metadata": {},
     "output_type": "execute_result"
    }
   ],
   "source": [
    "bmd4.dtypes"
   ]
  },
  {
   "cell_type": "code",
   "execution_count": 54,
   "metadata": {},
   "outputs": [],
   "source": []
  },
  {
   "cell_type": "code",
   "execution_count": 52,
   "metadata": {},
   "outputs": [
    {
     "name": "stdout",
     "output_type": "stream",
     "text": [
      "+-----+--------------------+------------+----------+\n",
      "|   id|              genres|vote_average|vote_count|\n",
      "+-----+--------------------+------------+----------+\n",
      "|  862|Animation,Comedy,...|         7.7|      5415|\n",
      "| 8844|Adventure,Fantasy...|         6.9|      2413|\n",
      "|15602|      Romance,Comedy|         6.5|        92|\n",
      "|31357|Comedy,Drama,Romance|         6.1|        34|\n",
      "|11862|              Comedy|         5.7|       173|\n",
      "|  949|Action,Crime,Dram...|         7.7|      1886|\n",
      "|11860|      Comedy,Romance|         6.2|       141|\n",
      "|45325|Action,Adventure,...|         5.4|        45|\n",
      "| 9091|Action,Adventure,...|         5.5|       174|\n",
      "|  710|Adventure,Action,...|         6.6|      1194|\n",
      "| 9087|Comedy,Drama,Romance|         6.5|       199|\n",
      "|12110|       Comedy,Horror|         5.7|       210|\n",
      "|21032|Family,Animation,...|         7.1|       423|\n",
      "|10858|       History,Drama|         7.1|        72|\n",
      "| 1408|    Action,Adventure|         5.7|       137|\n",
      "|  524|         Drama,Crime|         7.8|      1343|\n",
      "| 4584|       Drama,Romance|         7.2|       364|\n",
      "|    5|        Crime,Comedy|         6.5|       539|\n",
      "| 9273|Crime,Comedy,Adve...|         6.1|      1128|\n",
      "|11517| Action,Comedy,Crime|         5.4|       224|\n",
      "+-----+--------------------+------------+----------+\n",
      "only showing top 20 rows\n",
      "\n"
     ]
    }
   ],
   "source": [
    "bmd5 = bmd4.select('id',typetransfer2str('genres').alias('genres'),'vote_average','vote_count')\n",
    "bmd5.show()"
   ]
  },
  {
   "cell_type": "markdown",
   "metadata": {},
   "source": [
    "_______________________________________________________________"
   ]
  },
  {
   "cell_type": "code",
   "execution_count": 17,
   "metadata": {},
   "outputs": [],
   "source": [
    "cres = spark.read.csv('/Users/apple/Desktop/5003-project/moviedata/TMD/credits.csv',multiLine=True,escape='\"', header=True, inferSchema=True)"
   ]
  },
  {
   "cell_type": "code",
   "execution_count": 18,
   "metadata": {
    "scrolled": false
   },
   "outputs": [
    {
     "name": "stdout",
     "output_type": "stream",
     "text": [
      "+--------------------+--------------------+-----+\n",
      "|                cast|                crew|   id|\n",
      "+--------------------+--------------------+-----+\n",
      "|[{'cast_id': 14, ...|[{'credit_id': '5...|  862|\n",
      "|[{'cast_id': 1, '...|[{'credit_id': '5...| 8844|\n",
      "|[{'cast_id': 2, '...|[{'credit_id': '5...|15602|\n",
      "|[{'cast_id': 1, '...|[{'credit_id': '5...|31357|\n",
      "|[{'cast_id': 1, '...|[{'credit_id': '5...|11862|\n",
      "|[{'cast_id': 25, ...|[{'credit_id': '5...|  949|\n",
      "|[{'cast_id': 1, '...|[{'credit_id': '5...|11860|\n",
      "|[{'cast_id': 2, '...|[{'credit_id': '5...|45325|\n",
      "|[{'cast_id': 1, '...|[{'credit_id': '5...| 9091|\n",
      "|[{'cast_id': 1, '...|[{'credit_id': '5...|  710|\n",
      "|[{'cast_id': 1, '...|[{'credit_id': '5...| 9087|\n",
      "|[{'cast_id': 9, '...|[{'credit_id': '5...|12110|\n",
      "|[{'cast_id': 1, '...|[{'credit_id': '5...|21032|\n",
      "|[{'cast_id': 1, '...|[{'credit_id': '5...|10858|\n",
      "|[{'cast_id': 1, '...|[{'credit_id': '5...| 1408|\n",
      "|[{'cast_id': 4, '...|[{'credit_id': '5...|  524|\n",
      "|[{'cast_id': 6, '...|[{'credit_id': '5...| 4584|\n",
      "|[{'cast_id': 42, ...|[{'credit_id': '5...|    5|\n",
      "|[{'cast_id': 1, '...|[{'credit_id': '5...| 9273|\n",
      "|[{'cast_id': 1, '...|[{'credit_id': '5...|11517|\n",
      "+--------------------+--------------------+-----+\n",
      "only showing top 20 rows\n",
      "\n"
     ]
    }
   ],
   "source": [
    "cres.show()"
   ]
  },
  {
   "cell_type": "markdown",
   "metadata": {},
   "source": [
    "cres的数据类型：\n",
    "\n",
    "`DataFrame[cast: string, crew: string, id: int]`"
   ]
  },
  {
   "cell_type": "markdown",
   "metadata": {},
   "source": [
    "* 也要对这个部分做一样的操作，取出导演和主演"
   ]
  },
  {
   "cell_type": "code",
   "execution_count": 19,
   "metadata": {},
   "outputs": [],
   "source": [
    "transfer2 = udf(lambda x:eval(x), ArrayType(MapType(StringType(),StringType())))"
   ]
  },
  {
   "cell_type": "code",
   "execution_count": 20,
   "metadata": {},
   "outputs": [],
   "source": [
    "getdirector = udf(lambda x:[i['name'] for i in x if i['job'] == 'Director'],StringType())"
   ]
  },
  {
   "cell_type": "code",
   "execution_count": 21,
   "metadata": {},
   "outputs": [],
   "source": [
    "getcharacter = udf(lambda x:[i['name'] for i in x],StringType())"
   ]
  },
  {
   "cell_type": "code",
   "execution_count": 22,
   "metadata": {},
   "outputs": [
    {
     "data": {
      "text/plain": [
       "[('id', 'int'), ('cast', 'array<map<string,string>>'), ('crew', 'array<map<string,string>>')]"
      ]
     },
     "execution_count": 22,
     "metadata": {},
     "output_type": "execute_result"
    }
   ],
   "source": [
    "cres2 = cres.select('id',transfer2('cast').alias('cast'),transfer2('crew').alias('crew'))\n",
    "cres2.dtypes"
   ]
  },
  {
   "cell_type": "code",
   "execution_count": 23,
   "metadata": {
    "scrolled": true
   },
   "outputs": [
    {
     "name": "stdout",
     "output_type": "stream",
     "text": [
      "+-----+--------------------+--------------------+\n",
      "|   id|           Character|            Director|\n",
      "+-----+--------------------+--------------------+\n",
      "|  862|[Tom Hanks, Tim A...|     [John Lasseter]|\n",
      "| 8844|[Robin Williams, ...|      [Joe Johnston]|\n",
      "|15602|[Walter Matthau, ...|     [Howard Deutch]|\n",
      "|31357|[Whitney Houston,...|   [Forest Whitaker]|\n",
      "|11862|[Steve Martin, Di...|     [Charles Shyer]|\n",
      "|  949|[Al Pacino, Rober...|      [Michael Mann]|\n",
      "|11860|[Harrison Ford, J...|    [Sydney Pollack]|\n",
      "|45325|[Jonathan Taylor ...|      [Peter Hewitt]|\n",
      "| 9091|[Jean-Claude Van ...|       [Peter Hyams]|\n",
      "|  710|[Pierce Brosnan, ...|   [Martin Campbell]|\n",
      "| 9087|[Michael Douglas,...|        [Rob Reiner]|\n",
      "|12110|[Leslie Nielsen, ...|        [Mel Brooks]|\n",
      "|21032|[Kevin Bacon, Bob...|       [Simon Wells]|\n",
      "|10858|[Anthony Hopkins,...|      [Oliver Stone]|\n",
      "| 1408|[Geena Davis, Mat...|      [Renny Harlin]|\n",
      "|  524|[Robert De Niro, ...|   [Martin Scorsese]|\n",
      "| 4584|[Kate Winslet, Em...|           [Ang Lee]|\n",
      "|    5|[Tim Roth, Antoni...|[Allison Anders, ...|\n",
      "| 9273|[Jim Carrey, Ian ...|    [Steve Oedekerk]|\n",
      "|11517|[Wesley Snipes, W...|      [Joseph Ruben]|\n",
      "+-----+--------------------+--------------------+\n",
      "only showing top 20 rows\n",
      "\n"
     ]
    }
   ],
   "source": [
    "cres3 = cres2.select('id',getcharacter('cast').alias('Character'),getdirector('crew').alias('Director'))\n",
    "cres3.show()"
   ]
  },
  {
   "cell_type": "code",
   "execution_count": null,
   "metadata": {},
   "outputs": [],
   "source": []
  },
  {
   "cell_type": "code",
   "execution_count": null,
   "metadata": {},
   "outputs": [],
   "source": []
  },
  {
   "cell_type": "code",
   "execution_count": null,
   "metadata": {},
   "outputs": [],
   "source": []
  },
  {
   "cell_type": "code",
   "execution_count": null,
   "metadata": {},
   "outputs": [],
   "source": []
  },
  {
   "cell_type": "markdown",
   "metadata": {},
   "source": [
    "_______________________________________________________________"
   ]
  },
  {
   "cell_type": "code",
   "execution_count": null,
   "metadata": {},
   "outputs": [],
   "source": []
  },
  {
   "cell_type": "code",
   "execution_count": 24,
   "metadata": {},
   "outputs": [],
   "source": [
    "kws = spark.read.csv('/Users/apple/Desktop/5003-project/moviedata/TMD/keywords.csv',multiLine=True,escape='\"', header=True, inferSchema=True)"
   ]
  },
  {
   "cell_type": "code",
   "execution_count": 25,
   "metadata": {
    "scrolled": true
   },
   "outputs": [
    {
     "name": "stdout",
     "output_type": "stream",
     "text": [
      "+-----+--------------------+\n",
      "|   id|            keywords|\n",
      "+-----+--------------------+\n",
      "|  862|[{'id': 931, 'nam...|\n",
      "| 8844|[{'id': 10090, 'n...|\n",
      "|15602|[{'id': 1495, 'na...|\n",
      "|31357|[{'id': 818, 'nam...|\n",
      "|11862|[{'id': 1009, 'na...|\n",
      "|  949|[{'id': 642, 'nam...|\n",
      "|11860|[{'id': 90, 'name...|\n",
      "|45325|                  []|\n",
      "| 9091|[{'id': 949, 'nam...|\n",
      "|  710|[{'id': 701, 'nam...|\n",
      "| 9087|[{'id': 833, 'nam...|\n",
      "|12110|[{'id': 3633, 'na...|\n",
      "|21032|[{'id': 1994, 'na...|\n",
      "|10858|[{'id': 840, 'nam...|\n",
      "| 1408|[{'id': 911, 'nam...|\n",
      "|  524|[{'id': 383, 'nam...|\n",
      "| 4584|[{'id': 420, 'nam...|\n",
      "|    5|[{'id': 612, 'nam...|\n",
      "| 9273|[{'id': 409, 'nam...|\n",
      "|11517|[{'id': 380, 'nam...|\n",
      "+-----+--------------------+\n",
      "only showing top 20 rows\n",
      "\n"
     ]
    }
   ],
   "source": [
    "kws.show()"
   ]
  },
  {
   "cell_type": "code",
   "execution_count": 27,
   "metadata": {},
   "outputs": [],
   "source": [
    "getkws = udf(lambda x:[i['name'] for i in x],StringType())"
   ]
  },
  {
   "cell_type": "code",
   "execution_count": 28,
   "metadata": {},
   "outputs": [
    {
     "name": "stdout",
     "output_type": "stream",
     "text": [
      "+-----+--------------------+\n",
      "|   id|            keywords|\n",
      "+-----+--------------------+\n",
      "|  862|[jealousy, toy, b...|\n",
      "| 8844|[board game, disa...|\n",
      "|15602|[fishing, best fr...|\n",
      "|31357|[based on novel, ...|\n",
      "|11862|[baby, midlife cr...|\n",
      "|  949|[robbery, detecti...|\n",
      "|11860|[paris, brother b...|\n",
      "|45325|                  []|\n",
      "| 9091|[terrorist, hosta...|\n",
      "|  710|[cuba, falsely ac...|\n",
      "| 9087|[white house, usa...|\n",
      "|12110|    [dracula, spoof]|\n",
      "|21032|[wolf, dog-sleddi...|\n",
      "|10858|[usa president, p...|\n",
      "| 1408|[exotic island, t...|\n",
      "|  524|[poker, drug abus...|\n",
      "| 4584|[bowling, based o...|\n",
      "|    5|[hotel, new year'...|\n",
      "| 9273|[africa, indigeno...|\n",
      "|11517|[brother brother ...|\n",
      "+-----+--------------------+\n",
      "only showing top 20 rows\n",
      "\n"
     ]
    }
   ],
   "source": [
    "kws= kws.select('id',getcharacter('keywords').alias('keywords'))\n",
    "kws.show()"
   ]
  },
  {
   "cell_type": "code",
   "execution_count": null,
   "metadata": {},
   "outputs": [],
   "source": []
  },
  {
   "cell_type": "code",
   "execution_count": null,
   "metadata": {},
   "outputs": [],
   "source": []
  },
  {
   "cell_type": "markdown",
   "metadata": {},
   "source": [
    "kws的数据类型：\n",
    "\n",
    "`DataFrame[id: int, keywords: string]`"
   ]
  },
  {
   "cell_type": "code",
   "execution_count": 26,
   "metadata": {},
   "outputs": [
    {
     "data": {
      "text/plain": [
       "[('id', 'int'), ('keywords', 'array<map<string,string>>')]"
      ]
     },
     "execution_count": 26,
     "metadata": {},
     "output_type": "execute_result"
    }
   ],
   "source": [
    "kws = kws.select('id',transfer2('keywords').alias('keywords'))\n",
    "kws.dtypes"
   ]
  },
  {
   "cell_type": "code",
   "execution_count": null,
   "metadata": {},
   "outputs": [],
   "source": []
  },
  {
   "cell_type": "code",
   "execution_count": 11,
   "metadata": {},
   "outputs": [],
   "source": [
    "df2 = spark.read.csv('/Users/apple/Desktop/5003-project/moviedata/TMD/ratings.csv',multiLine=True,escape='\"', header=True, inferSchema=True)"
   ]
  },
  {
   "cell_type": "code",
   "execution_count": 12,
   "metadata": {},
   "outputs": [
    {
     "name": "stdout",
     "output_type": "stream",
     "text": [
      "+---+-------+------+\n",
      "| id|movieID|rating|\n",
      "+---+-------+------+\n",
      "|  1|    110|   1.0|\n",
      "|  1|    147|   4.5|\n",
      "|  1|    858|   5.0|\n",
      "|  1|   1221|   5.0|\n",
      "|  1|   1246|   5.0|\n",
      "|  1|   1968|   4.0|\n",
      "|  1|   2762|   4.5|\n",
      "|  1|   2918|   5.0|\n",
      "|  1|   2959|   4.0|\n",
      "|  1|   4226|   4.0|\n",
      "|  1|   4878|   5.0|\n",
      "|  1|   5577|   5.0|\n",
      "|  1|  33794|   4.0|\n",
      "|  1|  54503|   3.5|\n",
      "|  1|  58559|   4.0|\n",
      "|  1|  59315|   5.0|\n",
      "|  1|  68358|   5.0|\n",
      "|  1|  69844|   5.0|\n",
      "|  1|  73017|   5.0|\n",
      "|  1|  81834|   5.0|\n",
      "+---+-------+------+\n",
      "only showing top 20 rows\n",
      "\n"
     ]
    }
   ],
   "source": [
    "rats = df2.select(df2['userId'].alias('id'),'movieID','rating')\n",
    "rats.show()"
   ]
  },
  {
   "cell_type": "code",
   "execution_count": 13,
   "metadata": {},
   "outputs": [
    {
     "data": {
      "text/plain": [
       "DataFrame[id: int, movieID: int, rating: double]"
      ]
     },
     "execution_count": 13,
     "metadata": {},
     "output_type": "execute_result"
    }
   ],
   "source": [
    "rats.cache()"
   ]
  },
  {
   "cell_type": "markdown",
   "metadata": {},
   "source": [
    "rats的数据类型：\n",
    "\n",
    "`DataFrame[id: int, movieID: int, rating: double]`"
   ]
  },
  {
   "cell_type": "markdown",
   "metadata": {},
   "source": [
    "### 到这个部分，所有的数据都读取进来，完成了清理，并转换成了需要的格式！"
   ]
  },
  {
   "cell_type": "markdown",
   "metadata": {},
   "source": [
    "* 新的数据预处理部分"
   ]
  },
  {
   "cell_type": "code",
   "execution_count": 11,
   "metadata": {},
   "outputs": [],
   "source": []
  },
  {
   "cell_type": "code",
   "execution_count": 23,
   "metadata": {},
   "outputs": [],
   "source": [
    "tomap = udf(lambda s: eval(s), ArrayType(MapType(StringType(),StringType())))"
   ]
  },
  {
   "cell_type": "code",
   "execution_count": 13,
   "metadata": {
    "scrolled": true
   },
   "outputs": [
    {
     "name": "stdout",
     "output_type": "stream",
     "text": [
      "+--------------------+-----+--------------------+--------------------+------------+----------+\n",
      "|              genres|   id|             tagline|               title|vote_average|vote_count|\n",
      "+--------------------+-----+--------------------+--------------------+------------+----------+\n",
      "|[{'id': 16, 'name...|  862|                null|           Toy Story|         7.7|      5415|\n",
      "|[{'id': 12, 'name...| 8844|Roll the dice and...|             Jumanji|         6.9|      2413|\n",
      "|[{'id': 10749, 'n...|15602|Still Yelling. St...|    Grumpier Old Men|         6.5|        92|\n",
      "|[{'id': 35, 'name...|31357|Friends are the p...|   Waiting to Exhale|         6.1|        34|\n",
      "|[{'id': 35, 'name...|11862|Just When His Wor...|Father of the Bri...|         5.7|       173|\n",
      "|[{'id': 28, 'name...|  949|A Los Angeles Cri...|                Heat|         7.7|      1886|\n",
      "|[{'id': 35, 'name...|11860|You are cordially...|             Sabrina|         6.2|       141|\n",
      "|[{'id': 28, 'name...|45325|The Original Bad ...|        Tom and Huck|         5.4|        45|\n",
      "|[{'id': 28, 'name...| 9091|Terror goes into ...|        Sudden Death|         5.5|       174|\n",
      "|[{'id': 12, 'name...|  710|No limits. No fea...|           GoldenEye|         6.6|      1194|\n",
      "|[{'id': 35, 'name...| 9087|Why can't the mos...|The American Pres...|         6.5|       199|\n",
      "|[{'id': 35, 'name...|12110|                null|Dracula: Dead and...|         5.7|       210|\n",
      "|[{'id': 10751, 'n...|21032|Part Dog. Part Wo...|               Balto|         7.1|       423|\n",
      "|[{'id': 36, 'name...|10858|Triumphant in Vic...|               Nixon|         7.1|        72|\n",
      "|[{'id': 28, 'name...| 1408|The Course Has Be...|    Cutthroat Island|         5.7|       137|\n",
      "|[{'id': 18, 'name...|  524|No one stays at t...|              Casino|         7.8|      1343|\n",
      "|[{'id': 18, 'name...| 4584|Lose your heart a...|Sense and Sensibi...|         7.2|       364|\n",
      "|[{'id': 80, 'name...|    5|Twelve outrageous...|          Four Rooms|         6.5|       539|\n",
      "|[{'id': 80, 'name...| 9273|New animals. New ...|Ace Ventura: When...|         6.1|      1128|\n",
      "|[{'id': 28, 'name...|11517|Get on, or GET OU...|         Money Train|         5.4|       224|\n",
      "+--------------------+-----+--------------------+--------------------+------------+----------+\n",
      "only showing top 20 rows\n",
      "\n"
     ]
    }
   ],
   "source": [
    "bmd2.show()"
   ]
  },
  {
   "cell_type": "code",
   "execution_count": 30,
   "metadata": {},
   "outputs": [],
   "source": [
    "bmd5 = bmd2.select(tomap('genres').alias('genres'),'id')"
   ]
  },
  {
   "cell_type": "code",
   "execution_count": 31,
   "metadata": {
    "scrolled": true
   },
   "outputs": [
    {
     "name": "stdout",
     "output_type": "stream",
     "text": [
      "+--------------------+-----+\n",
      "|              genres|   id|\n",
      "+--------------------+-----+\n",
      "|[Map(name -> Anim...|  862|\n",
      "|[Map(name -> Adve...| 8844|\n",
      "|[Map(name -> Roma...|15602|\n",
      "|[Map(name -> Come...|31357|\n",
      "|[Map(name -> Come...|11862|\n",
      "|[Map(name -> Acti...|  949|\n",
      "|[Map(name -> Come...|11860|\n",
      "|[Map(name -> Acti...|45325|\n",
      "|[Map(name -> Acti...| 9091|\n",
      "|[Map(name -> Adve...|  710|\n",
      "|[Map(name -> Come...| 9087|\n",
      "|[Map(name -> Come...|12110|\n",
      "|[Map(name -> Fami...|21032|\n",
      "|[Map(name -> Hist...|10858|\n",
      "|[Map(name -> Acti...| 1408|\n",
      "|[Map(name -> Dram...|  524|\n",
      "|[Map(name -> Dram...| 4584|\n",
      "|[Map(name -> Crim...|    5|\n",
      "|[Map(name -> Crim...| 9273|\n",
      "|[Map(name -> Acti...|11517|\n",
      "+--------------------+-----+\n",
      "only showing top 20 rows\n",
      "\n"
     ]
    }
   ],
   "source": [
    "bmd5.show()"
   ]
  },
  {
   "cell_type": "code",
   "execution_count": 41,
   "metadata": {},
   "outputs": [
    {
     "data": {
      "text/plain": [
       "[('genres', 'array<map<string,string>>'), ('id', 'int')]"
      ]
     },
     "execution_count": 41,
     "metadata": {},
     "output_type": "execute_result"
    }
   ],
   "source": [
    "bmd5.dtypes"
   ]
  },
  {
   "cell_type": "code",
   "execution_count": 43,
   "metadata": {},
   "outputs": [],
   "source": [
    "takewords = udf(lambda x: [i['name'] for i in x], StringType())"
   ]
  },
  {
   "cell_type": "code",
   "execution_count": 48,
   "metadata": {},
   "outputs": [],
   "source": [
    "takewords = udf(lambda x: [i['name'] for i in x], StringType())\n",
    "bmd6 = bmd5.select(takewords('genres').alias('genres'))"
   ]
  },
  {
   "cell_type": "code",
   "execution_count": 49,
   "metadata": {
    "scrolled": true
   },
   "outputs": [
    {
     "data": {
      "text/plain": [
       "DataFrame[genres: string]"
      ]
     },
     "execution_count": 49,
     "metadata": {},
     "output_type": "execute_result"
    }
   ],
   "source": [
    "bmd6"
   ]
  },
  {
   "cell_type": "code",
   "execution_count": 50,
   "metadata": {},
   "outputs": [
    {
     "data": {
      "text/plain": [
       "[('genres', 'string')]"
      ]
     },
     "execution_count": 50,
     "metadata": {},
     "output_type": "execute_result"
    }
   ],
   "source": [
    "bmd6.dtypes"
   ]
  },
  {
   "cell_type": "code",
   "execution_count": 51,
   "metadata": {},
   "outputs": [
    {
     "data": {
      "text/plain": [
       "[Row(genres='[Animation, Comedy, Family]')]"
      ]
     },
     "execution_count": 51,
     "metadata": {},
     "output_type": "execute_result"
    }
   ],
   "source": [
    "bmd6."
   ]
  },
  {
   "cell_type": "code",
   "execution_count": null,
   "metadata": {},
   "outputs": [],
   "source": []
  },
  {
   "cell_type": "code",
   "execution_count": 180,
   "metadata": {},
   "outputs": [],
   "source": [
    "import pandas as pd"
   ]
  },
  {
   "cell_type": "code",
   "execution_count": 187,
   "metadata": {},
   "outputs": [
    {
     "data": {
      "text/plain": [
       "<class 'pandas.core.frame.DataFrame'>"
      ]
     },
     "execution_count": 187,
     "metadata": {},
     "output_type": "execute_result"
    }
   ],
   "source": [
    "type(md)"
   ]
  },
  {
   "cell_type": "code",
   "execution_count": null,
   "metadata": {},
   "outputs": [],
   "source": []
  },
  {
   "cell_type": "code",
   "execution_count": null,
   "metadata": {},
   "outputs": [],
   "source": []
  },
  {
   "cell_type": "code",
   "execution_count": null,
   "metadata": {},
   "outputs": [],
   "source": []
  },
  {
   "cell_type": "code",
   "execution_count": null,
   "metadata": {},
   "outputs": [],
   "source": []
  },
  {
   "cell_type": "code",
   "execution_count": null,
   "metadata": {},
   "outputs": [],
   "source": []
  },
  {
   "cell_type": "code",
   "execution_count": 153,
   "metadata": {
    "scrolled": false
   },
   "outputs": [
    {
     "name": "stdout",
     "output_type": "stream",
     "text": [
      "Column<b'genres[1]'>\n"
     ]
    }
   ],
   "source": [
    "print(bmd2['genres'][1])"
   ]
  },
  {
   "cell_type": "code",
   "execution_count": 155,
   "metadata": {},
   "outputs": [
    {
     "name": "stdout",
     "output_type": "stream",
     "text": [
      "+--------------------+\n",
      "|              genres|\n",
      "+--------------------+\n",
      "|[{'id': 16, 'name...|\n",
      "|[{'id': 12, 'name...|\n",
      "|[{'id': 10749, 'n...|\n",
      "|[{'id': 35, 'name...|\n",
      "|[{'id': 35, 'name...|\n",
      "|[{'id': 28, 'name...|\n",
      "|[{'id': 35, 'name...|\n",
      "|[{'id': 28, 'name...|\n",
      "|[{'id': 28, 'name...|\n",
      "|[{'id': 12, 'name...|\n",
      "|[{'id': 35, 'name...|\n",
      "|[{'id': 35, 'name...|\n",
      "|[{'id': 10751, 'n...|\n",
      "|[{'id': 36, 'name...|\n",
      "|[{'id': 28, 'name...|\n",
      "|[{'id': 18, 'name...|\n",
      "|[{'id': 18, 'name...|\n",
      "|[{'id': 80, 'name...|\n",
      "|[{'id': 80, 'name...|\n",
      "|[{'id': 28, 'name...|\n",
      "+--------------------+\n",
      "only showing top 20 rows\n",
      "\n"
     ]
    }
   ],
   "source": [
    "genres=bmd2.select('genres')\n",
    "genres.show()"
   ]
  },
  {
   "cell_type": "code",
   "execution_count": 168,
   "metadata": {},
   "outputs": [
    {
     "data": {
      "text/plain": [
       "Name: org.apache.toree.interpreter.broker.BrokerException\n",
       "Message: Traceback (most recent call last):\n",
       "  File \"/var/folders/g4/bh0x216x6_j83zjyf806bjn40000gn/T/kernel-PySpark-8a4a6204-b0a8-4b06-8dd1-258e515fd5a6/pyspark_runner.py\", line 180, in <module>\n",
       "    eval(compiled_code)\n",
       "  File \"<string>\", line 1, in <module>\n",
       "  File \"/usr/local/Cellar/apache-spark/2.2.1/libexec/python/pyspark/sql/column.py\", line 250, in __iter__\n",
       "    raise TypeError(\"Column is not iterable\")\n",
       "TypeError: Column is not iterable\n",
       "\n",
       "StackTrace: org.apache.toree.interpreter.broker.BrokerState$$anonfun$markFailure$1.apply(BrokerState.scala:158)\n",
       "org.apache.toree.interpreter.broker.BrokerState$$anonfun$markFailure$1.apply(BrokerState.scala:158)\n",
       "scala.Option.foreach(Option.scala:257)\n",
       "org.apache.toree.interpreter.broker.BrokerState.markFailure(BrokerState.scala:157)\n",
       "sun.reflect.GeneratedMethodAccessor54.invoke(Unknown Source)\n",
       "sun.reflect.DelegatingMethodAccessorImpl.invoke(DelegatingMethodAccessorImpl.java:43)\n",
       "java.lang.reflect.Method.invoke(Method.java:498)\n",
       "py4j.reflection.MethodInvoker.invoke(MethodInvoker.java:244)\n",
       "py4j.reflection.ReflectionEngine.invoke(ReflectionEngine.java:357)\n",
       "py4j.Gateway.invoke(Gateway.java:280)\n",
       "py4j.commands.AbstractCommand.invokeMethod(AbstractCommand.java:132)\n",
       "py4j.commands.CallCommand.execute(CallCommand.java:79)\n",
       "py4j.GatewayConnection.run(GatewayConnection.java:214)\n",
       "java.lang.Thread.run(Thread.java:748)"
      ]
     },
     "execution_count": 168,
     "metadata": {},
     "output_type": "execute_result"
    }
   ],
   "source": [
    "t = list(genres['genres'])\n",
    "t"
   ]
  },
  {
   "cell_type": "code",
   "execution_count": null,
   "metadata": {},
   "outputs": [],
   "source": []
  },
  {
   "cell_type": "code",
   "execution_count": 113,
   "metadata": {},
   "outputs": [],
   "source": [
    "from ast import literal_eval"
   ]
  },
  {
   "cell_type": "code",
   "execution_count": 127,
   "metadata": {},
   "outputs": [],
   "source": [
    "bmd4 = bmd2.withColumn('genres2',bmd2.genres)"
   ]
  },
  {
   "cell_type": "code",
   "execution_count": 133,
   "metadata": {},
   "outputs": [
    {
     "data": {
      "text/plain": [
       "DataFrame[genres: string, id: int, tagline: string, title: string, vote_average: double, vote_count: int]"
      ]
     },
     "execution_count": 133,
     "metadata": {},
     "output_type": "execute_result"
    }
   ],
   "source": [
    "bmd2"
   ]
  },
  {
   "cell_type": "code",
   "execution_count": 142,
   "metadata": {},
   "outputs": [],
   "source": [
    "from pyspark.sql.types import StringType\n",
    "from pyspark.sql.functions import udf"
   ]
  },
  {
   "cell_type": "code",
   "execution_count": null,
   "metadata": {},
   "outputs": [],
   "source": []
  },
  {
   "cell_type": "code",
   "execution_count": null,
   "metadata": {},
   "outputs": [],
   "source": []
  },
  {
   "cell_type": "code",
   "execution_count": null,
   "metadata": {},
   "outputs": [],
   "source": []
  },
  {
   "cell_type": "code",
   "execution_count": null,
   "metadata": {},
   "outputs": [],
   "source": []
  },
  {
   "cell_type": "code",
   "execution_count": null,
   "metadata": {},
   "outputs": [],
   "source": []
  },
  {
   "cell_type": "code",
   "execution_count": 141,
   "metadata": {},
   "outputs": [
    {
     "data": {
      "text/plain": [
       "Name: org.apache.toree.interpreter.broker.BrokerException\n",
       "Message: Traceback (most recent call last):\n",
       "  File \"/usr/local/Cellar/apache-spark/2.2.1/libexec/python/pyspark/sql/utils.py\", line 63, in deco\n",
       "    return f(*a, **kw)\n",
       "  File \"/usr/local/Cellar/apache-spark/2.2.1/libexec/python/lib/py4j-0.10.4-src.zip/py4j/protocol.py\", line 319, in get_return_value\n",
       "    format(target_id, \".\", name), value)\n",
       "py4j.protocol.Py4JJavaError: An error occurred while calling o684.select.\n",
       ": org.apache.spark.sql.AnalysisException: cannot resolve '`genres`' due to data type mismatch: cannot cast StringType to ArrayType(MapType(StringType,StringType,true),true);;\n",
       "'Project [id#222, unresolvedalias(cast(genres#3 as array<map<string,string>>), None), tagline#19, title#20, vote_average#22, vote_count#23]\n",
       "+- Project [genres#3, cast(id#5 as int) AS id#222, tagline#19, title#20, vote_average#22, vote_count#23]\n",
       "   +- Project [genres#3, id#5, tagline#19, title#20, vote_average#22, vote_count#23]\n",
       "      +- Relation[adult#0,belongs_to_collection#1,budget#2,genres#3,homepage#4,id#5,imdb_id#6,original_language#7,original_title#8,overview#9,popularity#10,poster_path#11,production_companies#12,production_countries#13,release_date#14,revenue#15L,runtime#16,spoken_languages#17,status#18,tagline#19,title#20,video#21,vote_average#22,vote_count#23] csv\n",
       "\n",
       "\tat org.apache.spark.sql.catalyst.analysis.package$AnalysisErrorAt.failAnalysis(package.scala:42)\n",
       "\tat org.apache.spark.sql.catalyst.analysis.CheckAnalysis$$anonfun$checkAnalysis$1$$anonfun$apply$2.applyOrElse(CheckAnalysis.scala:93)\n",
       "\tat org.apache.spark.sql.catalyst.analysis.CheckAnalysis$$anonfun$checkAnalysis$1$$anonfun$apply$2.applyOrElse(CheckAnalysis.scala:85)\n",
       "\tat org.apache.spark.sql.catalyst.trees.TreeNode$$anonfun$transformUp$1.apply(TreeNode.scala:289)\n",
       "\tat org.apache.spark.sql.catalyst.trees.TreeNode$$anonfun$transformUp$1.apply(TreeNode.scala:289)\n",
       "\tat org.apache.spark.sql.catalyst.trees.CurrentOrigin$.withOrigin(TreeNode.scala:70)\n",
       "\tat org.apache.spark.sql.catalyst.trees.TreeNode.transformUp(TreeNode.scala:288)\n",
       "\tat org.apache.spark.sql.catalyst.trees.TreeNode$$anonfun$3.apply(TreeNode.scala:286)\n",
       "\tat org.apache.spark.sql.catalyst.trees.TreeNode$$anonfun$3.apply(TreeNode.scala:286)\n",
       "\tat org.apache.spark.sql.catalyst.trees.TreeNode$$anonfun$4.apply(TreeNode.scala:306)\n",
       "\tat org.apache.spark.sql.catalyst.trees.TreeNode.mapProductIterator(TreeNode.scala:187)\n",
       "\tat org.apache.spark.sql.catalyst.trees.TreeNode.mapChildren(TreeNode.scala:304)\n",
       "\tat org.apache.spark.sql.catalyst.trees.TreeNode.transformUp(TreeNode.scala:286)\n",
       "\tat org.apache.spark.sql.catalyst.plans.QueryPlan$$anonfun$transformExpressionsUp$1.apply(QueryPlan.scala:268)\n",
       "\tat org.apache.spark.sql.catalyst.plans.QueryPlan$$anonfun$transformExpressionsUp$1.apply(QueryPlan.scala:268)\n",
       "\tat org.apache.spark.sql.catalyst.plans.QueryPlan.transformExpression$1(QueryPlan.scala:279)\n",
       "\tat org.apache.spark.sql.catalyst.plans.QueryPlan.org$apache$spark$sql$catalyst$plans$QueryPlan$$recursiveTransform$1(QueryPlan.scala:289)\n",
       "\tat org.apache.spark.sql.catalyst.plans.QueryPlan$$anonfun$org$apache$spark$sql$catalyst$plans$QueryPlan$$recursiveTransform$1$1.apply(QueryPlan.scala:293)\n",
       "\tat scala.collection.TraversableLike$$anonfun$map$1.apply(TraversableLike.scala:234)\n",
       "\tat scala.collection.TraversableLike$$anonfun$map$1.apply(TraversableLike.scala:234)\n",
       "\tat scala.collection.mutable.ResizableArray$class.foreach(ResizableArray.scala:59)\n",
       "\tat scala.collection.mutable.ArrayBuffer.foreach(ArrayBuffer.scala:48)\n",
       "\tat scala.collection.TraversableLike$class.map(TraversableLike.scala:234)\n",
       "\tat scala.collection.AbstractTraversable.map(Traversable.scala:104)\n",
       "\tat org.apache.spark.sql.catalyst.plans.QueryPlan.org$apache$spark$sql$catalyst$plans$QueryPlan$$recursiveTransform$1(QueryPlan.scala:293)\n",
       "\tat org.apache.spark.sql.catalyst.plans.QueryPlan$$anonfun$6.apply(QueryPlan.scala:298)\n",
       "\tat org.apache.spark.sql.catalyst.trees.TreeNode.mapProductIterator(TreeNode.scala:187)\n",
       "\tat org.apache.spark.sql.catalyst.plans.QueryPlan.mapExpressions(QueryPlan.scala:298)\n",
       "\tat org.apache.spark.sql.catalyst.plans.QueryPlan.transformExpressionsUp(QueryPlan.scala:268)\n",
       "\tat org.apache.spark.sql.catalyst.analysis.CheckAnalysis$$anonfun$checkAnalysis$1.apply(CheckAnalysis.scala:85)\n",
       "\tat org.apache.spark.sql.catalyst.analysis.CheckAnalysis$$anonfun$checkAnalysis$1.apply(CheckAnalysis.scala:78)\n",
       "\tat org.apache.spark.sql.catalyst.trees.TreeNode.foreachUp(TreeNode.scala:127)\n",
       "\tat org.apache.spark.sql.catalyst.analysis.CheckAnalysis$class.checkAnalysis(CheckAnalysis.scala:78)\n",
       "\tat org.apache.spark.sql.catalyst.analysis.Analyzer.checkAnalysis(Analyzer.scala:91)\n",
       "\tat org.apache.spark.sql.execution.QueryExecution.assertAnalyzed(QueryExecution.scala:52)\n",
       "\tat org.apache.spark.sql.Dataset$.ofRows(Dataset.scala:67)\n",
       "\tat org.apache.spark.sql.Dataset.org$apache$spark$sql$Dataset$$withPlan(Dataset.scala:2884)\n",
       "\tat org.apache.spark.sql.Dataset.select(Dataset.scala:1150)\n",
       "\tat sun.reflect.GeneratedMethodAccessor63.invoke(Unknown Source)\n",
       "\tat sun.reflect.DelegatingMethodAccessorImpl.invoke(DelegatingMethodAccessorImpl.java:43)\n",
       "\tat java.lang.reflect.Method.invoke(Method.java:498)\n",
       "\tat py4j.reflection.MethodInvoker.invoke(MethodInvoker.java:244)\n",
       "\tat py4j.reflection.ReflectionEngine.invoke(ReflectionEngine.java:357)\n",
       "\tat py4j.Gateway.invoke(Gateway.java:280)\n",
       "\tat py4j.commands.AbstractCommand.invokeMethod(AbstractCommand.java:132)\n",
       "\tat py4j.commands.CallCommand.execute(CallCommand.java:79)\n",
       "\tat py4j.GatewayConnection.run(GatewayConnection.java:214)\n",
       "\tat java.lang.Thread.run(Thread.java:748)\n",
       "\n",
       "\n",
       "During handling of the above exception, another exception occurred:\n",
       "\n",
       "Traceback (most recent call last):\n",
       "  File \"/var/folders/g4/bh0x216x6_j83zjyf806bjn40000gn/T/kernel-PySpark-8a4a6204-b0a8-4b06-8dd1-258e515fd5a6/pyspark_runner.py\", line 180, in <module>\n",
       "    eval(compiled_code)\n",
       "  File \"<string>\", line 1, in <module>\n",
       "  File \"/usr/local/Cellar/apache-spark/2.2.1/libexec/python/pyspark/sql/dataframe.py\", line 1040, in select\n",
       "    jdf = self._jdf.select(self._jcols(*cols))\n",
       "  File \"/usr/local/Cellar/apache-spark/2.2.1/libexec/python/lib/py4j-0.10.4-src.zip/py4j/java_gateway.py\", line 1133, in __call__\n",
       "    answer, self.gateway_client, self.target_id, self.name)\n",
       "  File \"/usr/local/Cellar/apache-spark/2.2.1/libexec/python/pyspark/sql/utils.py\", line 69, in deco\n",
       "    raise AnalysisException(s.split(': ', 1)[1], stackTrace)\n",
       "pyspark.sql.utils.AnalysisException: \"cannot resolve '`genres`' due to data type mismatch: cannot cast StringType to ArrayType(MapType(StringType,StringType,true),true);;\\n'Project [id#222, unresolvedalias(cast(genres#3 as array<map<string,string>>), None), tagline#19, title#20, vote_average#22, vote_count#23]\\n+- Project [genres#3, cast(id#5 as int) AS id#222, tagline#19, title#20, vote_average#22, vote_count#23]\\n   +- Project [genres#3, id#5, tagline#19, title#20, vote_average#22, vote_count#23]\\n      +- Relation[adult#0,belongs_to_collection#1,budget#2,genres#3,homepage#4,id#5,imdb_id#6,original_language#7,original_title#8,overview#9,popularity#10,poster_path#11,production_companies#12,production_countries#13,release_date#14,revenue#15L,runtime#16,spoken_languages#17,status#18,tagline#19,title#20,video#21,vote_average#22,vote_count#23] csv\\n\"\n",
       "\n",
       "StackTrace: org.apache.toree.interpreter.broker.BrokerState$$anonfun$markFailure$1.apply(BrokerState.scala:158)\n",
       "org.apache.toree.interpreter.broker.BrokerState$$anonfun$markFailure$1.apply(BrokerState.scala:158)\n",
       "scala.Option.foreach(Option.scala:257)\n",
       "org.apache.toree.interpreter.broker.BrokerState.markFailure(BrokerState.scala:157)\n",
       "sun.reflect.GeneratedMethodAccessor54.invoke(Unknown Source)\n",
       "sun.reflect.DelegatingMethodAccessorImpl.invoke(DelegatingMethodAccessorImpl.java:43)\n",
       "java.lang.reflect.Method.invoke(Method.java:498)\n",
       "py4j.reflection.MethodInvoker.invoke(MethodInvoker.java:244)\n",
       "py4j.reflection.ReflectionEngine.invoke(ReflectionEngine.java:357)\n",
       "py4j.Gateway.invoke(Gateway.java:280)\n",
       "py4j.commands.AbstractCommand.invokeMethod(AbstractCommand.java:132)\n",
       "py4j.commands.CallCommand.execute(CallCommand.java:79)\n",
       "py4j.GatewayConnection.run(GatewayConnection.java:214)\n",
       "java.lang.Thread.run(Thread.java:748)"
      ]
     },
     "execution_count": 141,
     "metadata": {},
     "output_type": "execute_result"
    }
   ],
   "source": [
    "bmd3 = bmd2.select('id',bmd2['genres'].cast('ARRAY<MAP<string,string>>'),'tagline','title','vote_average','vote_count')"
   ]
  },
  {
   "cell_type": "code",
   "execution_count": 135,
   "metadata": {},
   "outputs": [
    {
     "data": {
      "text/plain": [
       "DataFrame[genres: string, id: int, tagline: string, title: string, vote_average: double, vote_count: int, genres2: string]"
      ]
     },
     "execution_count": 135,
     "metadata": {},
     "output_type": "execute_result"
    }
   ],
   "source": [
    "bmd4"
   ]
  },
  {
   "cell_type": "code",
   "execution_count": 93,
   "metadata": {},
   "outputs": [
    {
     "data": {
      "text/plain": [
       "Name: org.apache.toree.interpreter.broker.BrokerException\n",
       "Message: Traceback (most recent call last):\n",
       "  File \"/var/folders/g4/bh0x216x6_j83zjyf806bjn40000gn/T/kernel-PySpark-8a4a6204-b0a8-4b06-8dd1-258e515fd5a6/pyspark_runner.py\", line 180, in <module>\n",
       "    eval(compiled_code)\n",
       "  File \"<string>\", line 1, in <module>\n",
       "  File \"/usr/local/Cellar/apache-spark/2.2.1/libexec/python/pyspark/sql/dataframe.py\", line 1020, in __getattr__\n",
       "    \"'%s' object has no attribute '%s'\" % (self.__class__.__name__, name))\n",
       "AttributeError: 'DataFrame' object has no attribute 'asDict'\n",
       "\n",
       "StackTrace: org.apache.toree.interpreter.broker.BrokerState$$anonfun$markFailure$1.apply(BrokerState.scala:158)\n",
       "org.apache.toree.interpreter.broker.BrokerState$$anonfun$markFailure$1.apply(BrokerState.scala:158)\n",
       "scala.Option.foreach(Option.scala:257)\n",
       "org.apache.toree.interpreter.broker.BrokerState.markFailure(BrokerState.scala:157)\n",
       "sun.reflect.GeneratedMethodAccessor54.invoke(Unknown Source)\n",
       "sun.reflect.DelegatingMethodAccessorImpl.invoke(DelegatingMethodAccessorImpl.java:43)\n",
       "java.lang.reflect.Method.invoke(Method.java:498)\n",
       "py4j.reflection.MethodInvoker.invoke(MethodInvoker.java:244)\n",
       "py4j.reflection.ReflectionEngine.invoke(ReflectionEngine.java:357)\n",
       "py4j.Gateway.invoke(Gateway.java:280)\n",
       "py4j.commands.AbstractCommand.invokeMethod(AbstractCommand.java:132)\n",
       "py4j.commands.CallCommand.execute(CallCommand.java:79)\n",
       "py4j.GatewayConnection.run(GatewayConnection.java:214)\n",
       "java.lang.Thread.run(Thread.java:748)"
      ]
     },
     "execution_count": 93,
     "metadata": {},
     "output_type": "execute_result"
    }
   ],
   "source": [
    "type(bmd2.select(['genres']).asDict())"
   ]
  },
  {
   "cell_type": "code",
   "execution_count": 79,
   "metadata": {},
   "outputs": [
    {
     "data": {
      "text/plain": [
       "Name: org.apache.toree.interpreter.broker.BrokerException\n",
       "Message: Traceback (most recent call last):\n",
       "  File \"/var/folders/g4/bh0x216x6_j83zjyf806bjn40000gn/T/kernel-PySpark-8a4a6204-b0a8-4b06-8dd1-258e515fd5a6/pyspark_runner.py\", line 180, in <module>\n",
       "    eval(compiled_code)\n",
       "  File \"<string>\", line 1, in <module>\n",
       "TypeError: eval() arg 1 must be a string, bytes or code object\n",
       "\n",
       "StackTrace: org.apache.toree.interpreter.broker.BrokerState$$anonfun$markFailure$1.apply(BrokerState.scala:158)\n",
       "org.apache.toree.interpreter.broker.BrokerState$$anonfun$markFailure$1.apply(BrokerState.scala:158)\n",
       "scala.Option.foreach(Option.scala:257)\n",
       "org.apache.toree.interpreter.broker.BrokerState.markFailure(BrokerState.scala:157)\n",
       "sun.reflect.GeneratedMethodAccessor54.invoke(Unknown Source)\n",
       "sun.reflect.DelegatingMethodAccessorImpl.invoke(DelegatingMethodAccessorImpl.java:43)\n",
       "java.lang.reflect.Method.invoke(Method.java:498)\n",
       "py4j.reflection.MethodInvoker.invoke(MethodInvoker.java:244)\n",
       "py4j.reflection.ReflectionEngine.invoke(ReflectionEngine.java:357)\n",
       "py4j.Gateway.invoke(Gateway.java:280)\n",
       "py4j.commands.AbstractCommand.invokeMethod(AbstractCommand.java:132)\n",
       "py4j.commands.CallCommand.execute(CallCommand.java:79)\n",
       "py4j.GatewayConnection.run(GatewayConnection.java:214)\n",
       "java.lang.Thread.run(Thread.java:748)"
      ]
     },
     "execution_count": 79,
     "metadata": {},
     "output_type": "execute_result"
    }
   ],
   "source": [
    "bmd3 = bmd2.select('id',eval(bmd2['genres']),'tagline','title','vote_average','vote_count')"
   ]
  },
  {
   "cell_type": "code",
   "execution_count": 64,
   "metadata": {},
   "outputs": [
    {
     "name": "stdout",
     "output_type": "stream",
     "text": [
      "Column<b'genres'>\n"
     ]
    }
   ],
   "source": [
    "print(bmd2['genres'])"
   ]
  },
  {
   "cell_type": "code",
   "execution_count": 74,
   "metadata": {},
   "outputs": [
    {
     "data": {
      "text/plain": [
       "<class 'pyspark.sql.dataframe.DataFrame'>"
      ]
     },
     "execution_count": 74,
     "metadata": {},
     "output_type": "execute_result"
    }
   ],
   "source": [
    "type(bmd2.select('genres'))"
   ]
  },
  {
   "cell_type": "code",
   "execution_count": 76,
   "metadata": {},
   "outputs": [
    {
     "data": {
      "text/plain": [
       "<class 'list'>"
      ]
     },
     "execution_count": 76,
     "metadata": {},
     "output_type": "execute_result"
    }
   ],
   "source": [
    "type(bmd2.select('genres').collect())"
   ]
  },
  {
   "cell_type": "code",
   "execution_count": 78,
   "metadata": {},
   "outputs": [
    {
     "data": {
      "text/plain": [
       "Row(genres=\"[{'id': 16, 'name': 'Animation'}, {'id': 35, 'name': 'Comedy'}, {'id': 10751, 'name': 'Family'}]\")"
      ]
     },
     "execution_count": 78,
     "metadata": {},
     "output_type": "execute_result"
    }
   ],
   "source": [
    "bmd2.select('genres').collect()[0]"
   ]
  },
  {
   "cell_type": "code",
   "execution_count": null,
   "metadata": {},
   "outputs": [],
   "source": [
    "bmd2.select('genres').collect()"
   ]
  },
  {
   "cell_type": "code",
   "execution_count": 58,
   "metadata": {
    "scrolled": true
   },
   "outputs": [
    {
     "data": {
      "text/plain": [
       "Name: org.apache.toree.interpreter.broker.BrokerException\n",
       "Message: Traceback (most recent call last):\n",
       "  File \"/var/folders/g4/bh0x216x6_j83zjyf806bjn40000gn/T/kernel-PySpark-8a4a6204-b0a8-4b06-8dd1-258e515fd5a6/pyspark_runner.py\", line 174, in <module>\n",
       "    ast_parsed = ast.parse(final_code)\n",
       "  File \"/usr/local/anaconda3/lib/python3.6/ast.py\", line 35, in parse\n",
       "    return compile(source, filename, mode, PyCF_ONLY_AST)\n",
       "  File \"<unknown>\", line 1\n",
       "    bmd3 = bmd2.select('id',bmd2['genres'].astype('MAP{'string','string'}'),'tagline','title','vote_average','vote_count')\n",
       "                                                             ^\n",
       "SyntaxError: invalid syntax\n",
       "\n",
       "StackTrace: org.apache.toree.interpreter.broker.BrokerState$$anonfun$markFailure$1.apply(BrokerState.scala:158)\n",
       "org.apache.toree.interpreter.broker.BrokerState$$anonfun$markFailure$1.apply(BrokerState.scala:158)\n",
       "scala.Option.foreach(Option.scala:257)\n",
       "org.apache.toree.interpreter.broker.BrokerState.markFailure(BrokerState.scala:157)\n",
       "sun.reflect.GeneratedMethodAccessor54.invoke(Unknown Source)\n",
       "sun.reflect.DelegatingMethodAccessorImpl.invoke(DelegatingMethodAccessorImpl.java:43)\n",
       "java.lang.reflect.Method.invoke(Method.java:498)\n",
       "py4j.reflection.MethodInvoker.invoke(MethodInvoker.java:244)\n",
       "py4j.reflection.ReflectionEngine.invoke(ReflectionEngine.java:357)\n",
       "py4j.Gateway.invoke(Gateway.java:280)\n",
       "py4j.commands.AbstractCommand.invokeMethod(AbstractCommand.java:132)\n",
       "py4j.commands.CallCommand.execute(CallCommand.java:79)\n",
       "py4j.GatewayConnection.run(GatewayConnection.java:214)\n",
       "java.lang.Thread.run(Thread.java:748)"
      ]
     },
     "execution_count": 58,
     "metadata": {},
     "output_type": "execute_result"
    }
   ],
   "source": [
    "bmd3 = bmd2.select('id',bmd2['genres'].astype('MAP{'string','string'}'),'tagline','title','vote_average','vote_count')"
   ]
  },
  {
   "cell_type": "code",
   "execution_count": 41,
   "metadata": {},
   "outputs": [
    {
     "data": {
      "text/plain": [
       "Name: org.apache.toree.interpreter.broker.BrokerException\n",
       "Message: Traceback (most recent call last):\n",
       "  File \"/var/folders/g4/bh0x216x6_j83zjyf806bjn40000gn/T/kernel-PySpark-8a4a6204-b0a8-4b06-8dd1-258e515fd5a6/pyspark_runner.py\", line 180, in <module>\n",
       "    eval(compiled_code)\n",
       "  File \"<string>\", line 1, in <module>\n",
       "  File \"/usr/local/Cellar/apache-spark/2.2.1/libexec/python/pyspark/sql/column.py\", line 422, in cast\n",
       "    raise TypeError(\"unexpected type: %s\" % type(dataType))\n",
       "TypeError: unexpected type: <class 'tuple'>\n",
       "\n",
       "StackTrace: org.apache.toree.interpreter.broker.BrokerState$$anonfun$markFailure$1.apply(BrokerState.scala:158)\n",
       "org.apache.toree.interpreter.broker.BrokerState$$anonfun$markFailure$1.apply(BrokerState.scala:158)\n",
       "scala.Option.foreach(Option.scala:257)\n",
       "org.apache.toree.interpreter.broker.BrokerState.markFailure(BrokerState.scala:157)\n",
       "sun.reflect.GeneratedMethodAccessor54.invoke(Unknown Source)\n",
       "sun.reflect.DelegatingMethodAccessorImpl.invoke(DelegatingMethodAccessorImpl.java:43)\n",
       "java.lang.reflect.Method.invoke(Method.java:498)\n",
       "py4j.reflection.MethodInvoker.invoke(MethodInvoker.java:244)\n",
       "py4j.reflection.ReflectionEngine.invoke(ReflectionEngine.java:357)\n",
       "py4j.Gateway.invoke(Gateway.java:280)\n",
       "py4j.commands.AbstractCommand.invokeMethod(AbstractCommand.java:132)\n",
       "py4j.commands.CallCommand.execute(CallCommand.java:79)\n",
       "py4j.GatewayConnection.run(GatewayConnection.java:214)\n",
       "java.lang.Thread.run(Thread.java:748)"
      ]
     },
     "execution_count": 41,
     "metadata": {},
     "output_type": "execute_result"
    }
   ],
   "source": [
    "bmd3 = bmd2.select('id',bmd2['genres'].astype(('string','string')),'tagline','title','vote_average','vote_count')"
   ]
  },
  {
   "cell_type": "code",
   "execution_count": 36,
   "metadata": {},
   "outputs": [
    {
     "name": "stdout",
     "output_type": "stream",
     "text": [
      "Help on class map in module builtins:\n",
      "\n",
      "class map(object)\n",
      " |  map(func, *iterables) --> map object\n",
      " |  \n",
      " |  Make an iterator that computes the function using arguments from\n",
      " |  each of the iterables.  Stops when the shortest iterable is exhausted.\n",
      " |  \n",
      " |  Methods defined here:\n",
      " |  \n",
      " |  __getattribute__(self, name, /)\n",
      " |      Return getattr(self, name).\n",
      " |  \n",
      " |  __iter__(self, /)\n",
      " |      Implement iter(self).\n",
      " |  \n",
      " |  __new__(*args, **kwargs) from builtins.type\n",
      " |      Create and return a new object.  See help(type) for accurate signature.\n",
      " |  \n",
      " |  __next__(self, /)\n",
      " |      Implement next(self).\n",
      " |  \n",
      " |  __reduce__(...)\n",
      " |      Return state information for pickling.\n",
      "\n"
     ]
    }
   ],
   "source": [
    "help(map)"
   ]
  },
  {
   "cell_type": "code",
   "execution_count": null,
   "metadata": {},
   "outputs": [],
   "source": []
  },
  {
   "cell_type": "code",
   "execution_count": 46,
   "metadata": {},
   "outputs": [
    {
     "data": {
      "text/plain": [
       "<class 'pyspark.sql.dataframe.DataFrame'>"
      ]
     },
     "execution_count": 46,
     "metadata": {},
     "output_type": "execute_result"
    }
   ],
   "source": [
    "type(bmd2.select('genres'))"
   ]
  },
  {
   "cell_type": "code",
   "execution_count": 78,
   "metadata": {},
   "outputs": [
    {
     "data": {
      "text/plain": [
       "<class 'pandas.core.frame.DataFrame'>"
      ]
     },
     "execution_count": 78,
     "metadata": {},
     "output_type": "execute_result"
    }
   ],
   "source": [
    "type(bmd2.select('genres').toPandas())"
   ]
  },
  {
   "cell_type": "code",
   "execution_count": 51,
   "metadata": {
    "scrolled": true
   },
   "outputs": [
    {
     "data": {
      "text/plain": [
       "[Column<b'genres'>]"
      ]
     },
     "execution_count": 51,
     "metadata": {},
     "output_type": "execute_result"
    }
   ],
   "source": [
    "t = list(bmd2.select('genres'))"
   ]
  },
  {
   "cell_type": "code",
   "execution_count": 58,
   "metadata": {},
   "outputs": [
    {
     "data": {
      "text/plain": [
       "<class 'pandas.core.frame.DataFrame'>"
      ]
     },
     "execution_count": 58,
     "metadata": {},
     "output_type": "execute_result"
    }
   ],
   "source": [
    "type(bmd2.select('genres').toPandas())"
   ]
  },
  {
   "cell_type": "code",
   "execution_count": 59,
   "metadata": {},
   "outputs": [
    {
     "data": {
      "text/plain": [
       "genres    45466\n",
       "dtype: int64"
      ]
     },
     "execution_count": 59,
     "metadata": {},
     "output_type": "execute_result"
    }
   ],
   "source": [
    "bmd2.select('genres').toPandas().count()"
   ]
  },
  {
   "cell_type": "code",
   "execution_count": 70,
   "metadata": {},
   "outputs": [],
   "source": [
    "import pandas as pd\n",
    "import numpy as np\n",
    "from pandas import Series, DataFrame"
   ]
  },
  {
   "cell_type": "code",
   "execution_count": 76,
   "metadata": {
    "scrolled": true
   },
   "outputs": [
    {
     "data": {
      "text/plain": [
       "                                                  genres\n",
       "0      [{'id': 16, 'name': 'Animation'}, {'id': 35, '...\n",
       "1      [{'id': 12, 'name': 'Adventure'}, {'id': 14, '...\n",
       "2      [{'id': 10749, 'name': 'Romance'}, {'id': 35, ...\n",
       "3      [{'id': 35, 'name': 'Comedy'}, {'id': 18, 'nam...\n",
       "4                         [{'id': 35, 'name': 'Comedy'}]\n",
       "5      [{'id': 28, 'name': 'Action'}, {'id': 80, 'nam...\n",
       "6      [{'id': 35, 'name': 'Comedy'}, {'id': 10749, '...\n",
       "7      [{'id': 28, 'name': 'Action'}, {'id': 12, 'nam...\n",
       "8      [{'id': 28, 'name': 'Action'}, {'id': 12, 'nam...\n",
       "9      [{'id': 12, 'name': 'Adventure'}, {'id': 28, '...\n",
       "10     [{'id': 35, 'name': 'Comedy'}, {'id': 18, 'nam...\n",
       "11     [{'id': 35, 'name': 'Comedy'}, {'id': 27, 'nam...\n",
       "12     [{'id': 10751, 'name': 'Family'}, {'id': 16, '...\n",
       "13     [{'id': 36, 'name': 'History'}, {'id': 18, 'na...\n",
       "14     [{'id': 28, 'name': 'Action'}, {'id': 12, 'nam...\n",
       "15     [{'id': 18, 'name': 'Drama'}, {'id': 80, 'name...\n",
       "16     [{'id': 18, 'name': 'Drama'}, {'id': 10749, 'n...\n",
       "17     [{'id': 80, 'name': 'Crime'}, {'id': 35, 'name...\n",
       "18     [{'id': 80, 'name': 'Crime'}, {'id': 35, 'name...\n",
       "19     [{'id': 28, 'name': 'Action'}, {'id': 35, 'nam...\n",
       "20     [{'id': 35, 'name': 'Comedy'}, {'id': 53, 'nam...\n",
       "21     [{'id': 18, 'name': 'Drama'}, {'id': 53, 'name...\n",
       "22     [{'id': 28, 'name': 'Action'}, {'id': 12, 'nam...\n",
       "23     [{'id': 18, 'name': 'Drama'}, {'id': 14, 'name...\n",
       "24     [{'id': 18, 'name': 'Drama'}, {'id': 10749, 'n...\n",
       "25                         [{'id': 18, 'name': 'Drama'}]\n",
       "26     [{'id': 35, 'name': 'Comedy'}, {'id': 18, 'nam...\n",
       "27     [{'id': 18, 'name': 'Drama'}, {'id': 10749, 'n...\n",
       "28     [{'id': 14, 'name': 'Fantasy'}, {'id': 878, 'n...\n",
       "29     [{'id': 18, 'name': 'Drama'}, {'id': 80, 'name...\n",
       "...                                                  ...\n",
       "45436  [{'id': 28, 'name': 'Action'}, {'id': 9648, 'n...\n",
       "45437  [{'id': 10751, 'name': 'Family'}, {'id': 16, '...\n",
       "45438                      [{'id': 18, 'name': 'Drama'}]\n",
       "45439  [{'id': 18, 'name': 'Drama'}, {'id': 14, 'name...\n",
       "45440  [{'id': 18, 'name': 'Drama'}, {'id': 10751, 'n...\n",
       "45441                     [{'id': 35, 'name': 'Comedy'}]\n",
       "45442                                                 []\n",
       "45443  [{'id': 35, 'name': 'Comedy'}, {'id': 14, 'nam...\n",
       "45444                    [{'id': 14, 'name': 'Fantasy'}]\n",
       "45445  [{'id': 14, 'name': 'Fantasy'}, {'id': 35, 'na...\n",
       "45446  [{'id': 14, 'name': 'Fantasy'}, {'id': 35, 'na...\n",
       "45447                                                 []\n",
       "45448                                                 []\n",
       "45449  [{'id': 16, 'name': 'Animation'}, {'id': 10751...\n",
       "45450  [{'id': 14, 'name': 'Fantasy'}, {'id': 28, 'na...\n",
       "45451  [{'id': 35, 'name': 'Comedy'}, {'id': 14, 'nam...\n",
       "45452                [{'id': 99, 'name': 'Documentary'}]\n",
       "45453  [{'id': 80, 'name': 'Crime'}, {'id': 18, 'name...\n",
       "45454  [{'id': 35, 'name': 'Comedy'}, {'id': 18, 'nam...\n",
       "45455                                                 []\n",
       "45456  [{'id': 27, 'name': 'Horror'}, {'id': 9648, 'n...\n",
       "45457  [{'id': 9648, 'name': 'Mystery'}, {'id': 27, '...\n",
       "45458                     [{'id': 27, 'name': 'Horror'}]\n",
       "45459           [{'id': 878, 'name': 'Science Fiction'}]\n",
       "45460  [{'id': 18, 'name': 'Drama'}, {'id': 28, 'name...\n",
       "45461  [{'id': 18, 'name': 'Drama'}, {'id': 10751, 'n...\n",
       "45462                      [{'id': 18, 'name': 'Drama'}]\n",
       "45463  [{'id': 28, 'name': 'Action'}, {'id': 18, 'nam...\n",
       "45464                                                 []\n",
       "45465                                                 []\n",
       "\n",
       "[45466 rows x 1 columns]"
      ]
     },
     "execution_count": 76,
     "metadata": {},
     "output_type": "execute_result"
    }
   ],
   "source": [
    "bmd2.select('genres').toPandas()"
   ]
  },
  {
   "cell_type": "code",
   "execution_count": null,
   "metadata": {},
   "outputs": [],
   "source": []
  },
  {
   "cell_type": "code",
   "execution_count": 31,
   "metadata": {
    "scrolled": true
   },
   "outputs": [
    {
     "data": {
      "text/plain": [
       "<class 'pyspark.sql.column.Column'>"
      ]
     },
     "execution_count": 31,
     "metadata": {},
     "output_type": "execute_result"
    }
   ],
   "source": [
    "type(bmd2[0])"
   ]
  },
  {
   "cell_type": "code",
   "execution_count": 35,
   "metadata": {},
   "outputs": [],
   "source": [
    "from ast import literal_eval"
   ]
  },
  {
   "cell_type": "code",
   "execution_count": 23,
   "metadata": {},
   "outputs": [
    {
     "data": {
      "text/plain": [
       "Name: org.apache.toree.interpreter.broker.BrokerException\n",
       "Message: Traceback (most recent call last):\n",
       "  File \"/var/folders/g4/bh0x216x6_j83zjyf806bjn40000gn/T/kernel-PySpark-50d89198-10f6-4b2b-a2c7-a0c9170742cf/pyspark_runner.py\", line 180, in <module>\n",
       "    eval(compiled_code)\n",
       "  File \"<string>\", line 1, in <module>\n",
       "  File \"/usr/local/Cellar/apache-spark/2.2.1/libexec/python/pyspark/context.py\", line 491, in parallelize\n",
       "    serializer.dump_stream(c, tempFile)\n",
       "  File \"/usr/local/Cellar/apache-spark/2.2.1/libexec/python/pyspark/serializers.py\", line 220, in dump_stream\n",
       "    self.serializer.dump_stream(self._batched(iterator), stream)\n",
       "  File \"/usr/local/Cellar/apache-spark/2.2.1/libexec/python/pyspark/serializers.py\", line 139, in dump_stream\n",
       "    self._write_with_length(obj, stream)\n",
       "  File \"/usr/local/Cellar/apache-spark/2.2.1/libexec/python/pyspark/serializers.py\", line 149, in _write_with_length\n",
       "    serialized = self.dumps(obj)\n",
       "  File \"/usr/local/Cellar/apache-spark/2.2.1/libexec/python/pyspark/serializers.py\", line 451, in dumps\n",
       "    return pickle.dumps(obj, protocol)\n",
       "  File \"/usr/local/Cellar/apache-spark/2.2.1/libexec/python/lib/py4j-0.10.4-src.zip/py4j/java_gateway.py\", line 1133, in __call__\n",
       "    answer, self.gateway_client, self.target_id, self.name)\n",
       "  File \"/usr/local/Cellar/apache-spark/2.2.1/libexec/python/pyspark/sql/utils.py\", line 63, in deco\n",
       "    return f(*a, **kw)\n",
       "  File \"/usr/local/Cellar/apache-spark/2.2.1/libexec/python/lib/py4j-0.10.4-src.zip/py4j/protocol.py\", line 323, in get_return_value\n",
       "    format(target_id, \".\", name, value))\n",
       "py4j.protocol.Py4JError: An error occurred while calling o142.__getstate__. Trace:\n",
       "py4j.Py4JException: Method __getstate__([]) does not exist\n",
       "\tat py4j.reflection.ReflectionEngine.getMethod(ReflectionEngine.java:318)\n",
       "\tat py4j.reflection.ReflectionEngine.getMethod(ReflectionEngine.java:326)\n",
       "\tat py4j.Gateway.invoke(Gateway.java:272)\n",
       "\tat py4j.commands.AbstractCommand.invokeMethod(AbstractCommand.java:132)\n",
       "\tat py4j.commands.CallCommand.execute(CallCommand.java:79)\n",
       "\tat py4j.GatewayConnection.run(GatewayConnection.java:214)\n",
       "\tat java.lang.Thread.run(Thread.java:748)\n",
       "\n",
       "\n",
       "\n",
       "StackTrace: org.apache.toree.interpreter.broker.BrokerState$$anonfun$markFailure$1.apply(BrokerState.scala:158)\n",
       "org.apache.toree.interpreter.broker.BrokerState$$anonfun$markFailure$1.apply(BrokerState.scala:158)\n",
       "scala.Option.foreach(Option.scala:257)\n",
       "org.apache.toree.interpreter.broker.BrokerState.markFailure(BrokerState.scala:157)\n",
       "sun.reflect.NativeMethodAccessorImpl.invoke0(Native Method)\n",
       "sun.reflect.NativeMethodAccessorImpl.invoke(NativeMethodAccessorImpl.java:62)\n",
       "sun.reflect.DelegatingMethodAccessorImpl.invoke(DelegatingMethodAccessorImpl.java:43)\n",
       "java.lang.reflect.Method.invoke(Method.java:498)\n",
       "py4j.reflection.MethodInvoker.invoke(MethodInvoker.java:244)\n",
       "py4j.reflection.ReflectionEngine.invoke(ReflectionEngine.java:357)\n",
       "py4j.Gateway.invoke(Gateway.java:280)\n",
       "py4j.commands.AbstractCommand.invokeMethod(AbstractCommand.java:132)\n",
       "py4j.commands.CallCommand.execute(CallCommand.java:79)\n",
       "py4j.GatewayConnection.run(GatewayConnection.java:214)\n",
       "java.lang.Thread.run(Thread.java:748)"
      ]
     },
     "execution_count": 23,
     "metadata": {},
     "output_type": "execute_result"
    }
   ],
   "source": [
    "trdd = sc.parallelize()"
   ]
  },
  {
   "cell_type": "code",
   "execution_count": 10,
   "metadata": {},
   "outputs": [],
   "source": [
    "temp = bmd2"
   ]
  },
  {
   "cell_type": "code",
   "execution_count": 11,
   "metadata": {},
   "outputs": [],
   "source": [
    "bmd2 = temp"
   ]
  },
  {
   "cell_type": "code",
   "execution_count": 13,
   "metadata": {},
   "outputs": [
    {
     "data": {
      "text/plain": [
       "<class 'pyspark.sql.column.Column'>"
      ]
     },
     "execution_count": 13,
     "metadata": {},
     "output_type": "execute_result"
    }
   ],
   "source": [
    "type(bmd2['genres'])"
   ]
  },
  {
   "cell_type": "code",
   "execution_count": 24,
   "metadata": {},
   "outputs": [
    {
     "data": {
      "text/plain": [
       "<class 'pyspark.sql.dataframe.DataFrame'>"
      ]
     },
     "execution_count": 24,
     "metadata": {},
     "output_type": "execute_result"
    }
   ],
   "source": [
    "type(bmd2.select('genres'))"
   ]
  },
  {
   "cell_type": "code",
   "execution_count": 39,
   "metadata": {},
   "outputs": [
    {
     "data": {
      "text/plain": [
       "Name: org.apache.toree.interpreter.broker.BrokerException\n",
       "Message: Traceback (most recent call last):\n",
       "  File \"/var/folders/g4/bh0x216x6_j83zjyf806bjn40000gn/T/kernel-PySpark-b9c3eaff-bb2b-4924-8e47-d33dfce5670c/pyspark_runner.py\", line 180, in <module>\n",
       "    eval(compiled_code)\n",
       "  File \"<string>\", line 1, in <module>\n",
       "  File \"/usr/local/Cellar/apache-spark/2.2.1/libexec/python/pyspark/sql/dataframe.py\", line 1020, in __getattr__\n",
       "    \"'%s' object has no attribute '%s'\" % (self.__class__.__name__, name))\n",
       "AttributeError: 'DataFrame' object has no attribute 'map'\n",
       "\n",
       "StackTrace: org.apache.toree.interpreter.broker.BrokerState$$anonfun$markFailure$1.apply(BrokerState.scala:158)\n",
       "org.apache.toree.interpreter.broker.BrokerState$$anonfun$markFailure$1.apply(BrokerState.scala:158)\n",
       "scala.Option.foreach(Option.scala:257)\n",
       "org.apache.toree.interpreter.broker.BrokerState.markFailure(BrokerState.scala:157)\n",
       "sun.reflect.GeneratedMethodAccessor42.invoke(Unknown Source)\n",
       "sun.reflect.DelegatingMethodAccessorImpl.invoke(DelegatingMethodAccessorImpl.java:43)\n",
       "java.lang.reflect.Method.invoke(Method.java:498)\n",
       "py4j.reflection.MethodInvoker.invoke(MethodInvoker.java:244)\n",
       "py4j.reflection.ReflectionEngine.invoke(ReflectionEngine.java:357)\n",
       "py4j.Gateway.invoke(Gateway.java:280)\n",
       "py4j.commands.AbstractCommand.invokeMethod(AbstractCommand.java:132)\n",
       "py4j.commands.CallCommand.execute(CallCommand.java:79)\n",
       "py4j.GatewayConnection.run(GatewayConnection.java:214)\n",
       "java.lang.Thread.run(Thread.java:748)"
      ]
     },
     "execution_count": 39,
     "metadata": {},
     "output_type": "execute_result"
    }
   ],
   "source": [
    "bmd2.select('genres').map(lambda x:[x])"
   ]
  },
  {
   "cell_type": "code",
   "execution_count": 35,
   "metadata": {},
   "outputs": [
    {
     "name": "stdout",
     "output_type": "stream",
     "text": [
      "Column<b'genres'>\n"
     ]
    }
   ],
   "source": [
    "for i in bmd2.select('genres'):\n",
    "    print(i)"
   ]
  },
  {
   "cell_type": "code",
   "execution_count": 12,
   "metadata": {
    "scrolled": true
   },
   "outputs": [
    {
     "data": {
      "text/plain": [
       "Name: org.apache.toree.interpreter.broker.BrokerException\n",
       "Message: Traceback (most recent call last):\n",
       "  File \"/var/folders/g4/bh0x216x6_j83zjyf806bjn40000gn/T/kernel-PySpark-b9c3eaff-bb2b-4924-8e47-d33dfce5670c/pyspark_runner.py\", line 180, in <module>\n",
       "    eval(compiled_code)\n",
       "  File \"<string>\", line 1, in <module>\n",
       "TypeError: 'DataFrame' object does not support item assignment\n",
       "\n",
       "StackTrace: org.apache.toree.interpreter.broker.BrokerState$$anonfun$markFailure$1.apply(BrokerState.scala:158)\n",
       "org.apache.toree.interpreter.broker.BrokerState$$anonfun$markFailure$1.apply(BrokerState.scala:158)\n",
       "scala.Option.foreach(Option.scala:257)\n",
       "org.apache.toree.interpreter.broker.BrokerState.markFailure(BrokerState.scala:157)\n",
       "sun.reflect.NativeMethodAccessorImpl.invoke0(Native Method)\n",
       "sun.reflect.NativeMethodAccessorImpl.invoke(NativeMethodAccessorImpl.java:62)\n",
       "sun.reflect.DelegatingMethodAccessorImpl.invoke(DelegatingMethodAccessorImpl.java:43)\n",
       "java.lang.reflect.Method.invoke(Method.java:498)\n",
       "py4j.reflection.MethodInvoker.invoke(MethodInvoker.java:244)\n",
       "py4j.reflection.ReflectionEngine.invoke(ReflectionEngine.java:357)\n",
       "py4j.Gateway.invoke(Gateway.java:280)\n",
       "py4j.commands.AbstractCommand.invokeMethod(AbstractCommand.java:132)\n",
       "py4j.commands.CallCommand.execute(CallCommand.java:79)\n",
       "py4j.GatewayConnection.run(GatewayConnection.java:214)\n",
       "java.lang.Thread.run(Thread.java:748)"
      ]
     },
     "execution_count": 12,
     "metadata": {},
     "output_type": "execute_result"
    }
   ],
   "source": [
    "bmd2['genres'] = bmd2.select('genres')"
   ]
  },
  {
   "cell_type": "code",
   "execution_count": null,
   "metadata": {},
   "outputs": [],
   "source": []
  }
 ],
 "metadata": {
  "kernelspec": {
   "display_name": "Apache Toree - PySpark",
   "language": "python",
   "name": "apache_toree_pyspark"
  },
  "language_info": {
   "name": "scala",
   "version": "2.11.8"
  }
 },
 "nbformat": 4,
 "nbformat_minor": 2
}
