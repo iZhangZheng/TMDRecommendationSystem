{
 "cells": [
  {
   "cell_type": "markdown",
   "metadata": {},
   "source": [
    "# 5003 TITLE"
   ]
  },
  {
   "cell_type": "markdown",
   "metadata": {},
   "source": [
    "* 可以用schema初始化数据类型，但是还需要对应位置，就神烦，不整了，GTMD\n",
    "* 如果用这个方法，需要在读取数据的时候增加参数schema，这里设置的结构就叫schema，所以直接写schema=schema\n",
    "* 还需要导入包：`from pyspark.sql.types import *`\n",
    "* schema写法：`schema = StructType([StructField(\"id\", IntegerType()),StructField(\"title\", StringType()),StructField(\"tagline\", StringType()),StructField(\"vote_average\", FloatType()),StructField(\"vote_count\", IntegerType())])`\n",
    "* 当你读取csv格式错误的时候，你就加一个`multiLine=True,escape='\"'`，专治各种不服"
   ]
  },
  {
   "cell_type": "markdown",
   "metadata": {},
   "source": [
    "## UDF是解决DataFrame问题的通法😂"
   ]
  },
  {
   "cell_type": "code",
   "execution_count": 1,
   "metadata": {},
   "outputs": [],
   "source": [
    "# 导入各种用到的包\n",
    "# 返回值类型支持\n",
    "from pyspark.sql.types import ArrayType\n",
    "from pyspark.sql.types import MapType\n",
    "from pyspark.sql.types import StringType\n",
    "from pyspark.sql.types import NullType\n",
    "from pyspark.sql.types import DoubleType\n",
    "# UDF模块\n",
    "from pyspark.sql.functions import udf"
   ]
  },
  {
   "cell_type": "markdown",
   "metadata": {},
   "source": [
    "* 形如`[{'id': 16,...},{????},]`\n",
    "* 这次处理的结构大致是list里面含有maps，但是整体的类型又是string。"
   ]
  },
  {
   "cell_type": "code",
   "execution_count": 2,
   "metadata": {},
   "outputs": [],
   "source": [
    "# 类型转换：\n",
    "typetransfer = udf(lambda x:eval(x), ArrayType(MapType(StringType(),StringType())))"
   ]
  },
  {
   "cell_type": "code",
   "execution_count": 3,
   "metadata": {},
   "outputs": [],
   "source": [
    "# 把genres提取出来，再建立一个UDF来实现这个功能。\n",
    "takegenres = udf(lambda x: [i['name'] for i in x], StringType())"
   ]
  },
  {
   "cell_type": "code",
   "execution_count": 4,
   "metadata": {},
   "outputs": [],
   "source": [
    "# 去掉外面的中括号，这是上面的代码处理list时候的衍生物\n",
    "rmbracket = udf(lambda x:','.join(x), StringType())"
   ]
  },
  {
   "cell_type": "code",
   "execution_count": 5,
   "metadata": {},
   "outputs": [],
   "source": [
    "# 取出导演\n",
    "getdirector = udf(lambda x:[i['name'] for i in x if i['job'] == 'Director'],StringType())\n",
    "# 取出主演\n",
    "getcharacter = udf(lambda x:[i['name'] for i in x],StringType())"
   ]
  },
  {
   "cell_type": "code",
   "execution_count": 6,
   "metadata": {},
   "outputs": [],
   "source": [
    "# 取出关键词\n",
    "getkws = udf(lambda x:[i['name'] for i in x],StringType())"
   ]
  },
  {
   "cell_type": "code",
   "execution_count": 7,
   "metadata": {},
   "outputs": [],
   "source": [
    "# 切割词语,返回string\n",
    "cutwords_str = udf(lambda x:str(x).split(' '),StringType())\n",
    "# 返回Array,专门针对tagline\n",
    "cutwords = udf(lambda x:str(x).split(' '),ArrayType(StringType()))"
   ]
  },
  {
   "cell_type": "code",
   "execution_count": 8,
   "metadata": {},
   "outputs": [],
   "source": [
    "# 这里都是没有用到的UDF，不用跑这部分代码\n",
    "# 只保留两个主演，第一版，总是报奇怪的错\n",
    "get2character = udf(lambda x:[eval(x)[0],eval(x)[1]],StringType())\n",
    "# 如果有至少一个就返回第一个演员，可以跑出来\n",
    "get1character = udf(lambda x:[x[0] if len(x)>=1 else []],StringType())\n",
    "# 如果有至少两个就返回前两个演员，不可以跑出来，注意下面的代码虽然会被执行，但是立刻就被覆盖了\n",
    "# 想测试的话记得改一下\n",
    "get2character = udf(lambda x:[x[0],x[1] if len(x)>=2 else []],StringType())\n",
    "# 改写成这样跑出来了,而且直接给了不带中括号的\n",
    "get2character = udf(lambda x:','.join([x[0],x[1]]) if len(x)>=2 else '',StringType())\n",
    "# 思考一下，似乎你不用在乎演员出现的次数\n",
    "# 如果出现的很少的角色演员，会被过滤，如果是很大牌的演员，只要出现就有影响力\n",
    "# 放弃这个部分，因为毁掉了3000+个数据"
   ]
  },
  {
   "cell_type": "code",
   "execution_count": null,
   "metadata": {},
   "outputs": [],
   "source": []
  },
  {
   "cell_type": "markdown",
   "metadata": {},
   "source": [
    "# 处理movies_metadata.csv"
   ]
  },
  {
   "cell_type": "code",
   "execution_count": 9,
   "metadata": {},
   "outputs": [],
   "source": [
    "df1 = spark.read.csv('/Users/apple/Desktop/5003-project/moviedata/TMD/movies_metadata.csv',multiLine=True,escape='\"', header=True, inferSchema=True)"
   ]
  },
  {
   "cell_type": "code",
   "execution_count": 10,
   "metadata": {
    "scrolled": true
   },
   "outputs": [
    {
     "name": "stdout",
     "output_type": "stream",
     "text": [
      "+-----+---------------------+--------+--------------------+--------------------+-----+---------+-----------------+--------------------+--------------------+----------+--------------------+--------------------+--------------------+------------+---------+-------+--------------------+--------+--------------------+--------------------+-----+------------+----------+\n",
      "|adult|belongs_to_collection|  budget|              genres|            homepage|   id|  imdb_id|original_language|      original_title|            overview|popularity|         poster_path|production_companies|production_countries|release_date|  revenue|runtime|    spoken_languages|  status|             tagline|               title|video|vote_average|vote_count|\n",
      "+-----+---------------------+--------+--------------------+--------------------+-----+---------+-----------------+--------------------+--------------------+----------+--------------------+--------------------+--------------------+------------+---------+-------+--------------------+--------+--------------------+--------------------+-----+------------+----------+\n",
      "|False| {'id': 10194, 'na...|30000000|[{'id': 16, 'name...|http://toystory.d...|  862|tt0114709|               en|           Toy Story|Led by Woody, And...| 21.946943|/rhIRbceoE9lR4veE...|[{'name': 'Pixar ...|[{'iso_3166_1': '...|  1995-10-30|373554033|   81.0|[{'iso_639_1': 'e...|Released|                null|           Toy Story|false|         7.7|      5415|\n",
      "|False|                 null|65000000|[{'id': 12, 'name...|                null| 8844|tt0113497|               en|             Jumanji|When siblings Jud...| 17.015539|/vzmL6fP7aPKNKPRT...|[{'name': 'TriSta...|[{'iso_3166_1': '...|  1995-12-15|262797249|  104.0|[{'iso_639_1': 'e...|Released|Roll the dice and...|             Jumanji|false|         6.9|      2413|\n",
      "|False| {'id': 119050, 'n...|       0|[{'id': 10749, 'n...|                null|15602|tt0113228|               en|    Grumpier Old Men|A family wedding ...|   11.7129|/6ksm1sjKMFLbO7UY...|[{'name': 'Warner...|[{'iso_3166_1': '...|  1995-12-22|        0|  101.0|[{'iso_639_1': 'e...|Released|Still Yelling. St...|    Grumpier Old Men|false|         6.5|        92|\n",
      "|False|                 null|16000000|[{'id': 35, 'name...|                null|31357|tt0114885|               en|   Waiting to Exhale|Cheated on, mistr...|  3.859495|/16XOMpEaLWkrcPqS...|[{'name': 'Twenti...|[{'iso_3166_1': '...|  1995-12-22| 81452156|  127.0|[{'iso_639_1': 'e...|Released|Friends are the p...|   Waiting to Exhale|false|         6.1|        34|\n",
      "|False| {'id': 96871, 'na...|       0|[{'id': 35, 'name...|                null|11862|tt0113041|               en|Father of the Bri...|Just when George ...|  8.387519|/e64sOI48hQXyru7n...|[{'name': 'Sandol...|[{'iso_3166_1': '...|  1995-02-10| 76578911|  106.0|[{'iso_639_1': 'e...|Released|Just When His Wor...|Father of the Bri...|false|         5.7|       173|\n",
      "|False|                 null|60000000|[{'id': 28, 'name...|                null|  949|tt0113277|               en|                Heat|Obsessive master ...| 17.924927|/zMyfPUelumio3tiD...|[{'name': 'Regenc...|[{'iso_3166_1': '...|  1995-12-15|187436818|  170.0|[{'iso_639_1': 'e...|Released|A Los Angeles Cri...|                Heat|false|         7.7|      1886|\n",
      "|False|                 null|58000000|[{'id': 35, 'name...|                null|11860|tt0114319|               en|             Sabrina|An ugly duckling ...|  6.677277|/jQh15y5YB7bWz1Nt...|[{'name': 'Paramo...|[{'iso_3166_1': '...|  1995-12-15|        0|  127.0|[{'iso_639_1': 'f...|Released|You are cordially...|             Sabrina|false|         6.2|       141|\n",
      "|False|                 null|       0|[{'id': 28, 'name...|                null|45325|tt0112302|               en|        Tom and Huck|A mischievous you...|  2.561161|/sGO5Qa55p7wTu7FJ...|[{'name': 'Walt D...|[{'iso_3166_1': '...|  1995-12-22|        0|   97.0|[{'iso_639_1': 'e...|Released|The Original Bad ...|        Tom and Huck|false|         5.4|        45|\n",
      "|False|                 null|35000000|[{'id': 28, 'name...|                null| 9091|tt0114576|               en|        Sudden Death|International act...|   5.23158|/eoWvKD60lT95Ss1M...|[{'name': 'Univer...|[{'iso_3166_1': '...|  1995-12-22| 64350171|  106.0|[{'iso_639_1': 'e...|Released|Terror goes into ...|        Sudden Death|false|         5.5|       174|\n",
      "|False| {'id': 645, 'name...|58000000|[{'id': 12, 'name...|http://www.mgm.co...|  710|tt0113189|               en|           GoldenEye|James Bond must u...| 14.686036|/5c0ovjT41KnYIHYu...|[{'name': 'United...|[{'iso_3166_1': '...|  1995-11-16|352194034|  130.0|[{'iso_639_1': 'e...|Released|No limits. No fea...|           GoldenEye|false|         6.6|      1194|\n",
      "|False|                 null|62000000|[{'id': 35, 'name...|                null| 9087|tt0112346|               en|The American Pres...|Widowed U.S. pres...|  6.318445|/lymPNGLZgPHuqM29...|[{'name': 'Columb...|[{'iso_3166_1': '...|  1995-11-17|107879496|  106.0|[{'iso_639_1': 'e...|Released|Why can't the mos...|The American Pres...|false|         6.5|       199|\n",
      "|False|                 null|       0|[{'id': 35, 'name...|                null|12110|tt0112896|               en|Dracula: Dead and...|When a lawyer sho...|  5.430331|/xve4cgfYItnOhtzL...|[{'name': 'Columb...|[{'iso_3166_1': '...|  1995-12-22|        0|   88.0|[{'iso_639_1': 'e...|Released|                null|Dracula: Dead and...|false|         5.7|       210|\n",
      "|False| {'id': 117693, 'n...|       0|[{'id': 10751, 'n...|                null|21032|tt0112453|               en|               Balto|An outcast half-w...| 12.140733|/gV5PCAVCPNxlOLFM...|[{'name': 'Univer...|[{'iso_3166_1': '...|  1995-12-22| 11348324|   78.0|[{'iso_639_1': 'e...|Released|Part Dog. Part Wo...|               Balto|false|         7.1|       423|\n",
      "|False|                 null|44000000|[{'id': 36, 'name...|                null|10858|tt0113987|               en|               Nixon|An all-star cast ...|     5.092|/cICkmCEiXRhvZmbu...|[{'name': 'Hollyw...|[{'iso_3166_1': '...|  1995-12-22| 13681765|  192.0|[{'iso_639_1': 'e...|Released|Triumphant in Vic...|               Nixon|false|         7.1|        72|\n",
      "|False|                 null|98000000|[{'id': 28, 'name...|                null| 1408|tt0112760|               en|    Cutthroat Island|Morgan Adams and ...|  7.284477|/odM9973kIv9hcjfH...|[{'name': 'Le Stu...|[{'iso_3166_1': '...|  1995-12-22| 10017322|  119.0|[{'iso_639_1': 'e...|Released|The Course Has Be...|    Cutthroat Island|false|         5.7|       137|\n",
      "|False|                 null|52000000|[{'id': 18, 'name...|                null|  524|tt0112641|               en|              Casino|The life of the g...| 10.137389|/xo517ibXBDdYQY81...|[{'name': 'Univer...|[{'iso_3166_1': '...|  1995-11-22|116112375|  178.0|[{'iso_639_1': 'e...|Released|No one stays at t...|              Casino|false|         7.8|      1343|\n",
      "|False|                 null|16500000|[{'id': 18, 'name...|                null| 4584|tt0114388|               en|Sense and Sensibi...|Rich Mr. Dashwood...| 10.673167|/lA9HTy84Bb6ZwNey...|[{'name': 'Columb...|[{'iso_3166_1': '...|  1995-12-13|135000000|  136.0|[{'iso_639_1': 'e...|Released|Lose your heart a...|Sense and Sensibi...|false|         7.2|       364|\n",
      "|False|                 null| 4000000|[{'id': 80, 'name...|                null|    5|tt0113101|               en|          Four Rooms|It's Ted the Bell...|  9.026586|/eQs5hh9rxrk1m4xH...|[{'name': 'Mirama...|[{'iso_3166_1': '...|  1995-12-09|  4300000|   98.0|[{'iso_639_1': 'e...|Released|Twelve outrageous...|          Four Rooms|false|         6.5|       539|\n",
      "|False| {'id': 3167, 'nam...|30000000|[{'id': 80, 'name...|                null| 9273|tt0112281|               en|Ace Ventura: When...|Summoned from an ...|  8.205448|/wRlGnJhEzcxBjvWt...|[{'name': 'O Ente...|[{'iso_3166_1': '...|  1995-11-10|212385533|   90.0|[{'iso_639_1': 'e...|Released|New animals. New ...|Ace Ventura: When...|false|         6.1|      1128|\n",
      "|False|                 null|60000000|[{'id': 28, 'name...|                null|11517|tt0113845|               en|         Money Train|A vengeful New Yo...|  7.337906|/jSozzzVOR2kfXgTU...|[{'name': 'Columb...|[{'iso_3166_1': '...|  1995-11-21| 35431113|  103.0|[{'iso_639_1': 'e...|Released|Get on, or GET OU...|         Money Train|false|         5.4|       224|\n",
      "+-----+---------------------+--------+--------------------+--------------------+-----+---------+-----------------+--------------------+--------------------+----------+--------------------+--------------------+--------------------+------------+---------+-------+--------------------+--------+--------------------+--------------------+-----+------------+----------+\n",
      "only showing top 20 rows\n",
      "\n"
     ]
    }
   ],
   "source": [
    "# 一眼就能看出来这个具体结构一眼看不出来，那就不看了吧\n",
    "df1.show()"
   ]
  },
  {
   "cell_type": "code",
   "execution_count": 11,
   "metadata": {
    "scrolled": true
   },
   "outputs": [
    {
     "name": "stdout",
     "output_type": "stream",
     "text": [
      "DataFrame[adult: string, belongs_to_collection: string, budget: string, genres: string, homepage: string, id: string, imdb_id: string, original_language: string, original_title: string, overview: string, popularity: string, poster_path: string, production_companies: string, production_countries: string, release_date: string, revenue: bigint, runtime: double, spoken_languages: string, status: string, tagline: string, title: string, video: boolean, vote_average: double, vote_count: int]\n",
      "------------------分界线------------------\n",
      "root\n",
      " |-- adult: string (nullable = true)\n",
      " |-- belongs_to_collection: string (nullable = true)\n",
      " |-- budget: string (nullable = true)\n",
      " |-- genres: string (nullable = true)\n",
      " |-- homepage: string (nullable = true)\n",
      " |-- id: string (nullable = true)\n",
      " |-- imdb_id: string (nullable = true)\n",
      " |-- original_language: string (nullable = true)\n",
      " |-- original_title: string (nullable = true)\n",
      " |-- overview: string (nullable = true)\n",
      " |-- popularity: string (nullable = true)\n",
      " |-- poster_path: string (nullable = true)\n",
      " |-- production_companies: string (nullable = true)\n",
      " |-- production_countries: string (nullable = true)\n",
      " |-- release_date: string (nullable = true)\n",
      " |-- revenue: long (nullable = true)\n",
      " |-- runtime: double (nullable = true)\n",
      " |-- spoken_languages: string (nullable = true)\n",
      " |-- status: string (nullable = true)\n",
      " |-- tagline: string (nullable = true)\n",
      " |-- title: string (nullable = true)\n",
      " |-- video: boolean (nullable = true)\n",
      " |-- vote_average: double (nullable = true)\n",
      " |-- vote_count: integer (nullable = true)\n"
     ]
    }
   ],
   "source": [
    "# 看一看这个数据的结构和类型，以及包含哪些特征\n",
    "print(df1)\n",
    "print('------------------分界线------------------')\n",
    "df1.printSchema()\n",
    "# 有的数据类型并不如你所愿，记得转换"
   ]
  },
  {
   "cell_type": "code",
   "execution_count": 12,
   "metadata": {
    "scrolled": true
   },
   "outputs": [
    {
     "data": {
      "text/plain": [
       "DataFrame[genres: string, id: string, tagline: string, title: string, vote_average: double, vote_count: int]"
      ]
     },
     "execution_count": 12,
     "metadata": {},
     "output_type": "execute_result"
    }
   ],
   "source": [
    "# 抽出我们需要的那些特征,让他们看上去更简洁\n",
    "bmd = df1.select('genres','id','tagline','title','vote_average','vote_count')\n",
    "bmd"
   ]
  },
  {
   "cell_type": "code",
   "execution_count": 13,
   "metadata": {},
   "outputs": [
    {
     "data": {
      "text/plain": [
       "DataFrame[id: int, genres: string, tagline: string, title: string, vote_average: double, vote_count: int]"
      ]
     },
     "execution_count": 13,
     "metadata": {},
     "output_type": "execute_result"
    }
   ],
   "source": [
    "# 把id的数据类型转换成int，并放在前面\n",
    "bmd2 = bmd.select(bmd['id'].astype('int'),'genres','tagline','title','vote_average','vote_count')\n",
    "bmd2"
   ]
  },
  {
   "cell_type": "code",
   "execution_count": 14,
   "metadata": {
    "scrolled": true
   },
   "outputs": [
    {
     "name": "stdout",
     "output_type": "stream",
     "text": [
      "+-----+--------------------+--------------------+--------------------+------------+----------+\n",
      "|   id|              genres|             tagline|               title|vote_average|vote_count|\n",
      "+-----+--------------------+--------------------+--------------------+------------+----------+\n",
      "|  862|[{'id': 16, 'name...|                null|           Toy Story|         7.7|      5415|\n",
      "| 8844|[{'id': 12, 'name...|Roll the dice and...|             Jumanji|         6.9|      2413|\n",
      "|15602|[{'id': 10749, 'n...|Still Yelling. St...|    Grumpier Old Men|         6.5|        92|\n",
      "|31357|[{'id': 35, 'name...|Friends are the p...|   Waiting to Exhale|         6.1|        34|\n",
      "|11862|[{'id': 35, 'name...|Just When His Wor...|Father of the Bri...|         5.7|       173|\n",
      "|  949|[{'id': 28, 'name...|A Los Angeles Cri...|                Heat|         7.7|      1886|\n",
      "|11860|[{'id': 35, 'name...|You are cordially...|             Sabrina|         6.2|       141|\n",
      "|45325|[{'id': 28, 'name...|The Original Bad ...|        Tom and Huck|         5.4|        45|\n",
      "| 9091|[{'id': 28, 'name...|Terror goes into ...|        Sudden Death|         5.5|       174|\n",
      "|  710|[{'id': 12, 'name...|No limits. No fea...|           GoldenEye|         6.6|      1194|\n",
      "| 9087|[{'id': 35, 'name...|Why can't the mos...|The American Pres...|         6.5|       199|\n",
      "|12110|[{'id': 35, 'name...|                null|Dracula: Dead and...|         5.7|       210|\n",
      "|21032|[{'id': 10751, 'n...|Part Dog. Part Wo...|               Balto|         7.1|       423|\n",
      "|10858|[{'id': 36, 'name...|Triumphant in Vic...|               Nixon|         7.1|        72|\n",
      "| 1408|[{'id': 28, 'name...|The Course Has Be...|    Cutthroat Island|         5.7|       137|\n",
      "|  524|[{'id': 18, 'name...|No one stays at t...|              Casino|         7.8|      1343|\n",
      "| 4584|[{'id': 18, 'name...|Lose your heart a...|Sense and Sensibi...|         7.2|       364|\n",
      "|    5|[{'id': 80, 'name...|Twelve outrageous...|          Four Rooms|         6.5|       539|\n",
      "| 9273|[{'id': 80, 'name...|New animals. New ...|Ace Ventura: When...|         6.1|      1128|\n",
      "|11517|[{'id': 28, 'name...|Get on, or GET OU...|         Money Train|         5.4|       224|\n",
      "+-----+--------------------+--------------------+--------------------+------------+----------+\n",
      "only showing top 20 rows\n",
      "\n"
     ]
    }
   ],
   "source": [
    "# 这里bmd2中genres一列的内容很乱，需要单独处理，取出关键词。\n",
    "# 使用前面提到的UDF函数来解决这个问题。\n",
    "bmd2.show()"
   ]
  },
  {
   "cell_type": "code",
   "execution_count": 15,
   "metadata": {},
   "outputs": [
    {
     "name": "stdout",
     "output_type": "stream",
     "text": [
      "+-----+--------------------+--------------------+--------------------+------------+----------+\n",
      "|   id|              genres|             tagline|               title|vote_average|vote_count|\n",
      "+-----+--------------------+--------------------+--------------------+------------+----------+\n",
      "|  862|Animation,Comedy,...|                null|           Toy Story|         7.7|      5415|\n",
      "| 8844|Adventure,Fantasy...|Roll the dice and...|             Jumanji|         6.9|      2413|\n",
      "|15602|      Romance,Comedy|Still Yelling. St...|    Grumpier Old Men|         6.5|        92|\n",
      "|31357|Comedy,Drama,Romance|Friends are the p...|   Waiting to Exhale|         6.1|        34|\n",
      "|11862|              Comedy|Just When His Wor...|Father of the Bri...|         5.7|       173|\n",
      "|  949|Action,Crime,Dram...|A Los Angeles Cri...|                Heat|         7.7|      1886|\n",
      "|11860|      Comedy,Romance|You are cordially...|             Sabrina|         6.2|       141|\n",
      "|45325|Action,Adventure,...|The Original Bad ...|        Tom and Huck|         5.4|        45|\n",
      "| 9091|Action,Adventure,...|Terror goes into ...|        Sudden Death|         5.5|       174|\n",
      "|  710|Adventure,Action,...|No limits. No fea...|           GoldenEye|         6.6|      1194|\n",
      "| 9087|Comedy,Drama,Romance|Why can't the mos...|The American Pres...|         6.5|       199|\n",
      "|12110|       Comedy,Horror|                null|Dracula: Dead and...|         5.7|       210|\n",
      "|21032|Family,Animation,...|Part Dog. Part Wo...|               Balto|         7.1|       423|\n",
      "|10858|       History,Drama|Triumphant in Vic...|               Nixon|         7.1|        72|\n",
      "| 1408|    Action,Adventure|The Course Has Be...|    Cutthroat Island|         5.7|       137|\n",
      "|  524|         Drama,Crime|No one stays at t...|              Casino|         7.8|      1343|\n",
      "| 4584|       Drama,Romance|Lose your heart a...|Sense and Sensibi...|         7.2|       364|\n",
      "|    5|        Crime,Comedy|Twelve outrageous...|          Four Rooms|         6.5|       539|\n",
      "| 9273|Crime,Comedy,Adve...|New animals. New ...|Ace Ventura: When...|         6.1|      1128|\n",
      "|11517| Action,Comedy,Crime|Get on, or GET OU...|         Money Train|         5.4|       224|\n",
      "+-----+--------------------+--------------------+--------------------+------------+----------+\n",
      "only showing top 20 rows\n",
      "\n"
     ]
    }
   ],
   "source": [
    "# 先转换成类型，方便之后的操作\n",
    "bmd3 = bmd2.select('id',typetransfer('genres').alias('genres'),'tagline','title','vote_average','vote_count')\n",
    "# 取出关键词\n",
    "bmd4 = bmd3.select('id',takegenres('genres').alias('genres'),'tagline','title','vote_average','vote_count')\n",
    "bmd5 = bmd4.select('id',rmbracket('genres').alias('genres'),'tagline','title','vote_average','vote_count')\n",
    "bmd5.show()"
   ]
  },
  {
   "cell_type": "code",
   "execution_count": 16,
   "metadata": {},
   "outputs": [
    {
     "name": "stdout",
     "output_type": "stream",
     "text": [
      "+-----+--------------------+------------+----------+\n",
      "|   id|              genres|vote_average|vote_count|\n",
      "+-----+--------------------+------------+----------+\n",
      "|  862|Animation,Comedy,...|         7.7|      5415|\n",
      "| 8844|Adventure,Fantasy...|         6.9|      2413|\n",
      "|15602|      Romance,Comedy|         6.5|        92|\n",
      "|31357|Comedy,Drama,Romance|         6.1|        34|\n",
      "|11862|              Comedy|         5.7|       173|\n",
      "|  949|Action,Crime,Dram...|         7.7|      1886|\n",
      "|11860|      Comedy,Romance|         6.2|       141|\n",
      "|45325|Action,Adventure,...|         5.4|        45|\n",
      "| 9091|Action,Adventure,...|         5.5|       174|\n",
      "|  710|Adventure,Action,...|         6.6|      1194|\n",
      "| 9087|Comedy,Drama,Romance|         6.5|       199|\n",
      "|12110|       Comedy,Horror|         5.7|       210|\n",
      "|21032|Family,Animation,...|         7.1|       423|\n",
      "|10858|       History,Drama|         7.1|        72|\n",
      "| 1408|    Action,Adventure|         5.7|       137|\n",
      "|  524|         Drama,Crime|         7.8|      1343|\n",
      "| 4584|       Drama,Romance|         7.2|       364|\n",
      "|    5|        Crime,Comedy|         6.5|       539|\n",
      "| 9273|Crime,Comedy,Adve...|         6.1|      1128|\n",
      "|11517| Action,Comedy,Crime|         5.4|       224|\n",
      "+-----+--------------------+------------+----------+\n",
      "only showing top 20 rows\n",
      "\n"
     ]
    }
   ],
   "source": [
    "# 再单独取出一些数据\n",
    "bmd6 = bmd5.select('id','genres','vote_average','vote_count')\n",
    "bmd6.show()"
   ]
  },
  {
   "cell_type": "markdown",
   "metadata": {},
   "source": [
    "# 处理cresits.csv"
   ]
  },
  {
   "cell_type": "code",
   "execution_count": 17,
   "metadata": {},
   "outputs": [],
   "source": [
    "cres = spark.read.csv('/Users/apple/Desktop/5003-project/moviedata/TMD/credits.csv',multiLine=True,escape='\"', header=True, inferSchema=True)"
   ]
  },
  {
   "cell_type": "code",
   "execution_count": 18,
   "metadata": {
    "scrolled": false
   },
   "outputs": [
    {
     "name": "stdout",
     "output_type": "stream",
     "text": [
      "+--------------------+--------------------+-----+\n",
      "|                cast|                crew|   id|\n",
      "+--------------------+--------------------+-----+\n",
      "|[{'cast_id': 14, ...|[{'credit_id': '5...|  862|\n",
      "|[{'cast_id': 1, '...|[{'credit_id': '5...| 8844|\n",
      "|[{'cast_id': 2, '...|[{'credit_id': '5...|15602|\n",
      "|[{'cast_id': 1, '...|[{'credit_id': '5...|31357|\n",
      "|[{'cast_id': 1, '...|[{'credit_id': '5...|11862|\n",
      "|[{'cast_id': 25, ...|[{'credit_id': '5...|  949|\n",
      "|[{'cast_id': 1, '...|[{'credit_id': '5...|11860|\n",
      "|[{'cast_id': 2, '...|[{'credit_id': '5...|45325|\n",
      "|[{'cast_id': 1, '...|[{'credit_id': '5...| 9091|\n",
      "|[{'cast_id': 1, '...|[{'credit_id': '5...|  710|\n",
      "|[{'cast_id': 1, '...|[{'credit_id': '5...| 9087|\n",
      "|[{'cast_id': 9, '...|[{'credit_id': '5...|12110|\n",
      "|[{'cast_id': 1, '...|[{'credit_id': '5...|21032|\n",
      "|[{'cast_id': 1, '...|[{'credit_id': '5...|10858|\n",
      "|[{'cast_id': 1, '...|[{'credit_id': '5...| 1408|\n",
      "|[{'cast_id': 4, '...|[{'credit_id': '5...|  524|\n",
      "|[{'cast_id': 6, '...|[{'credit_id': '5...| 4584|\n",
      "|[{'cast_id': 42, ...|[{'credit_id': '5...|    5|\n",
      "|[{'cast_id': 1, '...|[{'credit_id': '5...| 9273|\n",
      "|[{'cast_id': 1, '...|[{'credit_id': '5...|11517|\n",
      "+--------------------+--------------------+-----+\n",
      "only showing top 20 rows\n",
      "\n"
     ]
    },
    {
     "data": {
      "text/plain": [
       "DataFrame[cast: string, crew: string, id: int]"
      ]
     },
     "execution_count": 18,
     "metadata": {},
     "output_type": "execute_result"
    }
   ],
   "source": [
    "# 和处理上一个数据集中genres一栏的方法可以说是一样的\n",
    "# 取出导演和主演\n",
    "cres.show()\n",
    "cres"
   ]
  },
  {
   "cell_type": "markdown",
   "metadata": {},
   "source": [
    "* transfer = udf(lambda x:eval(x), ArrayType(MapType(StringType(),StringType())))"
   ]
  },
  {
   "cell_type": "code",
   "execution_count": 19,
   "metadata": {},
   "outputs": [
    {
     "data": {
      "text/plain": [
       "[('id', 'int'), ('cast', 'array<map<string,string>>'), ('crew', 'array<map<string,string>>')]"
      ]
     },
     "execution_count": 19,
     "metadata": {},
     "output_type": "execute_result"
    }
   ],
   "source": [
    "# 类型转换\n",
    "cres1 = cres.select('id',typetransfer('cast').alias('cast'),typetransfer('crew').alias('crew'))\n",
    "cres1.dtypes"
   ]
  },
  {
   "cell_type": "code",
   "execution_count": 20,
   "metadata": {
    "scrolled": false
   },
   "outputs": [
    {
     "name": "stdout",
     "output_type": "stream",
     "text": [
      "+-----+--------------------+--------------------+\n",
      "|   id|                cast|                crew|\n",
      "+-----+--------------------+--------------------+\n",
      "|  862|[Tom Hanks, Tim A...|     [John Lasseter]|\n",
      "| 8844|[Robin Williams, ...|      [Joe Johnston]|\n",
      "|15602|[Walter Matthau, ...|     [Howard Deutch]|\n",
      "|31357|[Whitney Houston,...|   [Forest Whitaker]|\n",
      "|11862|[Steve Martin, Di...|     [Charles Shyer]|\n",
      "|  949|[Al Pacino, Rober...|      [Michael Mann]|\n",
      "|11860|[Harrison Ford, J...|    [Sydney Pollack]|\n",
      "|45325|[Jonathan Taylor ...|      [Peter Hewitt]|\n",
      "| 9091|[Jean-Claude Van ...|       [Peter Hyams]|\n",
      "|  710|[Pierce Brosnan, ...|   [Martin Campbell]|\n",
      "| 9087|[Michael Douglas,...|        [Rob Reiner]|\n",
      "|12110|[Leslie Nielsen, ...|        [Mel Brooks]|\n",
      "|21032|[Kevin Bacon, Bob...|       [Simon Wells]|\n",
      "|10858|[Anthony Hopkins,...|      [Oliver Stone]|\n",
      "| 1408|[Geena Davis, Mat...|      [Renny Harlin]|\n",
      "|  524|[Robert De Niro, ...|   [Martin Scorsese]|\n",
      "| 4584|[Kate Winslet, Em...|           [Ang Lee]|\n",
      "|    5|[Tim Roth, Antoni...|[Allison Anders, ...|\n",
      "| 9273|[Jim Carrey, Ian ...|    [Steve Oedekerk]|\n",
      "|11517|[Wesley Snipes, W...|      [Joseph Ruben]|\n",
      "+-----+--------------------+--------------------+\n",
      "only showing top 20 rows\n",
      "\n"
     ]
    }
   ],
   "source": [
    "# 取出导演和主演\n",
    "cres2 = cres1.select('id',getcharacter('cast').alias('cast'),getdirector('crew').alias('crew'))\n",
    "cres2.show()"
   ]
  },
  {
   "cell_type": "code",
   "execution_count": 21,
   "metadata": {
    "scrolled": false
   },
   "outputs": [
    {
     "data": {
      "text/plain": [
       "[('id', 'int'), ('cast', 'string'), ('crew', 'string')]"
      ]
     },
     "execution_count": 21,
     "metadata": {},
     "output_type": "execute_result"
    }
   ],
   "source": [
    "cres2.dtypes"
   ]
  },
  {
   "cell_type": "code",
   "execution_count": 22,
   "metadata": {
    "scrolled": true
   },
   "outputs": [
    {
     "name": "stdout",
     "output_type": "stream",
     "text": [
      "+-----+--------------------+--------------------+\n",
      "|   id|           Character|            Director|\n",
      "+-----+--------------------+--------------------+\n",
      "|  862|Tom Hanks,Tim All...|       John Lasseter|\n",
      "| 8844|Robin Williams,Jo...|        Joe Johnston|\n",
      "|15602|Walter Matthau,Ja...|       Howard Deutch|\n",
      "|31357|Whitney Houston,A...|     Forest Whitaker|\n",
      "|11862|Steve Martin,Dian...|       Charles Shyer|\n",
      "|  949|Al Pacino,Robert ...|        Michael Mann|\n",
      "|11860|Harrison Ford,Jul...|      Sydney Pollack|\n",
      "|45325|Jonathan Taylor T...|        Peter Hewitt|\n",
      "| 9091|Jean-Claude Van D...|         Peter Hyams|\n",
      "|  710|Pierce Brosnan,Se...|     Martin Campbell|\n",
      "| 9087|Michael Douglas,A...|          Rob Reiner|\n",
      "|12110|Leslie Nielsen,Me...|          Mel Brooks|\n",
      "|21032|Kevin Bacon,Bob H...|         Simon Wells|\n",
      "|10858|Anthony Hopkins,J...|        Oliver Stone|\n",
      "| 1408|Geena Davis,Matth...|        Renny Harlin|\n",
      "|  524|Robert De Niro,Sh...|     Martin Scorsese|\n",
      "| 4584|Kate Winslet,Emma...|             Ang Lee|\n",
      "|    5|Tim Roth,Antonio ...|Allison Anders,Al...|\n",
      "| 9273|Jim Carrey,Ian Mc...|      Steve Oedekerk|\n",
      "|11517|Wesley Snipes,Woo...|        Joseph Ruben|\n",
      "+-----+--------------------+--------------------+\n",
      "only showing top 20 rows\n",
      "\n"
     ]
    }
   ],
   "source": [
    "cres3 = cres2.select('id',rmbracket('cast').alias('Character'),rmbracket('crew').alias('Director'))\n",
    "cres3.show()"
   ]
  },
  {
   "cell_type": "code",
   "execution_count": null,
   "metadata": {},
   "outputs": [],
   "source": []
  },
  {
   "cell_type": "markdown",
   "metadata": {},
   "source": [
    "# 处理keywords.csv"
   ]
  },
  {
   "cell_type": "code",
   "execution_count": 23,
   "metadata": {},
   "outputs": [],
   "source": [
    "kws = spark.read.csv('/Users/apple/Desktop/5003-project/moviedata/TMD/keywords.csv',multiLine=True,escape='\"', header=True, inferSchema=True)"
   ]
  },
  {
   "cell_type": "code",
   "execution_count": 24,
   "metadata": {
    "scrolled": true
   },
   "outputs": [
    {
     "name": "stdout",
     "output_type": "stream",
     "text": [
      "+-----+--------------------+\n",
      "|   id|            keywords|\n",
      "+-----+--------------------+\n",
      "|  862|[{'id': 931, 'nam...|\n",
      "| 8844|[{'id': 10090, 'n...|\n",
      "|15602|[{'id': 1495, 'na...|\n",
      "|31357|[{'id': 818, 'nam...|\n",
      "|11862|[{'id': 1009, 'na...|\n",
      "|  949|[{'id': 642, 'nam...|\n",
      "|11860|[{'id': 90, 'name...|\n",
      "|45325|                  []|\n",
      "| 9091|[{'id': 949, 'nam...|\n",
      "|  710|[{'id': 701, 'nam...|\n",
      "| 9087|[{'id': 833, 'nam...|\n",
      "|12110|[{'id': 3633, 'na...|\n",
      "|21032|[{'id': 1994, 'na...|\n",
      "|10858|[{'id': 840, 'nam...|\n",
      "| 1408|[{'id': 911, 'nam...|\n",
      "|  524|[{'id': 383, 'nam...|\n",
      "| 4584|[{'id': 420, 'nam...|\n",
      "|    5|[{'id': 612, 'nam...|\n",
      "| 9273|[{'id': 409, 'nam...|\n",
      "|11517|[{'id': 380, 'nam...|\n",
      "+-----+--------------------+\n",
      "only showing top 20 rows\n",
      "\n"
     ]
    }
   ],
   "source": [
    "kws.show()"
   ]
  },
  {
   "cell_type": "code",
   "execution_count": 25,
   "metadata": {},
   "outputs": [
    {
     "name": "stdout",
     "output_type": "stream",
     "text": [
      "+-----+--------------------+\n",
      "|   id|            keywords|\n",
      "+-----+--------------------+\n",
      "|  862|jealousy,toy,boy,...|\n",
      "| 8844|board game,disapp...|\n",
      "|15602|fishing,best frie...|\n",
      "|31357|based on novel,in...|\n",
      "|11862|baby,midlife cris...|\n",
      "|  949|robbery,detective...|\n",
      "|11860|paris,brother bro...|\n",
      "|45325|                    |\n",
      "| 9091|terrorist,hostage...|\n",
      "|  710|cuba,falsely accu...|\n",
      "| 9087|white house,usa p...|\n",
      "|12110|       dracula,spoof|\n",
      "|21032|wolf,dog-sledding...|\n",
      "|10858|usa president,pre...|\n",
      "| 1408|exotic island,tre...|\n",
      "|  524|poker,drug abuse,...|\n",
      "| 4584|bowling,based on ...|\n",
      "|    5|hotel,new year's ...|\n",
      "| 9273|africa,indigenous...|\n",
      "|11517|brother brother r...|\n",
      "+-----+--------------------+\n",
      "only showing top 20 rows\n",
      "\n"
     ]
    },
    {
     "data": {
      "text/plain": [
       "DataFrame[id: int, keywords: string]"
      ]
     },
     "execution_count": 25,
     "metadata": {},
     "output_type": "execute_result"
    }
   ],
   "source": [
    "# 改变类型\n",
    "kws1 = kws.select('id',typetransfer('keywords').alias('keywords'))\n",
    "# 提取关键词\n",
    "kws2 = kws1.select('id',getcharacter('keywords').alias('keywords'))\n",
    "# 删除中括号\n",
    "kws3 = kws2.select('id',rmbracket('keywords').alias('keywords'))\n",
    "kws3.show()\n",
    "kws3"
   ]
  },
  {
   "cell_type": "markdown",
   "metadata": {},
   "source": [
    "# 处理ratings.csv"
   ]
  },
  {
   "cell_type": "code",
   "execution_count": 26,
   "metadata": {},
   "outputs": [],
   "source": [
    "df2 = spark.read.csv('/Users/apple/Desktop/5003-project/moviedata/TMD/ratings.csv',multiLine=True,escape='\"', header=True, inferSchema=True)"
   ]
  },
  {
   "cell_type": "code",
   "execution_count": 27,
   "metadata": {
    "scrolled": true
   },
   "outputs": [
    {
     "name": "stdout",
     "output_type": "stream",
     "text": [
      "+------+-----+------+\n",
      "|userId|   id|rating|\n",
      "+------+-----+------+\n",
      "|     1|  110|   2.0|\n",
      "|     1|  147|   9.0|\n",
      "|     1|  858|  10.0|\n",
      "|     1| 1221|  10.0|\n",
      "|     1| 1246|  10.0|\n",
      "|     1| 1968|   8.0|\n",
      "|     1| 2762|   9.0|\n",
      "|     1| 2918|  10.0|\n",
      "|     1| 2959|   8.0|\n",
      "|     1| 4226|   8.0|\n",
      "|     1| 4878|  10.0|\n",
      "|     1| 5577|  10.0|\n",
      "|     1|33794|   8.0|\n",
      "|     1|54503|   7.0|\n",
      "|     1|58559|   8.0|\n",
      "|     1|59315|  10.0|\n",
      "|     1|68358|  10.0|\n",
      "|     1|69844|  10.0|\n",
      "|     1|73017|  10.0|\n",
      "|     1|81834|  10.0|\n",
      "+------+-----+------+\n",
      "only showing top 20 rows\n",
      "\n"
     ]
    },
    {
     "data": {
      "text/plain": [
       "DataFrame[userId: int, id: int, rating: double]"
      ]
     },
     "execution_count": 27,
     "metadata": {},
     "output_type": "execute_result"
    }
   ],
   "source": [
    "#  五分制改成十分制\n",
    "rats = df2.select('userId',df2['movieID'].alias('id'),(df2['rating']*2).alias('rating'))\n",
    "rats.show()\n",
    "rats"
   ]
  },
  {
   "cell_type": "markdown",
   "metadata": {},
   "source": [
    "# 数据整合"
   ]
  },
  {
   "cell_type": "markdown",
   "metadata": {},
   "source": [
    "bmd6\n",
    "cres3\n",
    "kws3\n",
    "rats"
   ]
  },
  {
   "cell_type": "code",
   "execution_count": 48,
   "metadata": {},
   "outputs": [],
   "source": [
    "dtpool = bmd6.join(cres3,'id').join(kws3,'id').join(rats,'id')"
   ]
  },
  {
   "cell_type": "code",
   "execution_count": 49,
   "metadata": {
    "scrolled": true
   },
   "outputs": [
    {
     "name": "stdout",
     "output_type": "stream",
     "text": [
      "+---+-------------+------------+----------+--------------------+-------------+--------------------+------+------+\n",
      "| id|       genres|vote_average|vote_count|           Character|     Director|            keywords|userId|rating|\n",
      "+---+-------------+------------+----------+--------------------+-------------+--------------------+------+------+\n",
      "|148|Drama,Romance|         6.8|        52|Sarah Polley,Tim ...|Isabel Coixet|nurse,yugoslavia,...|   337|   8.0|\n",
      "|148|Drama,Romance|         6.8|        52|Sarah Polley,Tim ...|Isabel Coixet|nurse,yugoslavia,...|   619|   4.0|\n",
      "|148|Drama,Romance|         6.8|        52|Sarah Polley,Tim ...|Isabel Coixet|nurse,yugoslavia,...|  3030|   8.0|\n",
      "|148|Drama,Romance|         6.8|        52|Sarah Polley,Tim ...|Isabel Coixet|nurse,yugoslavia,...|  5261|   6.0|\n",
      "|148|Drama,Romance|         6.8|        52|Sarah Polley,Tim ...|Isabel Coixet|nurse,yugoslavia,...|  6697|   6.0|\n",
      "|148|Drama,Romance|         6.8|        52|Sarah Polley,Tim ...|Isabel Coixet|nurse,yugoslavia,...|  7052|  10.0|\n",
      "|148|Drama,Romance|         6.8|        52|Sarah Polley,Tim ...|Isabel Coixet|nurse,yugoslavia,...|  7190|   8.0|\n",
      "|148|Drama,Romance|         6.8|        52|Sarah Polley,Tim ...|Isabel Coixet|nurse,yugoslavia,...|  7238|   6.0|\n",
      "|148|Drama,Romance|         6.8|        52|Sarah Polley,Tim ...|Isabel Coixet|nurse,yugoslavia,...|  7348|   8.0|\n",
      "|148|Drama,Romance|         6.8|        52|Sarah Polley,Tim ...|Isabel Coixet|nurse,yugoslavia,...|  8659|   7.0|\n",
      "|148|Drama,Romance|         6.8|        52|Sarah Polley,Tim ...|Isabel Coixet|nurse,yugoslavia,...|  8776|   8.0|\n",
      "|148|Drama,Romance|         6.8|        52|Sarah Polley,Tim ...|Isabel Coixet|nurse,yugoslavia,...|  9144|   6.0|\n",
      "|148|Drama,Romance|         6.8|        52|Sarah Polley,Tim ...|Isabel Coixet|nurse,yugoslavia,...|  9348|   4.0|\n",
      "|148|Drama,Romance|         6.8|        52|Sarah Polley,Tim ...|Isabel Coixet|nurse,yugoslavia,...|  9633|   6.0|\n",
      "|148|Drama,Romance|         6.8|        52|Sarah Polley,Tim ...|Isabel Coixet|nurse,yugoslavia,...| 10425|   4.0|\n",
      "|148|Drama,Romance|         6.8|        52|Sarah Polley,Tim ...|Isabel Coixet|nurse,yugoslavia,...| 11136|   4.0|\n",
      "|148|Drama,Romance|         6.8|        52|Sarah Polley,Tim ...|Isabel Coixet|nurse,yugoslavia,...| 11817|   6.0|\n",
      "|148|Drama,Romance|         6.8|        52|Sarah Polley,Tim ...|Isabel Coixet|nurse,yugoslavia,...| 13513|   6.0|\n",
      "|148|Drama,Romance|         6.8|        52|Sarah Polley,Tim ...|Isabel Coixet|nurse,yugoslavia,...| 13839|   4.0|\n",
      "|148|Drama,Romance|         6.8|        52|Sarah Polley,Tim ...|Isabel Coixet|nurse,yugoslavia,...| 13874|   4.0|\n",
      "+---+-------------+------------+----------+--------------------+-------------+--------------------+------+------+\n",
      "only showing top 20 rows\n",
      "\n"
     ]
    }
   ],
   "source": [
    "# 一个用户对应了不同的电影，主键变成双ID\n",
    "dtpool.show()"
   ]
  },
  {
   "cell_type": "markdown",
   "metadata": {},
   "source": [
    "# kws3进行处理"
   ]
  },
  {
   "cell_type": "code",
   "execution_count": 30,
   "metadata": {
    "scrolled": false
   },
   "outputs": [
    {
     "name": "stdout",
     "output_type": "stream",
     "text": [
      "+-----+--------------------+\n",
      "|   id|            keywords|\n",
      "+-----+--------------------+\n",
      "|  862|jealousy,toy,boy,...|\n",
      "| 8844|board game,disapp...|\n",
      "|15602|fishing,best frie...|\n",
      "|31357|based on novel,in...|\n",
      "|11862|baby,midlife cris...|\n",
      "|  949|robbery,detective...|\n",
      "|11860|paris,brother bro...|\n",
      "|45325|                    |\n",
      "| 9091|terrorist,hostage...|\n",
      "|  710|cuba,falsely accu...|\n",
      "| 9087|white house,usa p...|\n",
      "|12110|       dracula,spoof|\n",
      "|21032|wolf,dog-sledding...|\n",
      "|10858|usa president,pre...|\n",
      "| 1408|exotic island,tre...|\n",
      "|  524|poker,drug abuse,...|\n",
      "| 4584|bowling,based on ...|\n",
      "|    5|hotel,new year's ...|\n",
      "| 9273|africa,indigenous...|\n",
      "|11517|brother brother r...|\n",
      "+-----+--------------------+\n",
      "only showing top 20 rows\n",
      "\n"
     ]
    }
   ],
   "source": [
    "kws3.show()"
   ]
  },
  {
   "cell_type": "code",
   "execution_count": 31,
   "metadata": {
    "scrolled": true
   },
   "outputs": [
    {
     "name": "stdout",
     "output_type": "stream",
     "text": [
      "+-----+--------------------+--------------------+--------------------+\n",
      "|   id|            keywords|               title|             tagline|\n",
      "+-----+--------------------+--------------------+--------------------+\n",
      "| 8844|board game,disapp...|             Jumanji|Roll the dice and...|\n",
      "|15602|fishing,best frie...|    Grumpier Old Men|Still Yelling. St...|\n",
      "|31357|based on novel,in...|   Waiting to Exhale|Friends are the p...|\n",
      "|11862|baby,midlife cris...|Father of the Bri...|Just When His Wor...|\n",
      "|  949|robbery,detective...|                Heat|A Los Angeles Cri...|\n",
      "|11860|paris,brother bro...|             Sabrina|You are cordially...|\n",
      "|45325|                    |        Tom and Huck|The Original Bad ...|\n",
      "| 9091|terrorist,hostage...|        Sudden Death|Terror goes into ...|\n",
      "|  710|cuba,falsely accu...|           GoldenEye|No limits. No fea...|\n",
      "| 9087|white house,usa p...|The American Pres...|Why can't the mos...|\n",
      "|21032|wolf,dog-sledding...|               Balto|Part Dog. Part Wo...|\n",
      "|10858|usa president,pre...|               Nixon|Triumphant in Vic...|\n",
      "| 1408|exotic island,tre...|    Cutthroat Island|The Course Has Be...|\n",
      "|  524|poker,drug abuse,...|              Casino|No one stays at t...|\n",
      "| 4584|bowling,based on ...|Sense and Sensibi...|Lose your heart a...|\n",
      "|    5|hotel,new year's ...|          Four Rooms|Twelve outrageous...|\n",
      "| 9273|africa,indigenous...|Ace Ventura: When...|New animals. New ...|\n",
      "|11517|brother brother r...|         Money Train|Get on, or GET OU...|\n",
      "| 8012|gambling,miami,ba...|          Get Shorty|The mob is tough,...|\n",
      "| 1710|police brutality,...|             Copycat|One man is copyin...|\n",
      "+-----+--------------------+--------------------+--------------------+\n",
      "only showing top 20 rows\n",
      "\n"
     ]
    },
    {
     "data": {
      "text/plain": [
       "DataFrame[id: int, title: string, keywords: string, tagline: array<string>]"
      ]
     },
     "execution_count": 31,
     "metadata": {},
     "output_type": "execute_result"
    }
   ],
   "source": [
    "df1 = kws3.join(bmd5,'id').select('id','keywords','title','tagline')\n",
    "df1 = df1.dropna(how='any')\n",
    "df1.show()\n",
    "df1\n",
    "df2 = df1.select('id','title','keywords',cutwords('tagline').alias('tagline'))\n",
    "df2"
   ]
  },
  {
   "cell_type": "code",
   "execution_count": null,
   "metadata": {},
   "outputs": [],
   "source": [
    "\n",
    "# 这里应该在做一个语义分析，TfidfVectorizer是tflearn中的包。\n",
    "tf = TfidfVectorizer(analyzer='word',ngram_range=(1, 2),min_df=0, stop_words='english')\n",
    "tfidf_matrix = tf.fit_transform(smd['description'])\n",
    "\n",
    "# 这个方法的解释在上方，fit_transform生成一个矩阵\n",
    "count = CountVectorizer(analyzer='word',ngram_range=(1, 2),min_df=0, stop_words='english')\n",
    "count_matrix = count.fit_transform(smd['soup'])\n",
    "count.get_feature_names()"
   ]
  },
  {
   "cell_type": "code",
   "execution_count": null,
   "metadata": {},
   "outputs": [],
   "source": []
  },
  {
   "cell_type": "code",
   "execution_count": null,
   "metadata": {},
   "outputs": [],
   "source": []
  },
  {
   "cell_type": "code",
   "execution_count": 159,
   "metadata": {},
   "outputs": [
    {
     "name": "stdout",
     "output_type": "stream",
     "text": [
      "+-----+--------------------+\n",
      "|label|            sentence|\n",
      "+-----+--------------------+\n",
      "|  0.0|Hi I heard about ...|\n",
      "|  0.0|I wish Java could...|\n",
      "|  1.0|Logistic regressi...|\n",
      "+-----+--------------------+\n",
      "\n"
     ]
    },
    {
     "data": {
      "text/plain": [
       "DataFrame[label: double, sentence: string]"
      ]
     },
     "execution_count": 159,
     "metadata": {},
     "output_type": "execute_result"
    }
   ],
   "source": [
    "# SAMPLE\n",
    "from pyspark.ml.feature import HashingTF, IDF, Tokenizer\n",
    "sentenceData = spark.createDataFrame([\n",
    "    (0.0, \"Hi I heard about Spark\"),\n",
    "    (0.0, \"I wish Java could use case classes\"),\n",
    "    (1.0, \"Logistic regression models are neat\")\n",
    "], [\"label\", \"sentence\"])\n",
    "sentenceData.show()\n",
    "sentenceData"
   ]
  },
  {
   "cell_type": "code",
   "execution_count": 160,
   "metadata": {},
   "outputs": [
    {
     "name": "stdout",
     "output_type": "stream",
     "text": [
      "+-----+--------------------+--------------------+\n",
      "|label|            sentence|               words|\n",
      "+-----+--------------------+--------------------+\n",
      "|  0.0|Hi I heard about ...|[hi, i, heard, ab...|\n",
      "|  0.0|I wish Java could...|[i, wish, java, c...|\n",
      "|  1.0|Logistic regressi...|[logistic, regres...|\n",
      "+-----+--------------------+--------------------+\n",
      "\n"
     ]
    },
    {
     "data": {
      "text/plain": [
       "DataFrame[label: double, sentence: string, words: array<string>]"
      ]
     },
     "execution_count": 160,
     "metadata": {},
     "output_type": "execute_result"
    }
   ],
   "source": [
    "# SAMPLE\n",
    "tokenizer = Tokenizer(inputCol=\"sentence\", outputCol=\"words\")\n",
    "wordsData = tokenizer.transform(sentenceData)\n",
    "wordsData.show()\n",
    "wordsData"
   ]
  },
  {
   "cell_type": "code",
   "execution_count": 161,
   "metadata": {
    "scrolled": true
   },
   "outputs": [
    {
     "name": "stdout",
     "output_type": "stream",
     "text": [
      "+-----+--------------------+\n",
      "|label|            features|\n",
      "+-----+--------------------+\n",
      "|  0.0|(20,[0,5,9,17],[0...|\n",
      "|  0.0|(20,[2,7,9,13,15]...|\n",
      "|  1.0|(20,[4,6,13,15,18...|\n",
      "+-----+--------------------+\n",
      "\n"
     ]
    }
   ],
   "source": [
    "# SAMPLE\n",
    "hashingTF = HashingTF(inputCol=\"words\", outputCol=\"rawFeatures\", numFeatures=20)\n",
    "featurizedData = hashingTF.transform(wordsData)\n",
    "# alternatively, CountVectorizer can also be used to get term frequency vectors\n",
    "\n",
    "idf = IDF(inputCol=\"rawFeatures\", outputCol=\"features\")\n",
    "idfModel = idf.fit(featurizedData)\n",
    "rescaledData = idfModel.transform(featurizedData)\n",
    "\n",
    "rescaledData.select(\"label\", \"features\").show()"
   ]
  },
  {
   "cell_type": "code",
   "execution_count": 171,
   "metadata": {
    "scrolled": true
   },
   "outputs": [
    {
     "name": "stdout",
     "output_type": "stream",
     "text": [
      "+-----+--------------------+--------------------+\n",
      "|   id|             tagline|               words|\n",
      "+-----+--------------------+--------------------+\n",
      "| 8844|Roll the dice and...|[roll, the, dice,...|\n",
      "|15602|Still Yelling. St...|[still, yelling.,...|\n",
      "|31357|Friends are the p...|[friends, are, th...|\n",
      "|11862|Just When His Wor...|[just, when, his,...|\n",
      "|  949|A Los Angeles Cri...|[a, los, angeles,...|\n",
      "|11860|You are cordially...|[you, are, cordia...|\n",
      "|45325|The Original Bad ...|[the, original, b...|\n",
      "| 9091|Terror goes into ...|[terror, goes, in...|\n",
      "|  710|No limits. No fea...|[no, limits., no,...|\n",
      "| 9087|Why can't the mos...|[why, can't, the,...|\n",
      "|21032|Part Dog. Part Wo...|[part, dog., part...|\n",
      "|10858|Triumphant in Vic...|[triumphant, in, ...|\n",
      "| 1408|The Course Has Be...|[the, course, has...|\n",
      "|  524|No one stays at t...|[no, one, stays, ...|\n",
      "| 4584|Lose your heart a...|[lose, your, hear...|\n",
      "|    5|Twelve outrageous...|[twelve, outrageo...|\n",
      "| 9273|New animals. New ...|[new, animals., n...|\n",
      "|11517|Get on, or GET OU...|[get, on,, or, ge...|\n",
      "| 8012|The mob is tough,...|[the, mob, is, to...|\n",
      "| 1710|One man is copyin...|[one, man, is, co...|\n",
      "+-----+--------------------+--------------------+\n",
      "only showing top 20 rows\n",
      "\n"
     ]
    },
    {
     "data": {
      "text/plain": [
       "DataFrame[id: int, keywords: string, title: string, tagline: string, words: array<string>]"
      ]
     },
     "execution_count": 171,
     "metadata": {},
     "output_type": "execute_result"
    }
   ],
   "source": [
    "tokenizer = Tokenizer(inputCol=\"tagline\", outputCol=\"words\")\n",
    "# ,\"keywords\"\n",
    "wordsData = tokenizer.transform(df1)\n",
    "# 之前这里报错，是因为前面没有drop空白行\n",
    "wordsData.select('id','tagline','words').show()\n",
    "wordsData"
   ]
  },
  {
   "cell_type": "code",
   "execution_count": 173,
   "metadata": {},
   "outputs": [],
   "source": [
    "hashingTF = HashingTF(inputCol=\"words\", outputCol=\"rawFeatures\", numFeatures=20)\n",
    "featurizedData = hashingTF.transform(wordsData)\n",
    "# alternatively, CountVectorizer can also be used to get term frequency vectors"
   ]
  },
  {
   "cell_type": "code",
   "execution_count": 177,
   "metadata": {
    "scrolled": true
   },
   "outputs": [
    {
     "name": "stdout",
     "output_type": "stream",
     "text": [
      "+-----+---------------------------------------------------------------------------------------------------------------------------------------------------------------------------------------------------------------------------------------------------------------------------------------------------------------+\n",
      "|id   |features                                                                                                                                                                                                                                                                                                       |\n",
      "+-----+---------------------------------------------------------------------------------------------------------------------------------------------------------------------------------------------------------------------------------------------------------------------------------------------------------------+\n",
      "|8844 |(20,[3,4,10,13,14,15],[0.9417978315184856,1.3017304533497225,0.833930688064247,0.9820683407512242,1.3519136781739793,1.1770159678220016])                                                                                                                                                                      |\n",
      "|15602|(20,[0,4,8,10,16,17],[3.113477739300375,1.3017304533497225,0.9494987762963444,0.4169653440321235,1.0727518576307316,1.0899654557183858])                                                                                                                                                                       |\n",
      "|31357|(20,[2,4,5,6,10,11,13,14,16,17,18,19],[1.4075048395902148,2.603460906699445,1.921063975034436,2.4485932538168207,0.4169653440321235,1.545297502085161,0.9820683407512242,1.3519136781739793,1.0727518576307316,1.0899654557183858,1.3161988668544555,1.2711683960380833])                                      |\n",
      "|11862|(20,[0,1,3,4,5,6,7,8,10,13,16],[3.113477739300375,1.1950230884062811,0.9417978315184856,1.3017304533497225,0.960531987517218,1.2242966269084103,1.555987925743984,0.9494987762963444,1.2508960320963705,0.9820683407512242,2.145503715261463])                                                                 |\n",
      "|949  |(20,[6,7,9,10,12],[1.2242966269084103,1.555987925743984,1.547562508716013,0.4169653440321235,1.4597011529246786])                                                                                                                                                                                              |\n",
      "|11860|(20,[3,5,7,8,10,11,13,18],[0.9417978315184856,0.960531987517218,3.111975851487968,0.9494987762963444,1.667861376128494,1.545297502085161,0.9820683407512242,1.3161988668544555])                                                                                                                               |\n",
      "|45325|(20,[6,10,14,18],[1.2242966269084103,0.4169653440321235,1.3519136781739793,1.3161988668544555])                                                                                                                                                                                                                |\n",
      "|9091 |(20,[0,5,11,15],[1.037825913100125,0.960531987517218,1.545297502085161,1.1770159678220016])                                                                                                                                                                                                                    |\n",
      "|710  |(20,[6,11,15,16],[3.672889880725231,1.545297502085161,1.1770159678220016,1.0727518576307316])                                                                                                                                                                                                                  |\n",
      "|9087 |(20,[0,2,4,5,8,9,10,13,15,17,19],[1.037825913100125,1.4075048395902148,1.3017304533497225,0.960531987517218,0.9494987762963444,1.547562508716013,2.501792064192741,0.9820683407512242,1.1770159678220016,1.0899654557183858,1.2711683960380833])                                                               |\n",
      "|21032|(20,[0,2,5,8,10],[2.07565182620025,1.4075048395902148,0.960531987517218,0.9494987762963444,0.4169653440321235])                                                                                                                                                                                                |\n",
      "|10858|(20,[0,3,5,7,10,12,13,15,16,17],[1.037825913100125,1.8835956630369712,1.921063975034436,1.555987925743984,0.833930688064247,1.4597011529246786,0.9820683407512242,1.1770159678220016,1.0727518576307316,2.1799309114367715])                                                                                   |\n",
      "|1408 |(20,[0,1,2,3,6,7,9,10,11,12,13,15,19],[2.07565182620025,1.1950230884062811,2.8150096791804295,3.7671913260739425,1.2242966269084103,3.111975851487968,1.547562508716013,1.667861376128494,1.545297502085161,1.4597011529246786,0.9820683407512242,1.1770159678220016,1.2711683960380833])                      |\n",
      "|524  |(20,[1,4,6,8,10,11,16],[1.1950230884062811,1.3017304533497225,1.2242966269084103,0.9494987762963444,0.4169653440321235,1.545297502085161,1.0727518576307316])                                                                                                                                                  |\n",
      "|4584 |(20,[0,2,3,4,8,10,13],[1.037825913100125,1.4075048395902148,1.8835956630369712,1.3017304533497225,0.9494987762963444,0.4169653440321235,0.9820683407512242])                                                                                                                                                   |\n",
      "|5    |(20,[0,2,3,4,5,7,9,10,12,13,15,16,19],[2.07565182620025,2.8150096791804295,2.825393494555457,3.9051913600491677,3.842127950068872,4.667963777231952,3.095125017432026,0.833930688064247,1.4597011529246786,0.9820683407512242,2.354031935644003,1.0727518576307316,2.5423367920761666])                        |\n",
      "|9273 |(20,[5,9,13,16,17],[1.921063975034436,1.547562508716013,0.9820683407512242,1.0727518576307316,1.0899654557183858])                                                                                                                                                                                             |\n",
      "|11517|(20,[0,7,10,14,19],[1.037825913100125,3.111975851487968,0.4169653440321235,1.3519136781739793,2.5423367920761666])                                                                                                                                                                                             |\n",
      "|8012 |(20,[0,1,3,4,10,16,18,19],[1.037825913100125,1.1950230884062811,0.9417978315184856,1.3017304533497225,1.2508960320963705,1.0727518576307316,1.3161988668544555,1.2711683960380833])                                                                                                                            |\n",
      "|1710 |(20,[1,3,4,5,6,7,8,10,11,13,15,16,17,18],[2.3900461768125623,1.8835956630369712,2.603460906699445,0.960531987517218,2.4485932538168207,1.555987925743984,0.9494987762963444,1.667861376128494,3.090595004170322,1.9641366815024484,2.354031935644003,3.2182555728921947,1.0899654557183858,1.3161988668544555])|\n",
      "+-----+---------------------------------------------------------------------------------------------------------------------------------------------------------------------------------------------------------------------------------------------------------------------------------------------------------------+\n",
      "only showing top 20 rows\n",
      "\n"
     ]
    }
   ],
   "source": [
    "idf = IDF(inputCol=\"rawFeatures\", outputCol=\"features\")\n",
    "idfModel = idf.fit(featurizedData)\n",
    "rescaledData = idfModel.transform(featurizedData)\n",
    "rescaledData.select(\"id\",\"features\").show(truncate=False)"
   ]
  },
  {
   "cell_type": "code",
   "execution_count": 201,
   "metadata": {
    "scrolled": true
   },
   "outputs": [
    {
     "name": "stdout",
     "output_type": "stream",
     "text": [
      "+-----+--------------------+\n",
      "|   id|            features|\n",
      "+-----+--------------------+\n",
      "| 8844|(20,[3,4,10,13,14...|\n",
      "|15602|(20,[0,4,8,10,16,...|\n",
      "|31357|(20,[2,4,5,6,10,1...|\n",
      "|11862|(20,[0,1,3,4,5,6,...|\n",
      "|  949|(20,[6,7,9,10,12]...|\n",
      "|11860|(20,[3,5,7,8,10,1...|\n",
      "|45325|(20,[6,10,14,18],...|\n",
      "| 9091|(20,[0,5,11,15],[...|\n",
      "|  710|(20,[6,11,15,16],...|\n",
      "| 9087|(20,[0,2,4,5,8,9,...|\n",
      "|21032|(20,[0,2,5,8,10],...|\n",
      "|10858|(20,[0,3,5,7,10,1...|\n",
      "| 1408|(20,[0,1,2,3,6,7,...|\n",
      "|  524|(20,[1,4,6,8,10,1...|\n",
      "| 4584|(20,[0,2,3,4,8,10...|\n",
      "|    5|(20,[0,2,3,4,5,7,...|\n",
      "| 9273|(20,[5,9,13,16,17...|\n",
      "|11517|(20,[0,7,10,14,19...|\n",
      "| 8012|(20,[0,1,3,4,10,1...|\n",
      "| 1710|(20,[1,3,4,5,6,7,...|\n",
      "+-----+--------------------+\n",
      "only showing top 20 rows\n",
      "\n"
     ]
    }
   ],
   "source": [
    "result = rescaledData.select(\"id\",\"features\")\n",
    "type(result)\n",
    "result.show()"
   ]
  },
  {
   "cell_type": "code",
   "execution_count": 188,
   "metadata": {},
   "outputs": [
    {
     "data": {
      "text/plain": [
       "<class 'pyspark.mllib.linalg.distributed.RowMatrix'>"
      ]
     },
     "execution_count": 188,
     "metadata": {},
     "output_type": "execute_result"
    }
   ],
   "source": [
    "from pyspark.mllib.linalg.distributed import *\n",
    "rows = sc.parallelize([[1, 2], [1, 5]])\n",
    "mat = RowMatrix(rows)\n",
    "type(mat)"
   ]
  },
  {
   "cell_type": "code",
   "execution_count": 32,
   "metadata": {},
   "outputs": [
    {
     "data": {
      "text/plain": [
       "DataFrame[id: int, title: string, keywords: string, tagline: array<string>]"
      ]
     },
     "execution_count": 32,
     "metadata": {},
     "output_type": "execute_result"
    }
   ],
   "source": [
    "df2"
   ]
  },
  {
   "cell_type": "code",
   "execution_count": 44,
   "metadata": {},
   "outputs": [],
   "source": [
    "from pyspark.ml.feature import HashingTF, IDF, Tokenizer\n",
    "hashingTF = HashingTF(inputCol=\"tagline\", outputCol=\"rawFeatures\", numFeatures=1)\n",
    "featurizedData = hashingTF.transform(df2)\n",
    "idf = IDF(inputCol=\"rawFeatures\", outputCol=\"features\").fit(featurizedData)\n",
    "tfidf = idf.transform(featurizedData)"
   ]
  },
  {
   "cell_type": "code",
   "execution_count": 45,
   "metadata": {},
   "outputs": [],
   "source": [
    "from pyspark.ml.feature import Normalizer\n",
    "normalizer = Normalizer(inputCol=\"features\", outputCol=\"norm\")\n",
    "data = normalizer.transform(tfidf)"
   ]
  },
  {
   "cell_type": "code",
   "execution_count": 46,
   "metadata": {
    "scrolled": false
   },
   "outputs": [
    {
     "data": {
      "text/plain": [
       "<class 'pyspark.mllib.linalg.distributed.BlockMatrix'>"
      ]
     },
     "execution_count": 46,
     "metadata": {},
     "output_type": "execute_result"
    }
   ],
   "source": [
    "from pyspark.mllib.linalg.distributed import IndexedRow, IndexedRowMatrix\n",
    "mat = IndexedRowMatrix(\n",
    "    data.select(\"ID\", \"norm\")\\\n",
    "        .rdd.map(lambda row: IndexedRow(row.ID, row.norm.toArray()))).toBlockMatrix()\n",
    "type(mat)\n",
    "dot = mat.multiply(mat.transpose())\n",
    "# dot.toLocalMatrix().toArray()\n",
    "type(dot)"
   ]
  },
  {
   "cell_type": "code",
   "execution_count": 47,
   "metadata": {},
   "outputs": [
    {
     "data": {
      "text/plain": [
       "Name: org.apache.toree.interpreter.broker.BrokerException\n",
       "Message: Traceback (most recent call last):\n",
       "  File \"/usr/local/Cellar/apache-spark/2.2.1/libexec/python/pyspark/sql/utils.py\", line 63, in deco\n",
       "    return f(*a, **kw)\n",
       "  File \"/usr/local/Cellar/apache-spark/2.2.1/libexec/python/lib/py4j-0.10.4-src.zip/py4j/protocol.py\", line 319, in get_return_value\n",
       "    format(target_id, \".\", name), value)\n",
       "py4j.protocol.Py4JJavaError: An error occurred while calling o589.toLocalMatrix.\n",
       ": java.lang.IllegalArgumentException: requirement failed: The length of the values array must be less than Int.MaxValue. Currently numRows * numCols: 216266852025\n",
       "\tat scala.Predef$.require(Predef.scala:224)\n",
       "\tat org.apache.spark.mllib.linalg.distributed.BlockMatrix.toLocalMatrix(BlockMatrix.scala:307)\n",
       "\tat sun.reflect.NativeMethodAccessorImpl.invoke0(Native Method)\n",
       "\tat sun.reflect.NativeMethodAccessorImpl.invoke(NativeMethodAccessorImpl.java:62)\n",
       "\tat sun.reflect.DelegatingMethodAccessorImpl.invoke(DelegatingMethodAccessorImpl.java:43)\n",
       "\tat java.lang.reflect.Method.invoke(Method.java:498)\n",
       "\tat py4j.reflection.MethodInvoker.invoke(MethodInvoker.java:244)\n",
       "\tat py4j.reflection.ReflectionEngine.invoke(ReflectionEngine.java:357)\n",
       "\tat py4j.Gateway.invoke(Gateway.java:280)\n",
       "\tat py4j.commands.AbstractCommand.invokeMethod(AbstractCommand.java:132)\n",
       "\tat py4j.commands.CallCommand.execute(CallCommand.java:79)\n",
       "\tat py4j.GatewayConnection.run(GatewayConnection.java:214)\n",
       "\tat java.lang.Thread.run(Thread.java:748)\n",
       "\n",
       "\n",
       "During handling of the above exception, another exception occurred:\n",
       "\n",
       "Traceback (most recent call last):\n",
       "  File \"/var/folders/g4/bh0x216x6_j83zjyf806bjn40000gn/T/kernel-PySpark-370ec4db-61a8-43a8-8298-8b45cc6cc7d7/pyspark_runner.py\", line 180, in <module>\n",
       "    eval(compiled_code)\n",
       "  File \"<string>\", line 1, in <module>\n",
       "  File \"/usr/local/Cellar/apache-spark/2.2.1/libexec/python/pyspark/mllib/linalg/distributed.py\", line 1326, in toLocalMatrix\n",
       "    return self._java_matrix_wrapper.call(\"toLocalMatrix\")\n",
       "  File \"/usr/local/Cellar/apache-spark/2.2.1/libexec/python/pyspark/mllib/common.py\", line 146, in call\n",
       "    return callJavaFunc(self._sc, getattr(self._java_model, name), *a)\n",
       "  File \"/usr/local/Cellar/apache-spark/2.2.1/libexec/python/pyspark/mllib/common.py\", line 123, in callJavaFunc\n",
       "    return _java2py(sc, func(*args))\n",
       "  File \"/usr/local/Cellar/apache-spark/2.2.1/libexec/python/lib/py4j-0.10.4-src.zip/py4j/java_gateway.py\", line 1133, in __call__\n",
       "    answer, self.gateway_client, self.target_id, self.name)\n",
       "  File \"/usr/local/Cellar/apache-spark/2.2.1/libexec/python/pyspark/sql/utils.py\", line 79, in deco\n",
       "    raise IllegalArgumentException(s.split(': ', 1)[1], stackTrace)\n",
       "pyspark.sql.utils.IllegalArgumentException: 'requirement failed: The length of the values array must be less than Int.MaxValue. Currently numRows * numCols: 216266852025'\n",
       "\n",
       "StackTrace: org.apache.toree.interpreter.broker.BrokerState$$anonfun$markFailure$1.apply(BrokerState.scala:158)\n",
       "org.apache.toree.interpreter.broker.BrokerState$$anonfun$markFailure$1.apply(BrokerState.scala:158)\n",
       "scala.Option.foreach(Option.scala:257)\n",
       "org.apache.toree.interpreter.broker.BrokerState.markFailure(BrokerState.scala:157)\n",
       "sun.reflect.NativeMethodAccessorImpl.invoke0(Native Method)\n",
       "sun.reflect.NativeMethodAccessorImpl.invoke(NativeMethodAccessorImpl.java:62)\n",
       "sun.reflect.DelegatingMethodAccessorImpl.invoke(DelegatingMethodAccessorImpl.java:43)\n",
       "java.lang.reflect.Method.invoke(Method.java:498)\n",
       "py4j.reflection.MethodInvoker.invoke(MethodInvoker.java:244)\n",
       "py4j.reflection.ReflectionEngine.invoke(ReflectionEngine.java:357)\n",
       "py4j.Gateway.invoke(Gateway.java:280)\n",
       "py4j.commands.AbstractCommand.invokeMethod(AbstractCommand.java:132)\n",
       "py4j.commands.CallCommand.execute(CallCommand.java:79)\n",
       "py4j.GatewayConnection.run(GatewayConnection.java:214)\n",
       "java.lang.Thread.run(Thread.java:748)"
      ]
     },
     "execution_count": 47,
     "metadata": {},
     "output_type": "execute_result"
    }
   ],
   "source": [
    "dot.toLocalMatrix().toArray()"
   ]
  },
  {
   "cell_type": "code",
   "execution_count": 36,
   "metadata": {},
   "outputs": [
    {
     "name": "stdout",
     "output_type": "stream",
     "text": [
      "<pyspark.mllib.linalg.distributed.BlockMatrix object at 0x10dd58c50>\n"
     ]
    }
   ],
   "source": [
    "print(dot)"
   ]
  },
  {
   "cell_type": "code",
   "execution_count": 37,
   "metadata": {},
   "outputs": [
    {
     "name": "stdout",
     "output_type": "stream",
     "text": [
      "<pyspark.mllib.linalg.distributed.BlockMatrix object at 0x10dd454a8>\n"
     ]
    }
   ],
   "source": [
    "print(mat)"
   ]
  },
  {
   "cell_type": "code",
   "execution_count": null,
   "metadata": {},
   "outputs": [],
   "source": []
  },
  {
   "cell_type": "code",
   "execution_count": null,
   "metadata": {},
   "outputs": [],
   "source": [
    "import pyspark.sql.functions as psf\n",
    "dot_udf = psf.udf(lambda x,y: float(x.dot(y)), DoubleType())\n",
    "data.alias(\"i\").join(data.alias(\"j\"), psf.col(\"i.ID\") < psf.col(\"j.ID\"))\\\n",
    "    .select(\n",
    "        psf.col(\"i.ID\").alias(\"i\"), \n",
    "        psf.col(\"j.ID\").alias(\"j\"), \n",
    "        dot_udf(\"i.norm\", \"j.norm\").alias(\"dot\"))\\\n",
    "    .sort(\"i\", \"j\")\\\n",
    "    .show()"
   ]
  },
  {
   "cell_type": "code",
   "execution_count": null,
   "metadata": {},
   "outputs": [],
   "source": []
  },
  {
   "cell_type": "code",
   "execution_count": null,
   "metadata": {},
   "outputs": [],
   "source": []
  }
 ],
 "metadata": {
  "kernelspec": {
   "display_name": "Apache Toree - PySpark",
   "language": "python",
   "name": "apache_toree_pyspark"
  },
  "language_info": {
   "name": "scala",
   "version": "2.11.8"
  }
 },
 "nbformat": 4,
 "nbformat_minor": 2
}
