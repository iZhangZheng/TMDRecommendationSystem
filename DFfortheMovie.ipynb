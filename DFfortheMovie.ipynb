{
 "cells": [
  {
   "cell_type": "code",
   "execution_count": 8,
   "metadata": {},
   "outputs": [],
   "source": [
    "from pyspark.sql.types import *"
   ]
  },
  {
   "cell_type": "markdown",
   "metadata": {},
   "source": [
    "* 可以用schema初始化数据类型，但是还需要对应位置，就神烦，不整了，GTMD\n",
    "* 如果用这个方法，需要在读取数据的时候增加参数schema，这里设置的结构就叫schema，所以直接写schema=schema\n",
    "* 还需要导入包：`from pyspark.sql.types import *`\n",
    "* schema写法：`schema = StructType([StructField(\"id\", IntegerType()),StructField(\"title\", StringType()),StructField(\"tagline\", StringType()),StructField(\"vote_average\", FloatType()),StructField(\"vote_count\", IntegerType())])`\n",
    "* 我觉得可以在python里直接处理好数据再读到这里"
   ]
  },
  {
   "cell_type": "markdown",
   "metadata": {},
   "source": [
    "* 当你读取csv格式错误的时候，你就加一个`multiLine=True,escape='\"'`，专治各种不服"
   ]
  },
  {
   "cell_type": "code",
   "execution_count": 9,
   "metadata": {},
   "outputs": [],
   "source": [
    "df1 = spark.read.csv('/Users/apple/Desktop/5003-project/moviedata/TMD/movies_metadata.csv',multiLine=True,escape='\"', header=True, inferSchema=True)"
   ]
  },
  {
   "cell_type": "code",
   "execution_count": 10,
   "metadata": {
    "scrolled": true
   },
   "outputs": [
    {
     "name": "stdout",
     "output_type": "stream",
     "text": [
      "+-----+---------------------+--------+--------------------+--------------------+-----+---------+-----------------+--------------------+--------------------+----------+--------------------+--------------------+--------------------+------------+---------+-------+--------------------+--------+--------------------+--------------------+-----+------------+----------+\n",
      "|adult|belongs_to_collection|  budget|              genres|            homepage|   id|  imdb_id|original_language|      original_title|            overview|popularity|         poster_path|production_companies|production_countries|release_date|  revenue|runtime|    spoken_languages|  status|             tagline|               title|video|vote_average|vote_count|\n",
      "+-----+---------------------+--------+--------------------+--------------------+-----+---------+-----------------+--------------------+--------------------+----------+--------------------+--------------------+--------------------+------------+---------+-------+--------------------+--------+--------------------+--------------------+-----+------------+----------+\n",
      "|False| {'id': 10194, 'na...|30000000|[{'id': 16, 'name...|http://toystory.d...|  862|tt0114709|               en|           Toy Story|Led by Woody, And...| 21.946943|/rhIRbceoE9lR4veE...|[{'name': 'Pixar ...|[{'iso_3166_1': '...|  1995-10-30|373554033|   81.0|[{'iso_639_1': 'e...|Released|                null|           Toy Story|false|         7.7|      5415|\n",
      "|False|                 null|65000000|[{'id': 12, 'name...|                null| 8844|tt0113497|               en|             Jumanji|When siblings Jud...| 17.015539|/vzmL6fP7aPKNKPRT...|[{'name': 'TriSta...|[{'iso_3166_1': '...|  1995-12-15|262797249|  104.0|[{'iso_639_1': 'e...|Released|Roll the dice and...|             Jumanji|false|         6.9|      2413|\n",
      "|False| {'id': 119050, 'n...|       0|[{'id': 10749, 'n...|                null|15602|tt0113228|               en|    Grumpier Old Men|A family wedding ...|   11.7129|/6ksm1sjKMFLbO7UY...|[{'name': 'Warner...|[{'iso_3166_1': '...|  1995-12-22|        0|  101.0|[{'iso_639_1': 'e...|Released|Still Yelling. St...|    Grumpier Old Men|false|         6.5|        92|\n",
      "|False|                 null|16000000|[{'id': 35, 'name...|                null|31357|tt0114885|               en|   Waiting to Exhale|Cheated on, mistr...|  3.859495|/16XOMpEaLWkrcPqS...|[{'name': 'Twenti...|[{'iso_3166_1': '...|  1995-12-22| 81452156|  127.0|[{'iso_639_1': 'e...|Released|Friends are the p...|   Waiting to Exhale|false|         6.1|        34|\n",
      "|False| {'id': 96871, 'na...|       0|[{'id': 35, 'name...|                null|11862|tt0113041|               en|Father of the Bri...|Just when George ...|  8.387519|/e64sOI48hQXyru7n...|[{'name': 'Sandol...|[{'iso_3166_1': '...|  1995-02-10| 76578911|  106.0|[{'iso_639_1': 'e...|Released|Just When His Wor...|Father of the Bri...|false|         5.7|       173|\n",
      "|False|                 null|60000000|[{'id': 28, 'name...|                null|  949|tt0113277|               en|                Heat|Obsessive master ...| 17.924927|/zMyfPUelumio3tiD...|[{'name': 'Regenc...|[{'iso_3166_1': '...|  1995-12-15|187436818|  170.0|[{'iso_639_1': 'e...|Released|A Los Angeles Cri...|                Heat|false|         7.7|      1886|\n",
      "|False|                 null|58000000|[{'id': 35, 'name...|                null|11860|tt0114319|               en|             Sabrina|An ugly duckling ...|  6.677277|/jQh15y5YB7bWz1Nt...|[{'name': 'Paramo...|[{'iso_3166_1': '...|  1995-12-15|        0|  127.0|[{'iso_639_1': 'f...|Released|You are cordially...|             Sabrina|false|         6.2|       141|\n",
      "|False|                 null|       0|[{'id': 28, 'name...|                null|45325|tt0112302|               en|        Tom and Huck|A mischievous you...|  2.561161|/sGO5Qa55p7wTu7FJ...|[{'name': 'Walt D...|[{'iso_3166_1': '...|  1995-12-22|        0|   97.0|[{'iso_639_1': 'e...|Released|The Original Bad ...|        Tom and Huck|false|         5.4|        45|\n",
      "|False|                 null|35000000|[{'id': 28, 'name...|                null| 9091|tt0114576|               en|        Sudden Death|International act...|   5.23158|/eoWvKD60lT95Ss1M...|[{'name': 'Univer...|[{'iso_3166_1': '...|  1995-12-22| 64350171|  106.0|[{'iso_639_1': 'e...|Released|Terror goes into ...|        Sudden Death|false|         5.5|       174|\n",
      "|False| {'id': 645, 'name...|58000000|[{'id': 12, 'name...|http://www.mgm.co...|  710|tt0113189|               en|           GoldenEye|James Bond must u...| 14.686036|/5c0ovjT41KnYIHYu...|[{'name': 'United...|[{'iso_3166_1': '...|  1995-11-16|352194034|  130.0|[{'iso_639_1': 'e...|Released|No limits. No fea...|           GoldenEye|false|         6.6|      1194|\n",
      "|False|                 null|62000000|[{'id': 35, 'name...|                null| 9087|tt0112346|               en|The American Pres...|Widowed U.S. pres...|  6.318445|/lymPNGLZgPHuqM29...|[{'name': 'Columb...|[{'iso_3166_1': '...|  1995-11-17|107879496|  106.0|[{'iso_639_1': 'e...|Released|Why can't the mos...|The American Pres...|false|         6.5|       199|\n",
      "|False|                 null|       0|[{'id': 35, 'name...|                null|12110|tt0112896|               en|Dracula: Dead and...|When a lawyer sho...|  5.430331|/xve4cgfYItnOhtzL...|[{'name': 'Columb...|[{'iso_3166_1': '...|  1995-12-22|        0|   88.0|[{'iso_639_1': 'e...|Released|                null|Dracula: Dead and...|false|         5.7|       210|\n",
      "|False| {'id': 117693, 'n...|       0|[{'id': 10751, 'n...|                null|21032|tt0112453|               en|               Balto|An outcast half-w...| 12.140733|/gV5PCAVCPNxlOLFM...|[{'name': 'Univer...|[{'iso_3166_1': '...|  1995-12-22| 11348324|   78.0|[{'iso_639_1': 'e...|Released|Part Dog. Part Wo...|               Balto|false|         7.1|       423|\n",
      "|False|                 null|44000000|[{'id': 36, 'name...|                null|10858|tt0113987|               en|               Nixon|An all-star cast ...|     5.092|/cICkmCEiXRhvZmbu...|[{'name': 'Hollyw...|[{'iso_3166_1': '...|  1995-12-22| 13681765|  192.0|[{'iso_639_1': 'e...|Released|Triumphant in Vic...|               Nixon|false|         7.1|        72|\n",
      "|False|                 null|98000000|[{'id': 28, 'name...|                null| 1408|tt0112760|               en|    Cutthroat Island|Morgan Adams and ...|  7.284477|/odM9973kIv9hcjfH...|[{'name': 'Le Stu...|[{'iso_3166_1': '...|  1995-12-22| 10017322|  119.0|[{'iso_639_1': 'e...|Released|The Course Has Be...|    Cutthroat Island|false|         5.7|       137|\n",
      "|False|                 null|52000000|[{'id': 18, 'name...|                null|  524|tt0112641|               en|              Casino|The life of the g...| 10.137389|/xo517ibXBDdYQY81...|[{'name': 'Univer...|[{'iso_3166_1': '...|  1995-11-22|116112375|  178.0|[{'iso_639_1': 'e...|Released|No one stays at t...|              Casino|false|         7.8|      1343|\n",
      "|False|                 null|16500000|[{'id': 18, 'name...|                null| 4584|tt0114388|               en|Sense and Sensibi...|Rich Mr. Dashwood...| 10.673167|/lA9HTy84Bb6ZwNey...|[{'name': 'Columb...|[{'iso_3166_1': '...|  1995-12-13|135000000|  136.0|[{'iso_639_1': 'e...|Released|Lose your heart a...|Sense and Sensibi...|false|         7.2|       364|\n",
      "|False|                 null| 4000000|[{'id': 80, 'name...|                null|    5|tt0113101|               en|          Four Rooms|It's Ted the Bell...|  9.026586|/eQs5hh9rxrk1m4xH...|[{'name': 'Mirama...|[{'iso_3166_1': '...|  1995-12-09|  4300000|   98.0|[{'iso_639_1': 'e...|Released|Twelve outrageous...|          Four Rooms|false|         6.5|       539|\n",
      "|False| {'id': 3167, 'nam...|30000000|[{'id': 80, 'name...|                null| 9273|tt0112281|               en|Ace Ventura: When...|Summoned from an ...|  8.205448|/wRlGnJhEzcxBjvWt...|[{'name': 'O Ente...|[{'iso_3166_1': '...|  1995-11-10|212385533|   90.0|[{'iso_639_1': 'e...|Released|New animals. New ...|Ace Ventura: When...|false|         6.1|      1128|\n",
      "|False|                 null|60000000|[{'id': 28, 'name...|                null|11517|tt0113845|               en|         Money Train|A vengeful New Yo...|  7.337906|/jSozzzVOR2kfXgTU...|[{'name': 'Columb...|[{'iso_3166_1': '...|  1995-11-21| 35431113|  103.0|[{'iso_639_1': 'e...|Released|Get on, or GET OU...|         Money Train|false|         5.4|       224|\n",
      "+-----+---------------------+--------+--------------------+--------------------+-----+---------+-----------------+--------------------+--------------------+----------+--------------------+--------------------+--------------------+------------+---------+-------+--------------------+--------+--------------------+--------------------+-----+------------+----------+\n",
      "only showing top 20 rows\n",
      "\n"
     ]
    }
   ],
   "source": [
    "# 一眼就能看出来这个具体结构一眼看不出来，那就不看了吧\n",
    "df1.show()"
   ]
  },
  {
   "cell_type": "code",
   "execution_count": 11,
   "metadata": {},
   "outputs": [
    {
     "name": "stdout",
     "output_type": "stream",
     "text": [
      "root\n",
      " |-- adult: string (nullable = true)\n",
      " |-- belongs_to_collection: string (nullable = true)\n",
      " |-- budget: string (nullable = true)\n",
      " |-- genres: string (nullable = true)\n",
      " |-- homepage: string (nullable = true)\n",
      " |-- id: string (nullable = true)\n",
      " |-- imdb_id: string (nullable = true)\n",
      " |-- original_language: string (nullable = true)\n",
      " |-- original_title: string (nullable = true)\n",
      " |-- overview: string (nullable = true)\n",
      " |-- popularity: string (nullable = true)\n",
      " |-- poster_path: string (nullable = true)\n",
      " |-- production_companies: string (nullable = true)\n",
      " |-- production_countries: string (nullable = true)\n",
      " |-- release_date: string (nullable = true)\n",
      " |-- revenue: long (nullable = true)\n",
      " |-- runtime: double (nullable = true)\n",
      " |-- spoken_languages: string (nullable = true)\n",
      " |-- status: string (nullable = true)\n",
      " |-- tagline: string (nullable = true)\n",
      " |-- title: string (nullable = true)\n",
      " |-- video: boolean (nullable = true)\n",
      " |-- vote_average: double (nullable = true)\n",
      " |-- vote_count: integer (nullable = true)\n",
      "\n"
     ]
    }
   ],
   "source": [
    "# 看一看这个数据包含哪些特征\n",
    "df1.printSchema()"
   ]
  },
  {
   "cell_type": "code",
   "execution_count": 12,
   "metadata": {
    "scrolled": true
   },
   "outputs": [
    {
     "name": "stdout",
     "output_type": "stream",
     "text": [
      "+--------------------+-----+--------------------+--------------------+------------+----------+\n",
      "|              genres|   id|             tagline|               title|vote_average|vote_count|\n",
      "+--------------------+-----+--------------------+--------------------+------------+----------+\n",
      "|[{'id': 16, 'name...|  862|                null|           Toy Story|         7.7|      5415|\n",
      "|[{'id': 12, 'name...| 8844|Roll the dice and...|             Jumanji|         6.9|      2413|\n",
      "|[{'id': 10749, 'n...|15602|Still Yelling. St...|    Grumpier Old Men|         6.5|        92|\n",
      "|[{'id': 35, 'name...|31357|Friends are the p...|   Waiting to Exhale|         6.1|        34|\n",
      "|[{'id': 35, 'name...|11862|Just When His Wor...|Father of the Bri...|         5.7|       173|\n",
      "|[{'id': 28, 'name...|  949|A Los Angeles Cri...|                Heat|         7.7|      1886|\n",
      "|[{'id': 35, 'name...|11860|You are cordially...|             Sabrina|         6.2|       141|\n",
      "|[{'id': 28, 'name...|45325|The Original Bad ...|        Tom and Huck|         5.4|        45|\n",
      "|[{'id': 28, 'name...| 9091|Terror goes into ...|        Sudden Death|         5.5|       174|\n",
      "|[{'id': 12, 'name...|  710|No limits. No fea...|           GoldenEye|         6.6|      1194|\n",
      "|[{'id': 35, 'name...| 9087|Why can't the mos...|The American Pres...|         6.5|       199|\n",
      "|[{'id': 35, 'name...|12110|                null|Dracula: Dead and...|         5.7|       210|\n",
      "|[{'id': 10751, 'n...|21032|Part Dog. Part Wo...|               Balto|         7.1|       423|\n",
      "|[{'id': 36, 'name...|10858|Triumphant in Vic...|               Nixon|         7.1|        72|\n",
      "|[{'id': 28, 'name...| 1408|The Course Has Be...|    Cutthroat Island|         5.7|       137|\n",
      "|[{'id': 18, 'name...|  524|No one stays at t...|              Casino|         7.8|      1343|\n",
      "|[{'id': 18, 'name...| 4584|Lose your heart a...|Sense and Sensibi...|         7.2|       364|\n",
      "|[{'id': 80, 'name...|    5|Twelve outrageous...|          Four Rooms|         6.5|       539|\n",
      "|[{'id': 80, 'name...| 9273|New animals. New ...|Ace Ventura: When...|         6.1|      1128|\n",
      "|[{'id': 28, 'name...|11517|Get on, or GET OU...|         Money Train|         5.4|       224|\n",
      "+--------------------+-----+--------------------+--------------------+------------+----------+\n",
      "only showing top 20 rows\n",
      "\n"
     ]
    }
   ],
   "source": [
    "# 抽出我们需要的那些特征\n",
    "bmd = df1.select('genres','id','tagline','title','vote_average','vote_count')\n",
    "bmd.show()"
   ]
  },
  {
   "cell_type": "markdown",
   "metadata": {},
   "source": [
    "bmd的数据类型:\n",
    "\n",
    "`DataFrame[genres: string, id: string, tagline: string, title: string, vote_average: double, vote_count: int]`"
   ]
  },
  {
   "cell_type": "markdown",
   "metadata": {},
   "source": [
    "* 知道怎么转换数据类型了，开心！在select里面写`表名['列名'].astype('int')`"
   ]
  },
  {
   "cell_type": "code",
   "execution_count": 13,
   "metadata": {},
   "outputs": [],
   "source": [
    "bmd2 = bmd.select('genres',bmd['id'].astype('int'),'tagline','title','vote_average','vote_count')"
   ]
  },
  {
   "cell_type": "markdown",
   "metadata": {},
   "source": [
    "bmd2的数据类型:\n",
    "\n",
    "`DataFrame[genres: string, id: int, tagline: string, title: string, vote_average: double, vote_count: int]`"
   ]
  },
  {
   "cell_type": "code",
   "execution_count": 14,
   "metadata": {},
   "outputs": [],
   "source": [
    "cres = spark.read.csv('/Users/apple/Desktop/5003-project/moviedata/TMD/credits.csv',multiLine=True,escape='\"', header=True, inferSchema=True)"
   ]
  },
  {
   "cell_type": "code",
   "execution_count": 15,
   "metadata": {
    "scrolled": true
   },
   "outputs": [
    {
     "name": "stdout",
     "output_type": "stream",
     "text": [
      "+--------------------+--------------------+-----+\n",
      "|                cast|                crew|   id|\n",
      "+--------------------+--------------------+-----+\n",
      "|[{'cast_id': 14, ...|[{'credit_id': '5...|  862|\n",
      "|[{'cast_id': 1, '...|[{'credit_id': '5...| 8844|\n",
      "|[{'cast_id': 2, '...|[{'credit_id': '5...|15602|\n",
      "|[{'cast_id': 1, '...|[{'credit_id': '5...|31357|\n",
      "|[{'cast_id': 1, '...|[{'credit_id': '5...|11862|\n",
      "|[{'cast_id': 25, ...|[{'credit_id': '5...|  949|\n",
      "|[{'cast_id': 1, '...|[{'credit_id': '5...|11860|\n",
      "|[{'cast_id': 2, '...|[{'credit_id': '5...|45325|\n",
      "|[{'cast_id': 1, '...|[{'credit_id': '5...| 9091|\n",
      "|[{'cast_id': 1, '...|[{'credit_id': '5...|  710|\n",
      "|[{'cast_id': 1, '...|[{'credit_id': '5...| 9087|\n",
      "|[{'cast_id': 9, '...|[{'credit_id': '5...|12110|\n",
      "|[{'cast_id': 1, '...|[{'credit_id': '5...|21032|\n",
      "|[{'cast_id': 1, '...|[{'credit_id': '5...|10858|\n",
      "|[{'cast_id': 1, '...|[{'credit_id': '5...| 1408|\n",
      "|[{'cast_id': 4, '...|[{'credit_id': '5...|  524|\n",
      "|[{'cast_id': 6, '...|[{'credit_id': '5...| 4584|\n",
      "|[{'cast_id': 42, ...|[{'credit_id': '5...|    5|\n",
      "|[{'cast_id': 1, '...|[{'credit_id': '5...| 9273|\n",
      "|[{'cast_id': 1, '...|[{'credit_id': '5...|11517|\n",
      "+--------------------+--------------------+-----+\n",
      "only showing top 20 rows\n",
      "\n"
     ]
    }
   ],
   "source": [
    "cres.show()"
   ]
  },
  {
   "cell_type": "markdown",
   "metadata": {},
   "source": [
    "cres的数据类型：\n",
    "\n",
    "`DataFrame[cast: string, crew: string, id: int]`"
   ]
  },
  {
   "cell_type": "code",
   "execution_count": 16,
   "metadata": {},
   "outputs": [],
   "source": [
    "kws = spark.read.csv('/Users/apple/Desktop/5003-project/moviedata/TMD/keywords.csv',multiLine=True,escape='\"', header=True, inferSchema=True)"
   ]
  },
  {
   "cell_type": "code",
   "execution_count": 17,
   "metadata": {},
   "outputs": [
    {
     "name": "stdout",
     "output_type": "stream",
     "text": [
      "+-----+--------------------+\n",
      "|   id|            keywords|\n",
      "+-----+--------------------+\n",
      "|  862|[{'id': 931, 'nam...|\n",
      "| 8844|[{'id': 10090, 'n...|\n",
      "|15602|[{'id': 1495, 'na...|\n",
      "|31357|[{'id': 818, 'nam...|\n",
      "|11862|[{'id': 1009, 'na...|\n",
      "|  949|[{'id': 642, 'nam...|\n",
      "|11860|[{'id': 90, 'name...|\n",
      "|45325|                  []|\n",
      "| 9091|[{'id': 949, 'nam...|\n",
      "|  710|[{'id': 701, 'nam...|\n",
      "| 9087|[{'id': 833, 'nam...|\n",
      "|12110|[{'id': 3633, 'na...|\n",
      "|21032|[{'id': 1994, 'na...|\n",
      "|10858|[{'id': 840, 'nam...|\n",
      "| 1408|[{'id': 911, 'nam...|\n",
      "|  524|[{'id': 383, 'nam...|\n",
      "| 4584|[{'id': 420, 'nam...|\n",
      "|    5|[{'id': 612, 'nam...|\n",
      "| 9273|[{'id': 409, 'nam...|\n",
      "|11517|[{'id': 380, 'nam...|\n",
      "+-----+--------------------+\n",
      "only showing top 20 rows\n",
      "\n"
     ]
    }
   ],
   "source": [
    "kws.show()"
   ]
  },
  {
   "cell_type": "markdown",
   "metadata": {},
   "source": [
    "kws的数据类型：\n",
    "\n",
    "`DataFrame[id: int, keywords: string]`"
   ]
  },
  {
   "cell_type": "code",
   "execution_count": 18,
   "metadata": {},
   "outputs": [],
   "source": [
    "df2 = spark.read.csv('/Users/apple/Desktop/5003-project/moviedata/TMD/ratings.csv',multiLine=True,escape='\"', header=True, inferSchema=True)"
   ]
  },
  {
   "cell_type": "code",
   "execution_count": 19,
   "metadata": {},
   "outputs": [
    {
     "name": "stdout",
     "output_type": "stream",
     "text": [
      "+---+-------+------+\n",
      "| id|movieID|rating|\n",
      "+---+-------+------+\n",
      "|  1|    110|   1.0|\n",
      "|  1|    147|   4.5|\n",
      "|  1|    858|   5.0|\n",
      "|  1|   1221|   5.0|\n",
      "|  1|   1246|   5.0|\n",
      "|  1|   1968|   4.0|\n",
      "|  1|   2762|   4.5|\n",
      "|  1|   2918|   5.0|\n",
      "|  1|   2959|   4.0|\n",
      "|  1|   4226|   4.0|\n",
      "|  1|   4878|   5.0|\n",
      "|  1|   5577|   5.0|\n",
      "|  1|  33794|   4.0|\n",
      "|  1|  54503|   3.5|\n",
      "|  1|  58559|   4.0|\n",
      "|  1|  59315|   5.0|\n",
      "|  1|  68358|   5.0|\n",
      "|  1|  69844|   5.0|\n",
      "|  1|  73017|   5.0|\n",
      "|  1|  81834|   5.0|\n",
      "+---+-------+------+\n",
      "only showing top 20 rows\n",
      "\n"
     ]
    }
   ],
   "source": [
    "rats = df2.select(df2['userId'].alias('id'),'movieID','rating')\n",
    "rats.show()"
   ]
  },
  {
   "cell_type": "code",
   "execution_count": 20,
   "metadata": {},
   "outputs": [
    {
     "data": {
      "text/plain": [
       "DataFrame[id: int, movieID: int, rating: double]"
      ]
     },
     "execution_count": 20,
     "metadata": {},
     "output_type": "execute_result"
    }
   ],
   "source": [
    "rats.cache()"
   ]
  },
  {
   "cell_type": "markdown",
   "metadata": {},
   "source": [
    "rats的数据类型：\n",
    "\n",
    "`DataFrame[id: int, movieID: int, rating: double]`"
   ]
  },
  {
   "cell_type": "markdown",
   "metadata": {},
   "source": [
    "### 到这个部分，所有的数据都读取进来，完成了清理，并转换成了需要的格式！"
   ]
  },
  {
   "cell_type": "code",
   "execution_count": null,
   "metadata": {},
   "outputs": [],
   "source": []
  }
 ],
 "metadata": {
  "kernelspec": {
   "display_name": "Apache Toree - PySpark",
   "language": "python",
   "name": "apache_toree_pyspark"
  },
  "language_info": {
   "name": "scala",
   "version": "2.11.8"
  }
 },
 "nbformat": 4,
 "nbformat_minor": 2
}
